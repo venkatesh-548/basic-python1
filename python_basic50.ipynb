{
 "cells": [
  {
   "cell_type": "code",
   "execution_count": null,
   "metadata": {},
   "outputs": [],
   "source": [
    "#basic programmes from 50-"
   ]
  },
  {
   "cell_type": "code",
   "execution_count": 1,
   "metadata": {},
   "outputs": [
    {
     "name": "stdout",
     "output_type": "stream",
     "text": [
      "[10, 20, 30, 40, 'a', 'b', 'c', 'd']\n"
     ]
    }
   ],
   "source": [
    "# 50 to concat list and tuple by using the compound assignment\n",
    "\n",
    "l=[10,20,30,40]\n",
    "l+=(\"a\",\"b\",\"c\",\"d\")\n",
    "print(l)"
   ]
  },
  {
   "cell_type": "code",
   "execution_count": 2,
   "metadata": {},
   "outputs": [
    {
     "data": {
      "text/plain": [
       "True"
      ]
     },
     "execution_count": 2,
     "metadata": {},
     "output_type": "execute_result"
    }
   ],
   "source": [
    "# 51 to check given number is divisible by the 3\n",
    "\n",
    "n=int(input(\"enter a number:\"))\n",
    "n%3==0\n",
    "    "
   ]
  },
  {
   "cell_type": "code",
   "execution_count": 5,
   "metadata": {},
   "outputs": [
    {
     "data": {
      "text/plain": [
       "True"
      ]
     },
     "execution_count": 5,
     "metadata": {},
     "output_type": "execute_result"
    }
   ],
   "source": [
    "#52 to check the given number is diisible by 2 and 6\n",
    "\n",
    "n=21\n",
    "n%2==0 and n%6==0\n",
    "\n",
    "\n",
    "n=24\n",
    "n%2==0 and n%6==0\n"
   ]
  },
  {
   "cell_type": "code",
   "execution_count": 8,
   "metadata": {},
   "outputs": [
    {
     "data": {
      "text/plain": [
       "True"
      ]
     },
     "execution_count": 8,
     "metadata": {},
     "output_type": "execute_result"
    }
   ],
   "source": [
    "# 53 to extract the last digit of the number and check it is divisible by 3\n",
    "\n",
    "n=1997\n",
    "rem=n%10\n",
    "rem%3==0\n",
    "\n",
    "n=1996\n",
    "rem=n%10\n",
    "rem%3==0"
   ]
  },
  {
   "cell_type": "code",
   "execution_count": 9,
   "metadata": {},
   "outputs": [
    {
     "name": "stdout",
     "output_type": "stream",
     "text": [
      "9\n"
     ]
    }
   ],
   "source": [
    "# 54 to extract the the last int by using the type casting\n",
    "\n",
    "s=2029\n",
    "n=str(s)\n",
    "print(int(n[-1]))"
   ]
  },
  {
   "cell_type": "code",
   "execution_count": 11,
   "metadata": {},
   "outputs": [
    {
     "data": {
      "text/plain": [
       "False"
      ]
     },
     "execution_count": 11,
     "metadata": {},
     "output_type": "execute_result"
    }
   ],
   "source": [
    "# 55 to check the given number is greater than 150\n",
    "\n",
    "n=151\n",
    "n>150\n",
    "\n",
    "n=140\n",
    "n>150"
   ]
  },
  {
   "cell_type": "code",
   "execution_count": 14,
   "metadata": {},
   "outputs": [
    {
     "data": {
      "text/plain": [
       "False"
      ]
     },
     "execution_count": 14,
     "metadata": {},
     "output_type": "execute_result"
    }
   ],
   "source": [
    "# 56 to check the given number is greater than or equal to 100\n",
    "\n",
    "n=100\n",
    "n>=100\n",
    "\n",
    "s=132\n",
    "s>=100\n",
    "\n",
    "a=99\n",
    "a>=100\n"
   ]
  },
  {
   "cell_type": "code",
   "execution_count": 16,
   "metadata": {},
   "outputs": [
    {
     "data": {
      "text/plain": [
       "True"
      ]
     },
     "execution_count": 16,
     "metadata": {},
     "output_type": "execute_result"
    }
   ],
   "source": [
    "# 57 to check the given number is greater than 16 and less than 24\n",
    "\n",
    "n=20\n",
    "n>16 and n<24\n",
    "#true\n",
    "\n",
    "n=25\n",
    "n>16 and n<24\n",
    "#false\n",
    "\n",
    "n=23\n",
    "16<n<24\n",
    "#true"
   ]
  },
  {
   "cell_type": "code",
   "execution_count": 17,
   "metadata": {},
   "outputs": [
    {
     "data": {
      "text/plain": [
       "True"
      ]
     },
     "execution_count": 17,
     "metadata": {},
     "output_type": "execute_result"
    }
   ],
   "source": [
    "# 58 to check the number is less than or equal to 100\n",
    "\n",
    "n=100\n",
    "n<=100\n",
    "#true\n",
    "\n",
    "n=101\n",
    "n<=100\n",
    "#false\n",
    "\n",
    "n=90\n",
    "n<=100\n",
    "#true"
   ]
  },
  {
   "cell_type": "code",
   "execution_count": 18,
   "metadata": {},
   "outputs": [
    {
     "data": {
      "text/plain": [
       "True"
      ]
     },
     "execution_count": 18,
     "metadata": {},
     "output_type": "execute_result"
    }
   ],
   "source": [
    "# 59 to check the given is is even\n",
    "\n",
    "n=121\n",
    "n%2==0\n",
    "#false\n",
    "\n",
    "n=256\n",
    "n%2==0\n",
    "#true"
   ]
  },
  {
   "cell_type": "code",
   "execution_count": 19,
   "metadata": {},
   "outputs": [
    {
     "data": {
      "text/plain": [
       "False"
      ]
     },
     "execution_count": 19,
     "metadata": {},
     "output_type": "execute_result"
    }
   ],
   "source": [
    "# 60 to check the number is odd\n",
    "\n",
    "n=233\n",
    "n%2!=0\n",
    "#true\n",
    "\n",
    "n=122\n",
    "n%2!=0\n",
    "#false"
   ]
  },
  {
   "cell_type": "code",
   "execution_count": 22,
   "metadata": {},
   "outputs": [
    {
     "name": "stdout",
     "output_type": "stream",
     "text": [
      "strstrstrstrstr\n",
      "[10, 20, 30, 10, 20, 30, 10, 20, 30, 10, 20, 30, 10, 20, 30]\n",
      "('a', 'b', 'c', 'a', 'b', 'c', 'a', 'b', 'c', 'a', 'b', 'c')\n"
     ]
    }
   ],
   "source": [
    "# 62 to perform the replication of the string\n",
    "\n",
    "a=\"str\"\n",
    "print(a*5)\n",
    "\n",
    "a=[10,20,30]\n",
    "print(a*5)\n",
    "\n",
    "a=(\"a\",\"b\",\"c\")\n",
    "print(a*4)"
   ]
  },
  {
   "cell_type": "code",
   "execution_count": 24,
   "metadata": {},
   "outputs": [
    {
     "data": {
      "text/plain": [
       "True"
      ]
     },
     "execution_count": 24,
     "metadata": {},
     "output_type": "execute_result"
    }
   ],
   "source": [
    "# 63 to check the given number is greater than 22 and divisible by 3\n",
    "\n",
    "n=29\n",
    "n>22 and n%3==0\n",
    "#false\n",
    "\n",
    "s=24\n",
    "s>22 and s%3==0\n",
    "#true"
   ]
  },
  {
   "cell_type": "code",
   "execution_count": 26,
   "metadata": {},
   "outputs": [
    {
     "data": {
      "text/plain": [
       "False"
      ]
     },
     "execution_count": 26,
     "metadata": {},
     "output_type": "execute_result"
    }
   ],
   "source": [
    "# 64 to check the length of the collection is even or not\n",
    "\n",
    "s=\"python is a programming language\"\n",
    "len(s)%2==0\n",
    "#true\n",
    "\n",
    "\n",
    "s=[1,2,3,4,5,6,90]\n",
    "len(s)%2==0\n",
    "#false"
   ]
  },
  {
   "cell_type": "code",
   "execution_count": 28,
   "metadata": {},
   "outputs": [
    {
     "data": {
      "text/plain": [
       "True"
      ]
     },
     "execution_count": 28,
     "metadata": {},
     "output_type": "execute_result"
    }
   ],
   "source": [
    "# 65 to perform the length of the collection is less than 55 and greater than 16\n",
    "\n",
    "s=\"python is a highlevel programming language\"\n",
    "len(s)>16 and len(s)<55\n",
    "\n",
    "22<len(s)<55\n"
   ]
  },
  {
   "cell_type": "code",
   "execution_count": 36,
   "metadata": {},
   "outputs": [
    {
     "name": "stdout",
     "output_type": "stream",
     "text": [
      "15\n"
     ]
    },
    {
     "data": {
      "text/plain": [
       "True"
      ]
     },
     "execution_count": 36,
     "metadata": {},
     "output_type": "execute_result"
    }
   ],
   "source": [
    "# 66 to perform the the given collection is divisible by 5 and it is odd\n",
    "\n",
    "s=\"python is a programming language\"\n",
    "len(s)%5==0 and len(s)%2!=0\n",
    "#false\n",
    "\n",
    "t=\"programming lan\"\n",
    "print(len(t))\n",
    "len(t)%5==0 and len(t)%2!=0\n",
    "#true\n"
   ]
  },
  {
   "cell_type": "code",
   "execution_count": 40,
   "metadata": {},
   "outputs": [
    {
     "data": {
      "text/plain": [
       "int"
      ]
     },
     "execution_count": 40,
     "metadata": {},
     "output_type": "execute_result"
    }
   ],
   "source": [
    "# 67 to extract the middle position of the given collection and either it is (str,list,tuple)\n",
    "\n",
    "l=\"hello\"\n",
    "l=len(l)//2\n",
    "type(l)"
   ]
  },
  {
   "cell_type": "code",
   "execution_count": 42,
   "metadata": {},
   "outputs": [
    {
     "data": {
      "text/plain": [
       "True"
      ]
     },
     "execution_count": 42,
     "metadata": {},
     "output_type": "execute_result"
    }
   ],
   "source": [
    "#68 to check the given number is greater than 30 and less than 20 and divisible by 2\n",
    "\n",
    "n=25\n",
    "20<n<30 and n%2==0\n",
    "#false\n",
    " \n",
    "n=28\n",
    "20<n<30 and n%2==0"
   ]
  },
  {
   "cell_type": "code",
   "execution_count": 44,
   "metadata": {},
   "outputs": [
    {
     "data": {
      "text/plain": [
       "False"
      ]
     },
     "execution_count": 44,
     "metadata": {},
     "output_type": "execute_result"
    }
   ],
   "source": [
    "# 69 to check the number is less than 120 and even\n",
    "\n",
    "n=108\n",
    "n<120 and n%2==0 \n",
    "#true\n",
    "\n",
    "n=153\n",
    "n<120 and n%2==0\n",
    "#false"
   ]
  },
  {
   "cell_type": "code",
   "execution_count": 46,
   "metadata": {},
   "outputs": [
    {
     "data": {
      "text/plain": [
       "False"
      ]
     },
     "execution_count": 46,
     "metadata": {},
     "output_type": "execute_result"
    }
   ],
   "source": [
    "# 70 to check the number is even and present between 40 and 70\n",
    "\n",
    "n=56\n",
    "40<n<70 and n%2==0\n",
    "#true\n",
    "\n",
    "n=61\n",
    "40<n<70 and n%2==0\n",
    "#false"
   ]
  },
  {
   "cell_type": "code",
   "execution_count": 47,
   "metadata": {},
   "outputs": [
    {
     "data": {
      "text/plain": [
       "True"
      ]
     },
     "execution_count": 47,
     "metadata": {},
     "output_type": "execute_result"
    }
   ],
   "source": [
    "# 71 to check the number is odd and greater than 97\n",
    "n=101\n",
    "n>97 and n%2!=0"
   ]
  },
  {
   "cell_type": "code",
   "execution_count": 51,
   "metadata": {},
   "outputs": [
    {
     "name": "stdout",
     "output_type": "stream",
     "text": [
      "True\n",
      "False\n"
     ]
    }
   ],
   "source": [
    "# 72 to check the number is greater than 46 and less than 122 and divisible by 4\n",
    "\n",
    "n=72\n",
    "a=46<n<122 and n%4==0\n",
    "print(a)\n",
    "\n",
    "n=45\n",
    "a=46<n<122 and n%4==0\n",
    "print(a)\n",
    "\n"
   ]
  },
  {
   "cell_type": "code",
   "execution_count": 52,
   "metadata": {},
   "outputs": [
    {
     "name": "stdout",
     "output_type": "stream",
     "text": [
      "True\n",
      "False\n"
     ]
    }
   ],
   "source": [
    "# 73 to check the given number is divisible by both 3 and 5,display value\n",
    "\n",
    "n=30\n",
    "a=n%3==0 and n%5==0\n",
    "print(a)\n",
    "\n",
    "n=39\n",
    "b=n%3==0 and n%5==0\n",
    "print(b)"
   ]
  },
  {
   "cell_type": "code",
   "execution_count": 53,
   "metadata": {},
   "outputs": [
    {
     "name": "stdout",
     "output_type": "stream",
     "text": [
      "True\n"
     ]
    }
   ],
   "source": [
    "#74 to check the number between 100 and 200 including the limit\n",
    "\n",
    "n=141\n",
    "a=100<n<200\n",
    "print(a)"
   ]
  },
  {
   "cell_type": "code",
   "execution_count": 55,
   "metadata": {},
   "outputs": [
    {
     "name": "stdout",
     "output_type": "stream",
     "text": [
      "False\n",
      "True\n"
     ]
    }
   ],
   "source": [
    "#75 to check the number between 100 and 200 \n",
    "\n",
    "n=41\n",
    "a=100<n<200\n",
    "print(a)\n",
    "\n",
    "n=191\n",
    "a=100<n<200\n",
    "print(a)"
   ]
  }
 ],
 "metadata": {
  "kernelspec": {
   "display_name": "Python 3",
   "language": "python",
   "name": "python3"
  },
  "language_info": {
   "codemirror_mode": {
    "name": "ipython",
    "version": 3
   },
   "file_extension": ".py",
   "mimetype": "text/x-python",
   "name": "python",
   "nbconvert_exporter": "python",
   "pygments_lexer": "ipython3",
   "version": "3.8.2"
  },
  "orig_nbformat": 4
 },
 "nbformat": 4,
 "nbformat_minor": 2
}
