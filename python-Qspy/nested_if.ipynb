{
 "cells": [
  {
   "cell_type": "code",
   "execution_count": 64,
   "metadata": {},
   "outputs": [
    {
     "name": "stdout",
     "output_type": "stream",
     "text": [
      "(-3+2j)\n"
     ]
    }
   ],
   "source": [
    "\"\"\" wap to check the given two values are same collection or not. if it is list to concat the both the collection without \n",
    "change the first collection address. if it is dict to modify the first dict by the help of the second dict without exchange\n",
    "the first dict address.if both the collections are are not same, if both the values are same numbers perform multiplcation\n",
    "if any one value is boolean or None to convert str and diplay the both the values if both the values are complex to extract\n",
    "only the imaginary value output should be complex type, if both the values are bytes display asci value without using ord.\"\"\"\n",
    "\n",
    "# c1=[1,2,3,4,5]\n",
    "# c2=[3,4,5,6,7]\n",
    "# c1={\"a\":10,\"b\":20,\"c\":30}\n",
    "# c2={\"c\":30,\"d\":40,\"e\":50}\n",
    "# c1=2+3j\n",
    "# c2=10.5\n",
    "# c1=True\n",
    "# c2=None\n",
    "c1=2+3j\n",
    "c2=30+6j\n",
    "a=type(c1)\n",
    "b=type(c2)\n",
    "if a==b and a in [list,tuple,set,dict]:\n",
    "    if a==list and b==list:\n",
    "        c1+=c2\n",
    "        # print(\"hai\")\n",
    "        print(c1)\n",
    "    elif a==dict and b==dict:\n",
    "        c1.update(c2)\n",
    "        print(c1)\n",
    "else:\n",
    "    if a==b and a in [int,float]:\n",
    "        res=c1*c2\n",
    "        print(res)\n",
    "        print(\"res\")\n",
    "        pass\n",
    "    elif a==bool or b==bool and a==None or b==None:\n",
    "        print(str(c1),type(str(c1))),print(str(c2),type(str(c1)))\n",
    "    elif a==b and a==complex:\n",
    "        a=complex(real=0,imag=c1)\n",
    "        b=complex(imag=c2)\n",
    "        print(a)\n",
    "    elif a==b and a==bytes:\n",
    "        print(c1),print(c2)\n",
    "        \n",
    "    "
   ]
  }
 ],
 "metadata": {
  "kernelspec": {
   "display_name": "Python 3",
   "language": "python",
   "name": "python3"
  },
  "language_info": {
   "codemirror_mode": {
    "name": "ipython",
    "version": 3
   },
   "file_extension": ".py",
   "mimetype": "text/x-python",
   "name": "python",
   "nbconvert_exporter": "python",
   "pygments_lexer": "ipython3",
   "version": "3.8.2"
  },
  "orig_nbformat": 4
 },
 "nbformat": 4,
 "nbformat_minor": 2
}
