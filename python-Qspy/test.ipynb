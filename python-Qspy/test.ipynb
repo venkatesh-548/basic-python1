{
 "cells": [
  {
   "cell_type": "code",
   "execution_count": 4,
   "metadata": {},
   "outputs": [
    {
     "name": "stdout",
     "output_type": "stream",
     "text": [
      "python programe\n",
      "emmargorp\n"
     ]
    }
   ],
   "source": [
    "#1 write a program of a given string if the length of the string is even concat the new string into it if it is odd reverse the given string\n",
    "\n",
    "s=\"programe\"\n",
    "if len(s)%2==0:\n",
    "    s=\"python \"+s\n",
    "else:\n",
    "    s=s[::-1]\n",
    "print(s)\n",
    "\n",
    "s=\"programme\"\n",
    "if len(s)%2==0:\n",
    "    s=\"python \"+s\n",
    "else:\n",
    "    s=s[::-1]\n",
    "print(s)"
   ]
  },
  {
   "cell_type": "code",
   "execution_count": 6,
   "metadata": {},
   "outputs": [
    {
     "name": "stdout",
     "output_type": "stream",
     "text": [
      "{'a': 12, 'b': 20, 'c': 30}\n",
      "{'a': 10, 'b': 20, 'c': 30, 'd': 50}\n"
     ]
    }
   ],
   "source": [
    "#2 wap to check wheather given key is is not present in the dict or not.if present modify the key value with multiple of 2if it is not present append the the new key value inside the dict\n",
    "\n",
    "d={\"a\":10,\"b\":20,\"c\":30}\n",
    "if \"a\" in d:\n",
    "    d[\"a\"]=12\n",
    "    s=d\n",
    "else:\n",
    "    d[\"a\"]=50\n",
    "    s=d\n",
    "print(d)\n",
    "\n",
    "d={\"a\":10,\"b\":20,\"c\":30}\n",
    "if \"d\" in d:\n",
    "    d[\"a\"]=12\n",
    "    s=d\n",
    "else:\n",
    "    d[\"d\"]=50\n",
    "    s=d\n",
    "print(d)"
   ]
  },
  {
   "cell_type": "code",
   "execution_count": 9,
   "metadata": {},
   "outputs": [
    {
     "name": "stdout",
     "output_type": "stream",
     "text": [
      "@\n",
      "97\n"
     ]
    }
   ],
   "source": [
    "#3 wap wheather given char is special char or not . if it is special char print special char else respective asci val print\n",
    "\n",
    "ch=\"@\"\n",
    "if not(\"a\"<=ch<=\"z\" or \"A\"<=ch<=\"Z\" or \"0\"<=ch<=\"9\"):\n",
    "    res=ch\n",
    "else:\n",
    "    res=ord(ch)\n",
    "print(res)\n",
    "\n",
    "ch=\"a\"\n",
    "if not(\"a\"<=ch<=\"z\" or \"A\"<=ch<=\"Z\" or \"0\"<=ch<=\"9\"):\n",
    "    res=ch\n",
    "else:\n",
    "    res=ord(ch)\n",
    "print(res)\n"
   ]
  },
  {
   "cell_type": "code",
   "execution_count": 19,
   "metadata": {},
   "outputs": [
    {
     "name": "stdout",
     "output_type": "stream",
     "text": [
      "[1, 2, 'hi', 4, 5]\n"
     ]
    }
   ],
   "source": [
    "# if the given input is a collection datatype if it is list modify the middle value with new val,if it is tuple append new val at start of the position,if set add one val,string sting val asci num dict format\n",
    "\n",
    "d=[1,2,3,4,5] \n",
    "p={}\n",
    "if type(d) == list:\n",
    "    d[len(d)//2]=\"hi\"\n",
    "    res=d\n",
    "elif type(d)==tuple:\n",
    "    res=\"a\"+d\n",
    "elif type(d)==set:\n",
    "    a={8}\n",
    "    d|=a\n",
    "    res=d\n",
    "elif type(d)==str:\n",
    "    a=d[0]\n",
    "    p|=ord(a)\n",
    "    res=p\n",
    "\n",
    "print(res)\n",
    "\n",
    "\n"
   ]
  },
  {
   "cell_type": "code",
   "execution_count": 22,
   "metadata": {},
   "outputs": [
    {
     "name": "stdout",
     "output_type": "stream",
     "text": [
      "RAJAranvijay\n"
     ]
    }
   ],
   "source": [
    "g=([1,2,3,45],(\"raja\"),[10,20,(30)],[\"vinay\",450,{11,11},(50)])\n",
    "#RAJAranvijay\n",
    "\n",
    "a=g[1]\n",
    "b=(chr(ord(a[0])-32)+chr(ord(a[1])-32)+chr(ord(a[2])-32)+chr(ord(a[3])-32))\n",
    "c=a[:2:]\n",
    "d=g[-1][0][2]\n",
    "e=g[-1][0][:2]\n",
    "f=(a[-2])\n",
    "h=(g[-1][0][3:])\n",
    "print(b+c+d+e+f+h)\n",
    "\n"
   ]
  },
  {
   "cell_type": "code",
   "execution_count": 2,
   "metadata": {},
   "outputs": [
    {
     "ename": "TypeError",
     "evalue": "list indices must be integers or slices, not str",
     "output_type": "error",
     "traceback": [
      "\u001b[1;31m---------------------------------------------------------------------------\u001b[0m",
      "\u001b[1;31mTypeError\u001b[0m                                 Traceback (most recent call last)",
      "Cell \u001b[1;32mIn[2], line 10\u001b[0m\n\u001b[0;32m      8\u001b[0m c\u001b[39m=\u001b[39m((d[\u001b[39m1\u001b[39m][\u001b[39m0\u001b[39m][\u001b[39m-\u001b[39m\u001b[39m1\u001b[39m]))\n\u001b[0;32m      9\u001b[0m e\u001b[39m=\u001b[39m(d[\u001b[39m1\u001b[39m][\u001b[39m2\u001b[39m][::\u001b[39m-\u001b[39m\u001b[39m1\u001b[39m])\n\u001b[1;32m---> 10\u001b[0m \u001b[39mprint\u001b[39m(d[\u001b[39m\"\u001b[39;49m\u001b[39mRAJA\u001b[39;49m\u001b[39m\"\u001b[39;49m][\u001b[39m'\u001b[39m\u001b[39ma\u001b[39m\u001b[39m'\u001b[39m])\n\u001b[0;32m     11\u001b[0m \u001b[39mprint\u001b[39m(f)\n\u001b[0;32m     12\u001b[0m \u001b[39m# print(a+b+c+e)\u001b[39;00m\n",
      "\u001b[1;31mTypeError\u001b[0m: list indices must be integers or slices, not str"
     ]
    }
   ],
   "source": [
    "d = [{\"RAJA\": {'s': 'sagar', 'a': 'ajay', 'S': {\"raja\",'sahil'}}}, [[100, 200, (300)],500,'ranvijay', \n",
    "(100,'vijay', [10000,20000])], {(10, (20,))}]\n",
    "\n",
    "#[10000,20000,100,200,(300,),\"yajivnar\",'yajasagar','Iha']\n",
    "\n",
    "a=(d[1][-1][-1])\n",
    "b=(d[1][0])\n",
    "c=((d[1][0][-1]))\n",
    "e=(d[1][2][::-1])\n",
    "print(d[\"RAJA\"]['a'])\n",
    "print(f)\n",
    "# print(a+b+c+e)"
   ]
  },
  {
   "cell_type": "code",
   "execution_count": 11,
   "metadata": {},
   "outputs": [
    {
     "name": "stdout",
     "output_type": "stream",
     "text": [
      "yajasagar\n"
     ]
    }
   ],
   "source": [
    "d={\"RAJA\": {'s': 'sagar', 'a': 'ajay', 'S': {\"raja\",'sahil'}}}\n",
    "a=(d[\"RAJA\"]['a'])\n",
    "res=a[::-1]\n",
    "b=(d[\"RAJA\"]['s'])\n",
    "c=res+b\n",
    "print(c)"
   ]
  }
 ],
 "metadata": {
  "kernelspec": {
   "display_name": "Python 3",
   "language": "python",
   "name": "python3"
  },
  "language_info": {
   "codemirror_mode": {
    "name": "ipython",
    "version": 3
   },
   "file_extension": ".py",
   "mimetype": "text/x-python",
   "name": "python",
   "nbconvert_exporter": "python",
   "pygments_lexer": "ipython3",
   "version": "3.8.2"
  },
  "orig_nbformat": 4
 },
 "nbformat": 4,
 "nbformat_minor": 2
}
