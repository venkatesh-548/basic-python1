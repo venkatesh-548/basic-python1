{
 "cells": [
  {
   "cell_type": "code",
   "execution_count": 4,
   "metadata": {},
   "outputs": [
    {
     "name": "stdout",
     "output_type": "stream",
     "text": [
      "python programe\n",
      "emmargorp\n"
     ]
    }
   ],
   "source": [
    "#1 write a program of a given string if the length of the string is even concat the new string into it if it is odd reverse the given string\n",
    "\n",
    "s=\"programe\"\n",
    "if len(s)%2==0:\n",
    "    s=\"python \"+s\n",
    "else:\n",
    "    s=s[::-1]\n",
    "print(s)\n",
    "\n",
    "s=\"programme\"\n",
    "if len(s)%2==0:\n",
    "    s=\"python \"+s\n",
    "else:\n",
    "    s=s[::-1]\n",
    "print(s)"
   ]
  },
  {
   "cell_type": "code",
   "execution_count": 6,
   "metadata": {},
   "outputs": [
    {
     "name": "stdout",
     "output_type": "stream",
     "text": [
      "{'a': 12, 'b': 20, 'c': 30}\n",
      "{'a': 10, 'b': 20, 'c': 30, 'd': 50}\n"
     ]
    }
   ],
   "source": [
    "#2 wap to check wheather given key is is not present in the dict or not.if present modify the key value with multiple of 2if it is not present append the the new key value inside the dict\n",
    "\n",
    "d={\"a\":10,\"b\":20,\"c\":30}\n",
    "if \"a\" in d:\n",
    "    d[\"a\"]=12\n",
    "    s=d\n",
    "else:\n",
    "    d[\"a\"]=50\n",
    "    s=d\n",
    "print(d)\n",
    "\n",
    "d={\"a\":10,\"b\":20,\"c\":30}\n",
    "if \"d\" in d:\n",
    "    d[\"a\"]=12\n",
    "    s=d\n",
    "else:\n",
    "    d[\"d\"]=50\n",
    "    s=d\n",
    "print(d)"
   ]
  },
  {
   "cell_type": "code",
   "execution_count": 9,
   "metadata": {},
   "outputs": [
    {
     "name": "stdout",
     "output_type": "stream",
     "text": [
      "@\n",
      "97\n"
     ]
    }
   ],
   "source": [
    "#3 wap wheather given char is special char or not . if it is special char print special char else respective asci val print\n",
    "\n",
    "ch=\"@\"\n",
    "if not(\"a\"<=ch<=\"z\" or \"A\"<=ch<=\"Z\" or \"0\"<=ch<=\"9\"):\n",
    "    res=ch\n",
    "else:\n",
    "    res=ord(ch)\n",
    "print(res)\n",
    "\n",
    "ch=\"a\"\n",
    "if not(\"a\"<=ch<=\"z\" or \"A\"<=ch<=\"Z\" or \"0\"<=ch<=\"9\"):\n",
    "    res=ch\n",
    "else:\n",
    "    res=ord(ch)\n",
    "print(res)\n"
   ]
  },
  {
   "cell_type": "code",
   "execution_count": 19,
   "metadata": {},
   "outputs": [
    {
     "name": "stdout",
     "output_type": "stream",
     "text": [
      "[1, 2, 'hi', 4, 5]\n"
     ]
    }
   ],
   "source": [
    "# if the given input is a collection datatype if it is list modify the middle value with new val,if it is tuple append new val at start of the position,if set add one val,string sting val asci num dict format\n",
    "\n",
    "d=[1,2,3,4,5] \n",
    "p={}\n",
    "if type(d) == list:\n",
    "    d[len(d)//2]=\"hi\"\n",
    "    res=d\n",
    "elif type(d)==tuple:\n",
    "    res=\"a\"+d\n",
    "elif type(d)==set:\n",
    "    a={8}\n",
    "    d|=a\n",
    "    res=d\n",
    "elif type(d)==str:\n",
    "    a=d[0]\n",
    "    p|=ord(a)\n",
    "    res=p\n",
    "\n",
    "print(res)\n",
    "\n",
    "\n"
   ]
  }
 ],
 "metadata": {
  "kernelspec": {
   "display_name": "Python 3",
   "language": "python",
   "name": "python3"
  },
  "language_info": {
   "codemirror_mode": {
    "name": "ipython",
    "version": 3
   },
   "file_extension": ".py",
   "mimetype": "text/x-python",
   "name": "python",
   "nbconvert_exporter": "python",
   "pygments_lexer": "ipython3",
   "version": "3.8.2"
  },
  "orig_nbformat": 4
 },
 "nbformat": 4,
 "nbformat_minor": 2
}
