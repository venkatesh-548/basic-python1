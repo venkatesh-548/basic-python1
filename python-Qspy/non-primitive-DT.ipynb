{
 "cells": [
  {
   "cell_type": "code",
   "execution_count": 38,
   "metadata": {},
   "outputs": [
    {
     "name": "stdout",
     "output_type": "stream",
     "text": [
      "pto sapormiglnug\n",
      "egaugnal gnimmargorp a si nohtyp\n",
      "ing\n",
      "is a \n",
      "mar\n",
      "gnal\n",
      "egaugnal gnimmargorp a si nohtyp\n",
      "python\n",
      " \n",
      "pythonprogramming\n",
      "pythonprogramming programming\n",
      "python is programming\n",
      "python is a\n",
      "python is programming\n",
      "python is programming language\n",
      "python is programming language highlevel\n",
      "python programming\n",
      "the programming\n",
      "python is a programming language\n",
      "python is a high level programming\n",
      "is a high level programming language\n"
     ]
    }
   ],
   "source": [
    "#python string slicing and indexing\n",
    "s=\"python is a programming language\"\n",
    "s[::]\n",
    "print(s[::2])\n",
    "print(s[-1::-1])\n",
    "print(s[-12:-9:1])\n",
    "print(s[7:12:1])\n",
    "print(s[18:15:-1])\n",
    "print(s[-5:-9:-1])\n",
    "print(s[::-1])\n",
    "print(s[:6:])\n",
    "print(s[6])\n",
    "\n",
    "\n",
    "#string concatination\n",
    "s=\"python\"\n",
    "t=\"programming\"\n",
    "s+=t\n",
    "print(s)\n",
    "print(s+\" \"+t)\n",
    "\n",
    "#append at middle of string\n",
    "a=\"python\"\n",
    "b=\"programming\"\n",
    "t=a+\" is \"+b\n",
    "print(a+\" is \"+b)\n",
    "print(a+\" is a\")\n",
    "\n",
    "#append end of the string\n",
    "l=\" language\"\n",
    "print(t)\n",
    "t+=l\n",
    "print(t)\n",
    "h=\" highlevel\"\n",
    "t+=h\n",
    "print(t)\n",
    "\n",
    "#append at the start of the index\n",
    "b=\"programming\"\n",
    "print(\"python \"+b)\n",
    "a=\"the \"\n",
    "print(a+b)\n",
    "\n",
    "#deletion of the char\n",
    "s=\"python is a high level programming language\"\n",
    "a=s[:12]+s[-20:]\n",
    "print(a)\n",
    "#to delete language\n",
    "a=s[:-9:1]\n",
    "print(a)\n",
    "#to delete python\n",
    "b=s[7::]\n",
    "print(b)\n",
    "\n",
    "\n",
    "\n",
    "\n",
    "\n",
    "\n",
    "\n",
    "\n"
   ]
  },
  {
   "cell_type": "code",
   "execution_count": 7,
   "metadata": {},
   "outputs": [
    {
     "name": "stdout",
     "output_type": "stream",
     "text": [
      "[1, 20.2, (3+5j), b'101', True, ['hai', 'hello'], [1, 2, 3, 4], ('a', 'b', 'c'), {10, 20, 30}, {'a': 100, 'b': 200}]\n",
      "[1, 2, 3, 4]\n",
      "2\n",
      "{10, 20, 30}\n",
      "b\n",
      "['hai', 'hello']\n",
      "['hai', 'hello']\n",
      "[1, 20.2, (3+5j), b'101', True, ['hai', 'hello'], [1, 2, 3, 4], ('a', 'b', 'c'), {10, 20, 30}, {'a': 100, 'b': 200}]\n",
      "hello_world\n"
     ]
    }
   ],
   "source": [
    "#list datatype\n",
    "\n",
    "l=[1,20.2,3+5j,b\"101\",True,[\"hai\",\"hello\"],[1,2,3,4],(\"a\",\"b\",\"c\"),{10,20,30},{\"a\":100,\"b\":200}]\n",
    "print(l)\n",
    "#list can accept all type of datatypes it is mutable and modification and deletion can directly apply\n",
    "\n",
    "#indexing and slicing\n",
    "print(l[6])\n",
    "print(l[6][1])\n",
    "print(l[8])\n",
    "print(l[7][1])\n",
    "print(l[5])\n",
    "print(l[-5])\n",
    "\n",
    "#modification of list\n",
    "print(l)\n",
    "b=l[1]=\"hello_world\"\n",
    "print(b)\n",
    "print(l[1:1]=\"hai\")\n",
    "\n",
    "\n",
    "\n"
   ]
  }
 ],
 "metadata": {
  "kernelspec": {
   "display_name": "Python 3",
   "language": "python",
   "name": "python3"
  },
  "language_info": {
   "codemirror_mode": {
    "name": "ipython",
    "version": 3
   },
   "file_extension": ".py",
   "mimetype": "text/x-python",
   "name": "python",
   "nbconvert_exporter": "python",
   "pygments_lexer": "ipython3",
   "version": "3.8.2"
  },
  "orig_nbformat": 4
 },
 "nbformat": 4,
 "nbformat_minor": 2
}
