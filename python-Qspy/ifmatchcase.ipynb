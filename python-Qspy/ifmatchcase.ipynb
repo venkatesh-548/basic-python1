{
 "cells": [
  {
   "cell_type": "code",
   "execution_count": 2,
   "metadata": {},
   "outputs": [
    {
     "name": "stdout",
     "output_type": "stream",
     "text": [
      "hello\n"
     ]
    }
   ],
   "source": [
    "n=20\n",
    "match n:\n",
    "    case 10:\n",
    "        print(\"hai\")\n",
    "    case 20:\n",
    "        print(\"hello\")\n",
    "    case 30:\n",
    "        print(\"bye\")\n",
    "    case _:\n",
    "        print(\"exit\")"
   ]
  },
  {
   "cell_type": "code",
   "execution_count": 5,
   "metadata": {},
   "outputs": [
    {
     "name": "stdout",
     "output_type": "stream",
     "text": [
      "enter valid case\n"
     ]
    }
   ],
   "source": [
    "n='Sub'\n",
    "a=10\n",
    "b=20\n",
    "match n:\n",
    "    case 'add'|'ADD':\n",
    "        print(a+b)\n",
    "    case 'sub'|'SUB':\n",
    "        print(a-b)\n",
    "    case \"mul\"|\"MUL\":\n",
    "        print(a*b)\n",
    "    case 'div'|\"DIV\":\n",
    "        print(a/b)\n",
    "    case _:\n",
    "        print(\"enter valid case\")"
   ]
  },
  {
   "cell_type": "code",
   "execution_count": 20,
   "metadata": {},
   "outputs": [
    {
     "name": "stdout",
     "output_type": "stream",
     "text": [
      "list\n"
     ]
    }
   ],
   "source": [
    "n=[10,20,30]\n",
    "match n:\n",
    "    case [10]|[10,20,30]:\n",
    "        print(\"list\")\n",
    "    case [10|100]:\n",
    "        print(\"b\")\n",
    "    case [10]|[20]|[30]:\n",
    "        print(\"c\")\n",
    "    case _:\n",
    "        print(\"invalid\")"
   ]
  },
  {
   "cell_type": "code",
   "execution_count": 29,
   "metadata": {},
   "outputs": [
    {
     "name": "stdout",
     "output_type": "stream",
     "text": [
      "C\n"
     ]
    }
   ],
   "source": [
    "n=['hai',1]\n",
    "match n:\n",
    "    case [10|50|70,60|100|108]:\n",
    "        print(\"a\")\n",
    "    case [50,60|70]:\n",
    "        print(\"b\")\n",
    "    case [20|\"hai\"|10,'bye'|1|2]:\n",
    "        print(\"C\")\n",
    "    case _:\n",
    "        print(\"invalid\")"
   ]
  },
  {
   "cell_type": "code",
   "execution_count": 33,
   "metadata": {},
   "outputs": [
    {
     "name": "stdout",
     "output_type": "stream",
     "text": [
      "dict\n"
     ]
    }
   ],
   "source": [
    "d={\"a\":10}\n",
    "match d:\n",
    "    case {\"a\":10}|{\"b\":20}|{\"c\":30}:\n",
    "        print(\"dict\")\n",
    "    case {\"a\":20}:\n",
    "        print(\"a\")\n"
   ]
  },
  {
   "cell_type": "code",
   "execution_count": 45,
   "metadata": {},
   "outputs": [
    {
     "name": "stdout",
     "output_type": "stream",
     "text": [
      "f\n"
     ]
    }
   ],
   "source": [
    "#packages concept\n",
    "d=[10,20,30,40,300]\n",
    "match d:\n",
    "    case [10,20,30,40,100]:\n",
    "        print(\"a\")\n",
    "    case [10,20,30,40,200]:\n",
    "        print(\"b\")\n",
    "    case [10,30,*a]:\n",
    "        print(\"c\")\n",
    "    case [10,13,*a,300]:\n",
    "        print(\"d\")\n",
    "    case [*a,200]:\n",
    "        print(\"e\")\n",
    "    case [*a]:\n",
    "        print(\"f\")\n",
    "\n",
    "    "
   ]
  },
  {
   "cell_type": "code",
   "execution_count": null,
   "metadata": {},
   "outputs": [],
   "source": [
    "d={\"a\":10}\n",
    "match d:\n",
    "    case {\"a\":10}|{\"b\":20}|{\"c\":30}:\n",
    "        print(\"dict\")\n",
    "    case {\"a\":20}:\n",
    "        print(\"a\")\n"
   ]
  },
  {
   "cell_type": "code",
   "execution_count": null,
   "metadata": {},
   "outputs": [],
   "source": []
  }
 ],
 "metadata": {
  "kernelspec": {
   "display_name": "Python 3",
   "language": "python",
   "name": "python3"
  },
  "language_info": {
   "codemirror_mode": {
    "name": "ipython",
    "version": 3
   },
   "file_extension": ".py",
   "mimetype": "text/x-python",
   "name": "python",
   "nbconvert_exporter": "python",
   "pygments_lexer": "ipython3",
   "version": "3.11.4"
  },
  "orig_nbformat": 4
 },
 "nbformat": 4,
 "nbformat_minor": 2
}
