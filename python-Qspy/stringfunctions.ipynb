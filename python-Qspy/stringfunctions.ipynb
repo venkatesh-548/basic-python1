{
 "cells": [
  {
   "cell_type": "code",
   "execution_count": 12,
   "metadata": {},
   "outputs": [
    {
     "name": "stdout",
     "output_type": "stream",
     "text": [
      "Hello world@123\n",
      "Hello world python\n"
     ]
    }
   ],
   "source": [
    "#1 wap to capitilise the given word\n",
    "\n",
    "def capitilise(st,res=\"\"):\n",
    "    if \"a\"<=st[0]<=\"z\":\n",
    "        res+=chr(ord(st[0])-32)\n",
    "    else:\n",
    "        res+=st[0]\n",
    "    for i in range(1,len(st)):\n",
    "        if \"A\"<=st[i]<=\"Z\":\n",
    "            res+=chr(ord(st[i])+32)\n",
    "        else:\n",
    "            res+=st[i]\n",
    "    return res\n",
    "t=capitilise(\"hEllo worlD@123\")\n",
    "print(t)\n",
    "print(capitilise(\"hello world PYTHON\"))"
   ]
  },
  {
   "cell_type": "code",
   "execution_count": 3,
   "metadata": {},
   "outputs": [
    {
     "name": "stdout",
     "output_type": "stream",
     "text": [
      "Hello World@Python123Give H\n"
     ]
    }
   ],
   "source": [
    "# wap to title case\n",
    "def title(st,res=\"\"):\n",
    "    if \"a\"<=st[0]<=\"z\":\n",
    "        res+=chr(ord(st[0])-32)\n",
    "    else:\n",
    "        res+=st[0]\n",
    "    for i in range(1,len(st)):\n",
    "        if (\"a\"<=st[i]<=\"z\" or \"A\"<=st[i]<=\"Z\") and not(\"a\"<=st[i-1]<=\"z\" or \"A\"<=st[i-1]<=\"Z\"):\n",
    "            res+=st[i].upper()\n",
    "        else:\n",
    "            res+=st[i]\n",
    "    return res\n",
    "print(title(\"hello world@python123give h\"))"
   ]
  },
  {
   "cell_type": "code",
   "execution_count": 56,
   "metadata": {},
   "outputs": [
    {
     "data": {
      "text/plain": [
       "True"
      ]
     },
     "execution_count": 56,
     "metadata": {},
     "output_type": "execute_result"
    }
   ],
   "source": [
    "# wap to to check the given char is upper\n",
    "x=\"HELL_O\"\n",
    "def is_upper(st):\n",
    "    res=0\n",
    "    for i in st:\n",
    "        if \"a\"<=i<=\"z\":\n",
    "            res+=1\n",
    "        else:\n",
    "            pass\n",
    "    if res==0:\n",
    "        return True\n",
    "    return False\n",
    "is_upper(x)"
   ]
  },
  {
   "cell_type": "code",
   "execution_count": 54,
   "metadata": {},
   "outputs": [
    {
     "data": {
      "text/plain": [
       "True"
      ]
     },
     "execution_count": 54,
     "metadata": {},
     "output_type": "execute_result"
    }
   ],
   "source": [
    "# wap to to check the given char is lower\n",
    "\n",
    "x=\"hello-a \"\n",
    "def is_lower(st):\n",
    "    res=0\n",
    "    for i in st:\n",
    "        if \"A\"<=i<=\"Z\":\n",
    "            res+=1\n",
    "        else:\n",
    "            pass\n",
    "    if res==0:\n",
    "        return True\n",
    "    return False\n",
    "is_lower(x)"
   ]
  },
  {
   "cell_type": "code",
   "execution_count": 29,
   "metadata": {},
   "outputs": [
    {
     "data": {
      "text/plain": [
       "'HELLO world 123@ PYthon'"
      ]
     },
     "execution_count": 29,
     "metadata": {},
     "output_type": "execute_result"
    }
   ],
   "source": [
    "#swapcase\n",
    "st=\"hello WORLD 123@ pyTHON\"\n",
    "def swapcase(coll):\n",
    "    res=\"\"\n",
    "    for i in coll:\n",
    "        if \"A\"<=i<=\"Z\":\n",
    "            res+=chr(ord(i)+32)\n",
    "        elif \"a\"<=i<=\"z\":\n",
    "            res+=chr(ord(i)-32)\n",
    "        else:\n",
    "            res+=i\n",
    "    return res\n",
    "swapcase(st)"
   ]
  },
  {
   "cell_type": "code",
   "execution_count": 38,
   "metadata": {},
   "outputs": [
    {
     "name": "stdout",
     "output_type": "stream",
     "text": [
      "False\n",
      "False\n"
     ]
    }
   ],
   "source": [
    "#is_alnum\n",
    "st=\"123ABC123\"\n",
    "print(st.isalnum())\n",
    "\n",
    "def is_alnum(st):\n",
    "    for i in st:\n",
    "        if not(\"A\"<=i<=\"Z\" or \"a\"<=i<=\"z\" or \"0\"<=i<=\"9\"):\n",
    "            return False\n",
    "    return True\n",
    "print(is_alnum(st))"
   ]
  },
  {
   "cell_type": "code",
   "execution_count": 66,
   "metadata": {},
   "outputs": [
    {
     "name": "stdout",
     "output_type": "stream",
     "text": [
      "False\n",
      "False\n"
     ]
    }
   ],
   "source": [
    "\n",
    "st=\"7246512\"\n",
    "print(st.isdecimal())\n",
    "def is_decimal(st):\n",
    "    res=0\n",
    "    for i in st:\n",
    "        if \"0\"<=i<=\"9\":\n",
    "            pass\n",
    "        else:\n",
    "            res+=1\n",
    "    # print(res)\n",
    "    if res==0:\n",
    "        return True\n",
    "    return False   \n",
    "print(is_decimal(st))"
   ]
  },
  {
   "cell_type": "code",
   "execution_count": 62,
   "metadata": {},
   "outputs": [
    {
     "name": "stdout",
     "output_type": "stream",
     "text": [
      "False\n",
      "False\n"
     ]
    }
   ],
   "source": [
    "#'isalpha'\n",
    "st=\"helloworld\"\n",
    "print(st.isalpha())\n",
    "\n",
    "def is_alpha(st,res=0):\n",
    "    for i in st:\n",
    "        if \"A\"<=i<=\"Z\" or \"a\"<=i<=\"z\":\n",
    "            pass\n",
    "        else:\n",
    "            res+=1\n",
    "    if res==0:\n",
    "        return True\n",
    "    return False\n",
    "print(is_alpha(st))"
   ]
  },
  {
   "cell_type": "code",
   "execution_count": 72,
   "metadata": {},
   "outputs": [
    {
     "name": "stdout",
     "output_type": "stream",
     "text": [
      "True\n",
      "True\n"
     ]
    }
   ],
   "source": [
    "#'isdigit'\n",
    "st=\"4536732645\"\n",
    "print(st.isdigit())\n",
    "\n",
    "def is_digit(st,res=0):\n",
    "    for i in st:\n",
    "        if \"0\"<=i<=\"9\":\n",
    "            pass\n",
    "        else:\n",
    "            res+=1\n",
    "    if res==0:\n",
    "        return True\n",
    "    return False\n",
    "print(is_digit(st))"
   ]
  },
  {
   "cell_type": "code",
   "execution_count": 80,
   "metadata": {},
   "outputs": [
    {
     "name": "stdout",
     "output_type": "stream",
     "text": [
      "False\n",
      "False\n"
     ]
    }
   ],
   "source": [
    "# isspace\n",
    "\n",
    "st=\" abc \"\n",
    "print(st.isspace())\n",
    "def is_space(st,res=0):\n",
    "    for i in st:\n",
    "        if i==\" \":\n",
    "            pass\n",
    "        else:\n",
    "            res+=1\n",
    "    if res==0:\n",
    "        return True\n",
    "    return False\n",
    "print(is_space(st))"
   ]
  },
  {
   "cell_type": "code",
   "execution_count": 91,
   "metadata": {},
   "outputs": [
    {
     "name": "stdout",
     "output_type": "stream",
     "text": [
      "True\n",
      "hi\n",
      "1\n",
      "2\n",
      "3\n",
      "4\n",
      "5\n",
      "hello\n",
      "5\n",
      "6\n",
      "7\n",
      "8\n",
      "9\n",
      "10\n",
      "hello\n",
      "10\n",
      "11\n",
      "12\n",
      "13\n",
      "False\n"
     ]
    }
   ],
   "source": [
    "# is title()\n",
    "\n",
    "st=\"Hello World4Cup\"\n",
    "print(st.istitle())\n",
    "\n",
    "def is_title(st,res=0):\n",
    "    if \"A\"<=st[0]<=\"Z\":\n",
    "        print(\"hi\")\n",
    "        for i in range(0,len(st)):\n",
    "            if not(\"A\"<=st[i]<=\"Z\" or \"a\"<=st[i]<=\"z\")and(\"A\"<=st[i+1]<=\"Z\"):\n",
    "                print(\"hello\")\n",
    "                pass\n",
    "            else:\n",
    "                res+=1\n",
    "            print(res)\n",
    "            if res==0:\n",
    "                return True\n",
    "    return False\n",
    "print(is_title(st))"
   ]
  },
  {
   "cell_type": "code",
   "execution_count": 5,
   "metadata": {},
   "outputs": [
    {
     "name": "stdout",
     "output_type": "stream",
     "text": [
      "hello world\n"
     ]
    }
   ],
   "source": [
    "#join method()\n",
    "\n",
    "st=[\"h\",\"e\",\"l\",\"l\",\"o\",\" \",\"w\",\"o\",\"r\",\"l\",\"d\"]\n",
    "print(\"\".join(st))"
   ]
  },
  {
   "cell_type": "code",
   "execution_count": 57,
   "metadata": {},
   "outputs": [
    {
     "name": "stdout",
     "output_type": "stream",
     "text": [
      "hello world\n"
     ]
    }
   ],
   "source": [
    "#join method\n",
    "st=[\"h\",\"e\",\"l\",\"l\",\"o\",\" \",\"w\",\"o\",\"r\",\"l\",\"d\"]\n",
    "\n",
    "def join(st,sep=\"\"):\n",
    "    for i in st:\n",
    "        if type(i)!=str:\n",
    "            return False\n",
    "        else:\n",
    "            res=\"\"\n",
    "            for i in st:\n",
    "                res=res+i+sep\n",
    "    return res\n",
    "print(join(st))\n",
    "                \n"
   ]
  },
  {
   "cell_type": "code",
   "execution_count": 14,
   "metadata": {},
   "outputs": [
    {
     "name": "stdout",
     "output_type": "stream",
     "text": [
      "1\n"
     ]
    }
   ],
   "source": [
    "#count()\n",
    "st=\"hello world\"\n",
    "print(st.count(\"l\",3,6))"
   ]
  },
  {
   "cell_type": "code",
   "execution_count": 13,
   "metadata": {},
   "outputs": [
    {
     "name": "stdout",
     "output_type": "stream",
     "text": [
      "1\n"
     ]
    }
   ],
   "source": [
    "st=\"hello world\"\n",
    "\n",
    "def count(st,ele,start=0,end=None):\n",
    "    if end==None:\n",
    "        end=len(st)\n",
    "    count=0\n",
    "    for i in range(start,end):\n",
    "        if st[i]==ele:\n",
    "            count+=1\n",
    "    return count\n",
    "print(count(st,\"l\",3,6))"
   ]
  },
  {
   "cell_type": "code",
   "execution_count": 23,
   "metadata": {},
   "outputs": [
    {
     "name": "stdout",
     "output_type": "stream",
     "text": [
      "-1\n",
      "-1\n"
     ]
    }
   ],
   "source": [
    "#find()\n",
    "st=\"hello world\"\n",
    "print(st.find(\"l\",4,8))\n",
    "\n",
    "def find(st,ele,start=0,end=None):\n",
    "    if end==None:\n",
    "        end=len(st)\n",
    "    if ele not in st:\n",
    "        return -1\n",
    "    for i in range(start,end):\n",
    "        if st[i]==ele:\n",
    "            return i\n",
    "    return -1\n",
    "print(find(st,\"f\",4,8))"
   ]
  },
  {
   "cell_type": "code",
   "execution_count": 53,
   "metadata": {},
   "outputs": [
    {
     "name": "stdout",
     "output_type": "stream",
     "text": [
      "2\n",
      "3\n"
     ]
    }
   ],
   "source": [
    "# rfind()\n",
    "st=\"hello world\"\n",
    "print(st.rfind(\"l\",1,3))\n",
    "\n",
    "def r_find(st,ele,start=0,end=None):\n",
    "    if end==None:\n",
    "        end=len(st)-1\n",
    "    for i in range(end,start,-1):\n",
    "        if st[i]==ele:\n",
    "            return end\n",
    "    return -1\n",
    "print(r_find(st,\"l\",1,3))   "
   ]
  },
  {
   "cell_type": "code",
   "execution_count": 38,
   "metadata": {},
   "outputs": [
    {
     "name": "stdout",
     "output_type": "stream",
     "text": [
      "5\n",
      "False\n"
     ]
    }
   ],
   "source": [
    "# index()\n",
    "st=\"python programme\"\n",
    "print(st.index(\"n\",3))\n",
    "\n",
    "def index(st,ele,start,end=None):\n",
    "    if end==None:\n",
    "        end=len(st)\n",
    "    if ele not in st:\n",
    "        return False\n",
    "    for i in range(start,end):\n",
    "        if st[i]==ele:\n",
    "            return i\n",
    "    return False\n",
    "print(index(st,\"n\",7))"
   ]
  },
  {
   "cell_type": "code",
   "execution_count": 45,
   "metadata": {},
   "outputs": [
    {
     "name": "stdout",
     "output_type": "stream",
     "text": [
      "5\n",
      "5\n"
     ]
    }
   ],
   "source": [
    "#rindex()\n",
    "st=\"python programme\"\n",
    "print(st.rindex(\"n\",1,8))\n",
    "def r_index(st,ele,start=0,end=None):\n",
    "    if end==None:\n",
    "        end=len(st)-1\n",
    "    if ele not in st:\n",
    "        return False\n",
    "    for i in range(end,start,-1):\n",
    "        if st[i]==ele:\n",
    "            return i\n",
    "    return False\n",
    "print(r_index(st,\"n\",1,8))"
   ]
  },
  {
   "cell_type": "code",
   "execution_count": 57,
   "metadata": {},
   "outputs": [
    {
     "data": {
      "text/plain": [
       "['__add__',\n",
       " '__class__',\n",
       " '__contains__',\n",
       " '__delattr__',\n",
       " '__dir__',\n",
       " '__doc__',\n",
       " '__eq__',\n",
       " '__format__',\n",
       " '__ge__',\n",
       " '__getattribute__',\n",
       " '__getitem__',\n",
       " '__getnewargs__',\n",
       " '__getstate__',\n",
       " '__gt__',\n",
       " '__hash__',\n",
       " '__init__',\n",
       " '__init_subclass__',\n",
       " '__iter__',\n",
       " '__le__',\n",
       " '__len__',\n",
       " '__lt__',\n",
       " '__mod__',\n",
       " '__mul__',\n",
       " '__ne__',\n",
       " '__new__',\n",
       " '__reduce__',\n",
       " '__reduce_ex__',\n",
       " '__repr__',\n",
       " '__rmod__',\n",
       " '__rmul__',\n",
       " '__setattr__',\n",
       " '__sizeof__',\n",
       " '__str__',\n",
       " '__subclasshook__',\n",
       " 'capitalize',\n",
       " 'casefold',\n",
       " 'center',\n",
       " 'count',\n",
       " 'encode',\n",
       " 'endswith',\n",
       " 'expandtabs',\n",
       " 'find',\n",
       " 'format',\n",
       " 'format_map',\n",
       " 'index',\n",
       " 'isalnum',\n",
       " 'isalpha',\n",
       " 'isascii',\n",
       " 'isdecimal',\n",
       " 'isdigit',\n",
       " 'isidentifier',\n",
       " 'islower',\n",
       " 'isnumeric',\n",
       " 'isprintable',\n",
       " 'isspace',\n",
       " 'istitle',\n",
       " 'isupper',\n",
       " 'join',\n",
       " 'ljust',\n",
       " 'lower',\n",
       " 'lstrip',\n",
       " 'maketrans',\n",
       " 'partition',\n",
       " 'removeprefix',\n",
       " 'removesuffix',\n",
       " 'replace',\n",
       " 'rfind',\n",
       " 'rindex',\n",
       " 'rjust',\n",
       " 'rpartition',\n",
       " 'rsplit',\n",
       " 'rstrip',\n",
       " 'split',\n",
       " 'splitlines',\n",
       " 'startswith',\n",
       " 'strip',\n",
       " 'swapcase',\n",
       " 'title',\n",
       " 'translate',\n",
       " 'upper',\n",
       " 'zfill']"
      ]
     },
     "execution_count": 57,
     "metadata": {},
     "output_type": "execute_result"
    }
   ],
   "source": [
    "dir(str)"
   ]
  },
  {
   "cell_type": "code",
   "execution_count": 23,
   "metadata": {},
   "outputs": [
    {
     "name": "stdout",
     "output_type": "stream",
     "text": [
      "False\n",
      "False\n"
     ]
    }
   ],
   "source": [
    "#startswith()\n",
    "\n",
    "st=\"hai hello world\"  \n",
    "print(st.startswith(\"ai  \",1))\n",
    "\n",
    "def startswith(st,sub,start=0,end=None):\n",
    "    if end==None:\n",
    "        end=start+len(sub)\n",
    "    if sub not in st:\n",
    "        return False\n",
    "    for i in range(start,end):\n",
    "        if st[i]!=sub[i]:\n",
    "            return False\n",
    "    return True\n",
    "print(st.startswith(\"ai  \",1,5))\n"
   ]
  },
  {
   "cell_type": "code",
   "execution_count": 3,
   "metadata": {},
   "outputs": [
    {
     "name": "stdout",
     "output_type": "stream",
     "text": [
      "True\n",
      "\n",
      "None\n"
     ]
    }
   ],
   "source": [
    "#ends with()\n",
    "str=\"hai hello world\"  \n",
    "print(str.endswith(\" world\"))\n",
    "\n",
    "def endswith(coll,sub,start=0,end=None):\n",
    "    st=\"\"\n",
    "    if end==None:\n",
    "        end=len(st)\n",
    "    while start<end:\n",
    "        st+=coll[start]\n",
    "        start+=1\n",
    "    print(st)\n",
    "    # return True\n",
    "print(endswith(str,\" world\"))\n"
   ]
  },
  {
   "cell_type": "code",
   "execution_count": 5,
   "metadata": {},
   "outputs": [
    {
     "data": {
      "text/plain": [
       "'monday is a holiday monday is enjoying day in sun'"
      ]
     },
     "execution_count": 5,
     "metadata": {},
     "output_type": "execute_result"
    }
   ],
   "source": [
    "st=\"sunday is a holiday sunday is enjoying day in sun\"\n",
    "st.replace(\"sun\",\"mon\",2)"
   ]
  },
  {
   "cell_type": "code",
   "execution_count": 8,
   "metadata": {},
   "outputs": [
    {
     "name": "stdout",
     "output_type": "stream",
     "text": [
      "munday im a holiday sunday is enjoying day in sun\n"
     ]
    }
   ],
   "source": [
    "#wap to replace the specific character\n",
    "\n",
    "st=\"sunday is a holiday sunday is enjoying day in sun\"\n",
    "def replace(coll,old,new,count=None,res=\"\"):\n",
    "    if count==None:\n",
    "        count=len(coll)\n",
    "    co=0\n",
    "    for i in coll:\n",
    "        if i==old and co<count:\n",
    "            res+=new\n",
    "            co+=1\n",
    "        else:\n",
    "            res+=i\n",
    "    return res\n",
    "print(replace(st,\"s\",\"m\",2))"
   ]
  },
  {
   "cell_type": "code",
   "execution_count": 10,
   "metadata": {},
   "outputs": [
    {
     "name": "stdout",
     "output_type": "stream",
     "text": [
      "monday is a holiday monday is enjoying day in mon\n"
     ]
    }
   ],
   "source": [
    "#wap to replace the specific string\n",
    "\n",
    "st=\"sunday is a holiday sunday is enjoying day in sun\"\n",
    "def replace(coll,old,new,count=None,res=\"\"):\n",
    "    if count==None:\n",
    "        count=len(coll)\n",
    "    start=0\n",
    "    while start<len(coll):\n",
    "        if coll[start]==old[0]:\n",
    "            if old==coll[start:start+len(old)]:\n",
    "                coll=coll[0:start]+new+coll[start+len(old):]\n",
    "        start+=1\n",
    "\n",
    "    return coll\n",
    "print(replace(st,\"sun\",\"mon\"))"
   ]
  },
  {
   "cell_type": "code",
   "execution_count": 23,
   "metadata": {},
   "outputs": [
    {
     "name": "stdout",
     "output_type": "stream",
     "text": [
      "monday is a holiday monday is enjoying day in sun\n"
     ]
    }
   ],
   "source": [
    "#wap to replace the specific str with the count\n",
    "st=\"sunday is a holiday sunday is enjoying day in sun\"\n",
    "def replace(coll,old,new,count=None):\n",
    "    if count==None:\n",
    "        count=len(coll)\n",
    "    co=-1\n",
    "    for i in range(0,len(coll)):\n",
    "        if coll[i]==old[0]:\n",
    "            if old==coll[i:i+len(old)] and co<count:\n",
    "                coll=coll[0:i]+new+coll[i+len(old):]\n",
    "            co+=1\n",
    "\n",
    "    return coll\n",
    "print(replace(st,\"sun\",\"mon\",2))\n"
   ]
  },
  {
   "cell_type": "code",
   "execution_count": 27,
   "metadata": {},
   "outputs": [
    {
     "data": {
      "text/plain": [
       "'wednesday is a holiday wednesday is enjoying day in sun'"
      ]
     },
     "execution_count": 27,
     "metadata": {},
     "output_type": "execute_result"
    }
   ],
   "source": [
    "#wap to replace the string at specific occurance\n",
    "\n",
    "st=\"sunday is a holiday sunday is enjoying day in sun\"\n",
    "def replace_occur(coll,old,new,occur=None):\n",
    "    if occur==None:\n",
    "        occur=len(coll)\n",
    "    for i in range(0,len(coll)):\n",
    "        if coll[i]==old[0]:\n",
    "            if old==coll[i:i+len(old)]:\n",
    "                coll=coll[0:i]+new+coll[i+len(old):]\n",
    "    return coll\n",
    "replace_occur(st,\"sun\",\"wednes\",3)\n"
   ]
  },
  {
   "cell_type": "code",
   "execution_count": 3,
   "metadata": {},
   "outputs": [
    {
     "name": "stdout",
     "output_type": "stream",
     "text": [
      "insta.com\n"
     ]
    },
    {
     "data": {
      "text/plain": [
       "'insta.com'"
      ]
     },
     "execution_count": 3,
     "metadata": {},
     "output_type": "execute_result"
    }
   ],
   "source": [
    "#remove prefix\n",
    "\n",
    "st=\"www.insta.com\"\n",
    "print(st.removeprefix(\"www.\"))\n",
    "\n",
    "def removeprefix(coll,ele):\n",
    "    if ele not in coll:\n",
    "        return coll\n",
    "    return coll[len(ele):]\n",
    "removeprefix(st,\"www.\")"
   ]
  },
  {
   "cell_type": "code",
   "execution_count": 23,
   "metadata": {},
   "outputs": [
    {
     "name": "stdout",
     "output_type": "stream",
     "text": [
      "www.insta.c\n",
      "www.insta.\n"
     ]
    }
   ],
   "source": [
    "#removesuffix\n",
    "\n",
    "st=\"www.insta.com\"\n",
    "print(st.removesuffix(\"om\"))\n",
    "\n",
    "def removesuffix(coll,ele):\n",
    "    if ele not in coll:\n",
    "        return coll\n",
    "    return coll[0:len(coll)-len(ele)]\n",
    "print(removesuffix(st,\"com\"))"
   ]
  },
  {
   "cell_type": "code",
   "execution_count": 25,
   "metadata": {},
   "outputs": [
    {
     "name": "stdout",
     "output_type": "stream",
     "text": [
      "www.insta.c\n",
      "www.insta.\n"
     ]
    }
   ],
   "source": [
    "st=\"www.insta.com\"\n",
    "print(st.removesuffix(\"om\"))\n",
    "\n",
    "def removesuffix(coll,ele):\n",
    "    if ele not in coll:\n",
    "        return coll\n",
    "    res=\"\"\n",
    "    for i in range(0,len(coll)-len(ele)):\n",
    "        res+=coll[i]\n",
    "    return res\n",
    "print(removesuffix(st,\"com\"))"
   ]
  },
  {
   "cell_type": "code",
   "execution_count": 3,
   "metadata": {},
   "outputs": [
    {
     "name": "stdout",
     "output_type": "stream",
     "text": [
      " hello world  \n",
      " hello world  \n"
     ]
    }
   ],
   "source": [
    "#lstrip()\n",
    "\n",
    "st=\"h hello world  \"\n",
    "print(st.lstrip('h'))\n",
    "\n",
    "def lstrip(coll,ele=[\" \",\"\\n\",\"\\t\",\"\\f\",\"\\r\"]):\n",
    "    res=\"\"\n",
    "    for i in range(len(coll)):\n",
    "        if coll[i] in ele:\n",
    "            res+=\"\"\n",
    "        else:\n",
    "            res+=coll[i:]\n",
    "            break\n",
    "    return res\n",
    "print(lstrip(st,\"h\"))"
   ]
  },
  {
   "cell_type": "code",
   "execution_count": 4,
   "metadata": {},
   "outputs": [
    {
     "data": {
      "text/plain": [
       "'  hello world'"
      ]
     },
     "execution_count": 4,
     "metadata": {},
     "output_type": "execute_result"
    }
   ],
   "source": [
    "# rstrip()\n",
    "st=\"  hello world         \"\n",
    "def rstrip(coll,ele=[\" \",\"\\n\",\"\\t\",\"\\f\",\"\\r\"]):\n",
    "    for i in range(len(coll)-1,-1,-1):\n",
    "        res=\"\"\n",
    "        if coll[i] in ele:\n",
    "            res=\"\"\n",
    "        else:\n",
    "            res+=coll[:i+1]\n",
    "            break\n",
    "    return res\n",
    "rstrip(st,\" \")\n",
    "\n",
    "\n",
    "\n"
   ]
  },
  {
   "cell_type": "code",
   "execution_count": 35,
   "metadata": {},
   "outputs": [
    {
     "data": {
      "text/plain": [
       "'hello'"
      ]
     },
     "execution_count": 35,
     "metadata": {},
     "output_type": "execute_result"
    }
   ],
   "source": [
    "#strip()\n",
    "s=\"      hello    \"\n",
    "s.strip(\" \\t\")\n",
    "\n",
    "def strip(coll,ele=[\" \",\"\\n\",\"\\t\",\"\\r\",\"\\f\"]):\n",
    "    for i in range(0,len(coll)):\n",
    "        res=\"\"\n",
    "        if coll[i] in ele:\n",
    "            res=\"\"\n",
    "        else:\n",
    "            res=\n",
    "        \n",
    "    "
   ]
  },
  {
   "cell_type": "code",
   "execution_count": 11,
   "metadata": {},
   "outputs": [
    {
     "data": {
      "text/plain": [
       "'hello*****'"
      ]
     },
     "execution_count": 11,
     "metadata": {},
     "output_type": "execute_result"
    }
   ],
   "source": [
    "#ljust()\n",
    "st=\"hello\"\n",
    "def ljust(coll,width,fillchar):\n",
    "    res=\"\"\n",
    "    for i in coll:\n",
    "        res=coll+(width-len(coll))*fillchar\n",
    "    return res\n",
    "ljust(st,10,\"*\")\n"
   ]
  },
  {
   "cell_type": "code",
   "execution_count": 12,
   "metadata": {},
   "outputs": [
    {
     "data": {
      "text/plain": [
       "'$$$$$hello'"
      ]
     },
     "execution_count": 12,
     "metadata": {},
     "output_type": "execute_result"
    }
   ],
   "source": [
    "#rjust()\n",
    "st=\"hello\"\n",
    "def rjust(coll,width,fillchar):\n",
    "    res=\"\"\n",
    "    for i in coll:\n",
    "        res=fillchar*(width-len(coll))+coll\n",
    "    return res\n",
    "rjust(st,10,\"$\")"
   ]
  },
  {
   "cell_type": "code",
   "execution_count": 31,
   "metadata": {},
   "outputs": [
    {
     "data": {
      "text/plain": [
       "'**hell0***'"
      ]
     },
     "execution_count": 31,
     "metadata": {},
     "output_type": "execute_result"
    }
   ],
   "source": [
    "st=\"hell0\"\n",
    "st.center(10,\"*\")"
   ]
  },
  {
   "cell_type": "code",
   "execution_count": 30,
   "metadata": {},
   "outputs": [
    {
     "data": {
      "text/plain": [
       "'##hello###'"
      ]
     },
     "execution_count": 30,
     "metadata": {},
     "output_type": "execute_result"
    }
   ],
   "source": [
    "#center()\n",
    "import math\n",
    "def center(coll,width,fillchar):\n",
    "    res=\"\"\n",
    "    for i in coll:\n",
    "        res=fillchar*math.floor((width-len(coll))/2)+coll+fillchar*math.ceil((width-len(coll))/2)\n",
    "    return res\n",
    "center(\"hello\",10,\"#\")\n"
   ]
  }
 ],
 "metadata": {
  "kernelspec": {
   "display_name": "Python 3",
   "language": "python",
   "name": "python3"
  },
  "language_info": {
   "codemirror_mode": {
    "name": "ipython",
    "version": 3
   },
   "file_extension": ".py",
   "mimetype": "text/x-python",
   "name": "python",
   "nbconvert_exporter": "python",
   "pygments_lexer": "ipython3",
   "version": "3.11.4"
  },
  "orig_nbformat": 4
 },
 "nbformat": 4,
 "nbformat_minor": 2
}
