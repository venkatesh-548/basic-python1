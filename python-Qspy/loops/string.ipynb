{
 "cells": [
  {
   "cell_type": "code",
   "execution_count": 1,
   "metadata": {},
   "outputs": [
    {
     "name": "stdout",
     "output_type": "stream",
     "text": [
      "elbatrop si nohtyp\n"
     ]
    }
   ],
   "source": [
    "# wap to reveres the given string\n",
    "\n",
    "s=\"python is portable\"\n",
    "res=\"\"\n",
    "for i in s:\n",
    "    res=i+res\n",
    "print(res)"
   ]
  },
  {
   "cell_type": "code",
   "execution_count": 9,
   "metadata": {},
   "outputs": [
    {
     "name": "stdout",
     "output_type": "stream",
     "text": [
      "language independent platform is python\n"
     ]
    }
   ],
   "source": [
    "s=\"python is platform independent language\"\n",
    "l=s.split()[::-1]\n",
    "out=\" \".join(l)\n",
    "print(out)"
   ]
  },
  {
   "cell_type": "code",
   "execution_count": 11,
   "metadata": {},
   "outputs": [
    {
     "name": "stdout",
     "output_type": "stream",
     "text": [
      " nohtyp si elpmis dna ysae ot nrael\n"
     ]
    }
   ],
   "source": [
    "# wap to reverse the internal content of the word\n",
    "\n",
    "s=\"python is simple and easy to learn\"\n",
    "l=s.split()\n",
    "res=\"\"\n",
    "for i in range(0,len(l)):\n",
    "    res=res+\" \"+l[i][::-1]\n",
    "print(res)\n"
   ]
  },
  {
   "cell_type": "code",
   "execution_count": 13,
   "metadata": {},
   "outputs": [
    {
     "name": "stdout",
     "output_type": "stream",
     "text": [
      " python si a level-hgih object detneiro genaral esoprup programming egaugnal\n"
     ]
    }
   ],
   "source": [
    "# wap to reverse the internal content of the every second word\n",
    "\n",
    "s=\"python is a high-level object oriented genaral purpose programming language\"\n",
    "l=s.split()\n",
    "res=\"\"\n",
    "for i in range(len(l)):\n",
    "    if i%2==0:\n",
    "        res+=\" \"+l[i]\n",
    "    else:\n",
    "        res+=\" \"+l[i][::-1]\n",
    "print(res)\n",
    "\n"
   ]
  },
  {
   "cell_type": "code",
   "execution_count": 16,
   "metadata": {},
   "outputs": [
    {
     "name": "stdout",
     "output_type": "stream",
     "text": [
      " p t o   s d n m c l y t p d\n",
      " y h n i   y a i a l   y e\n"
     ]
    }
   ],
   "source": [
    "s=\"python is dynamically typed\"\n",
    "even,odd=\"\",\"\"\n",
    "for i in range(len(s)):\n",
    "    if i%2==0:\n",
    "        even+=\" \"+s[i]\n",
    "    else:\n",
    "        odd+=\" \"+s[i]\n",
    "print(even)\n",
    "print(odd)"
   ]
  },
  {
   "cell_type": "code",
   "execution_count": 31,
   "metadata": {},
   "outputs": [
    {
     "name": "stdout",
     "output_type": "stream",
     "text": [
      "abcd1234\n"
     ]
    }
   ],
   "source": [
    "#wap to sort the alphabets and the digits\n",
    "\n",
    "s=\"a4d3c2b1\"\n",
    "alp,dig=\"\",\"\"\n",
    "for i in range(len(s)):\n",
    "    if s[i].isalpha():\n",
    "        alp+=s[i]\n",
    "    else:\n",
    "        dig+=s[i]\n",
    "a=\"\".join(sorted(alp))\n",
    "b=\"\".join(sorted(dig))\n",
    "print(a+b)\n",
    "\n",
    "\n"
   ]
  },
  {
   "cell_type": "code",
   "execution_count": 38,
   "metadata": {},
   "outputs": [
    {
     "name": "stdout",
     "output_type": "stream",
     "text": [
      "aaaabbbcc\n"
     ]
    }
   ],
   "source": [
    "#wap for the following requirement\n",
    "#i/p:- a4b3c2\n",
    "#o/p:- aaaabbbcc\n",
    "\n",
    "s=\"a4b3c2\"\n",
    "c,d,out=\"\",\"\",\"\"\n",
    "for i in s:\n",
    "    if i.isalpha():\n",
    "        ch=i\n",
    "    else:\n",
    "        d=int(i)\n",
    "        out+=ch*d\n",
    "print(out)"
   ]
  },
  {
   "cell_type": "code",
   "execution_count": 43,
   "metadata": {},
   "outputs": [
    {
     "name": "stdout",
     "output_type": "stream",
     "text": [
      "aaacccczz\n"
     ]
    }
   ],
   "source": [
    "#wap for the following requirement\n",
    "#i/p:- a3z2c4\n",
    "#o/p:- aaaazzcccc\n",
    "\n",
    "s=\"a3z2c4\"\n",
    "ch,di,out=\"\",\"\",\"\"\n",
    "for i in s:\n",
    "    if i.isalpha():\n",
    "        ch=i\n",
    "    else:\n",
    "        di=int(i)\n",
    "        out+=ch*di\n",
    "print(\"\".join(sorted(out)))"
   ]
  },
  {
   "cell_type": "code",
   "execution_count": 56,
   "metadata": {},
   "outputs": [
    {
     "name": "stdout",
     "output_type": "stream",
     "text": [
      "a4z2c4b5\n"
     ]
    }
   ],
   "source": [
    "#wap for the following requirement\n",
    "#o/p:- a3z2c4b5\n",
    "#i/p:- aaaazzccccbbbbb\n",
    "\n",
    "s=\"aaaazzccccbbbbb\"\n",
    "d={}\n",
    "i=0\n",
    "while i<len(s):\n",
    "    if s[i] not in d:\n",
    "        d[s[i]]=1\n",
    "    else:\n",
    "        d[s[i]]+=1\n",
    "    i+=1\n",
    "l=list(d)\n",
    "res=\"\"\n",
    "for j in l:\n",
    "    res+=str(j)+str(d[j])\n",
    "print(res)"
   ]
  },
  {
   "cell_type": "code",
   "execution_count": 58,
   "metadata": {},
   "outputs": [
    {
     "name": "stdout",
     "output_type": "stream",
     "text": [
      "4a3b2c1z\n"
     ]
    }
   ],
   "source": [
    "#wap for the following requirement\n",
    "#o/p:- 4a3b2c1z\n",
    "#i/p:- aaaabbbccz\n",
    "\n",
    "s=\"aaaabbbccz\"\n",
    "d={}\n",
    "for i in range(len(s)):\n",
    "    if s[i] not in d:\n",
    "        d[s[i]]=1\n",
    "    else:\n",
    "        d[s[i]]+=1\n",
    "l=list(d)\n",
    "res=\"\"\n",
    "for j in l:\n",
    "    res+=str(d[j])+str(j)\n",
    "print(res)\n",
    "    "
   ]
  },
  {
   "cell_type": "code",
   "execution_count": 67,
   "metadata": {},
   "outputs": [
    {
     "name": "stdout",
     "output_type": "stream",
     "text": [
      "aeknbd\n"
     ]
    }
   ],
   "source": [
    "#wap for the following requirement\n",
    "#o/p:- a4k3b2\n",
    "#i/p:- aeknbd\n",
    "\n",
    "s=\"a4k3b2\"\n",
    "ch,di,out,res=\"\",\"\",\"\",\"\"\n",
    "for i in s:\n",
    "    if i.isalpha():\n",
    "        ch=i\n",
    "    else:\n",
    "        di=i\n",
    "        out=chr(ord(ch)+int(i))\n",
    "        res+=ch+out\n",
    "print(res)\n"
   ]
  },
  {
   "cell_type": "code",
   "execution_count": 70,
   "metadata": {},
   "outputs": [
    {
     "name": "stdout",
     "output_type": "stream",
     "text": [
      "['a', 'b', 'c', 'd', 'e']\n",
      "a 4\n",
      "b 3\n",
      "c 2\n",
      "d 2\n",
      "e 2\n"
     ]
    }
   ],
   "source": [
    "#wap to find the frequence of the char\n",
    "\n",
    "s=\"aabbcaabcddee\"\n",
    "\n",
    "l=[]\n",
    "for ch in s:\n",
    "    if ch not in l:\n",
    "        l.append(ch)\n",
    "print(l)\n",
    "for i in l:\n",
    "    print(i,s.count(i))\n"
   ]
  },
  {
   "cell_type": "code",
   "execution_count": 5,
   "metadata": {},
   "outputs": [
    {
     "name": "stdout",
     "output_type": "stream",
     "text": [
      "rtaevjieseh\n"
     ]
    }
   ],
   "source": [
    "s1=\"ravi\"\n",
    "s2=\"tejeseh\"\n",
    "i,j=0,0\n",
    "res=\"\"\n",
    "while i<len(s1) or j<len(s2):\n",
    "    if i<len(s1):\n",
    "        res+=s1[i]\n",
    "        i+=1\n",
    "    if j<len(s2):\n",
    "        res+=s2[j]\n",
    "        j+=1\n",
    "print(res)\n"
   ]
  },
  {
   "cell_type": "code",
   "execution_count": 11,
   "metadata": {},
   "outputs": [
    {
     "name": "stdout",
     "output_type": "stream",
     "text": [
      "['A', 'B', 'D', '1', '3', '4']\n",
      "ABD134\n"
     ]
    }
   ],
   "source": [
    "# input: B4A1D3\n",
    "# Output: ABD134\n",
    "\n",
    "s1=\"B4A1D3\"\n",
    "res,res1,res2=\"\",\"\",\"\"\n",
    "for i in s1:\n",
    "    if i.isalpha():\n",
    "        res+=i\n",
    "    else:\n",
    "        res1+=i\n",
    "# print(res1)\n",
    "# print(res)\n",
    "res2=sorted(res)+sorted(res1)\n",
    "print(res2)\n",
    "temp=\"\"\n",
    "for x in res2:\n",
    "    temp+=x\n",
    "print(temp)\n",
    "\n",
    "\n",
    "\n"
   ]
  },
  {
   "cell_type": "code",
   "execution_count": 19,
   "metadata": {},
   "outputs": [
    {
     "name": "stdout",
     "output_type": "stream",
     "text": [
      "413\n",
      "BAD\n",
      "['A', 'B', 'D', '1', '3', '4']\n",
      "ABD134\n"
     ]
    }
   ],
   "source": [
    "s1=\"B4A1D3\"\n",
    "res,res1,res2=\"\",\"\",\"\"\n",
    "for i in s1:\n",
    "    if \"A\"<=i<=\"Z\" or \"a\"<=i<=\"z\":\n",
    "        res+=i\n",
    "    else:\n",
    "        res1+=i\n",
    "print(res1)\n",
    "print(res)\n",
    "\n",
    "l1=sorted(res)+sorted(res1)\n",
    "print(l1)\n",
    "temp=\"\"\n",
    "for j in l1:\n",
    "    temp+=j\n",
    "print(temp)\n",
    "\n"
   ]
  },
  {
   "cell_type": "code",
   "execution_count": 21,
   "metadata": {},
   "outputs": [
    {
     "name": "stdout",
     "output_type": "stream",
     "text": [
      "aaaabbbccffffff\n"
     ]
    }
   ],
   "source": [
    "#input: a4b3c2\n",
    "# output: aaaabbbcc\n",
    "\n",
    "s1=\"a4b3c2f6\"\n",
    "res=\"\"\n",
    "temp=\"\"\n",
    "for i in s1:\n",
    "    if i.isalpha():\n",
    "        res+=i\n",
    "    else:\n",
    "        temp+=res*int(i)\n",
    "        res=\"\"\n",
    "print(temp)\n",
    "\n",
    "\n"
   ]
  },
  {
   "cell_type": "code",
   "execution_count": 24,
   "metadata": {},
   "outputs": [
    {
     "name": "stdout",
     "output_type": "stream",
     "text": [
      "aeknbd\n"
     ]
    }
   ],
   "source": [
    "#input: a4k3b2\n",
    "#output:aeknbd\n",
    "st=\"a4k3b2\"\n",
    "res=\"\"\n",
    "temp=\"\"\n",
    "for i in st:\n",
    "    if i.isalpha():\n",
    "        res+=i\n",
    "    else:\n",
    "        temp+=res+chr(ord(res)+int(i))\n",
    "        res=\"\"\n",
    "print(temp)\n",
    "\n"
   ]
  },
  {
   "cell_type": "code",
   "execution_count": 3,
   "metadata": {},
   "outputs": [
    {
     "name": "stdout",
     "output_type": "stream",
     "text": [
      "26\n"
     ]
    }
   ],
   "source": [
    "print(7+19)"
   ]
  }
 ],
 "metadata": {
  "kernelspec": {
   "display_name": "Python 3",
   "language": "python",
   "name": "python3"
  },
  "language_info": {
   "codemirror_mode": {
    "name": "ipython",
    "version": 3
   },
   "file_extension": ".py",
   "mimetype": "text/x-python",
   "name": "python",
   "nbconvert_exporter": "python",
   "pygments_lexer": "ipython3",
   "version": "3.11.4"
  },
  "orig_nbformat": 4
 },
 "nbformat": 4,
 "nbformat_minor": 2
}
