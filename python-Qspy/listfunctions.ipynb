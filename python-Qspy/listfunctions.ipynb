{
 "cells": [
  {
   "cell_type": "code",
   "execution_count": 7,
   "metadata": {},
   "outputs": [
    {
     "name": "stdout",
     "output_type": "stream",
     "text": [
      "[20, 'a', 'b', 'c', 'd']\n"
     ]
    }
   ],
   "source": [
    "t=[\"a\",\"b\",\"c\",\"d\"]\n",
    "def insert(coll,index,ele):\n",
    "    if type(coll) !=list or type(index)!=int:\n",
    "        return -1\n",
    "    coll[index:index]=[ele]\n",
    "insert(t,-4,20)\n",
    "print(t)\n"
   ]
  },
  {
   "cell_type": "code",
   "execution_count": null,
   "metadata": {},
   "outputs": [],
   "source": [
    "#wap to sort\n",
    "\n",
    "def sort(coll,)"
   ]
  },
  {
   "cell_type": "code",
   "execution_count": 6,
   "metadata": {},
   "outputs": [
    {
     "name": "stdout",
     "output_type": "stream",
     "text": [
      "None\n",
      "[2, 4, 6, 7, 8, 10, 20, 30, 30, 50]\n"
     ]
    },
    {
     "ename": "IndexError",
     "evalue": "list index out of range",
     "output_type": "error",
     "traceback": [
      "\u001b[1;31m---------------------------------------------------------------------------\u001b[0m",
      "\u001b[1;31mIndexError\u001b[0m                                Traceback (most recent call last)",
      "\u001b[1;32mc:\\Users\\venka\\Documents\\GitHub\\basic-python1\\python-Qspy\\listfunctions.ipynb Cell 3\u001b[0m line \u001b[0;36m1\n\u001b[0;32m     <a href='vscode-notebook-cell:/c%3A/Users/venka/Documents/GitHub/basic-python1/python-Qspy/listfunctions.ipynb#W2sZmlsZQ%3D%3D?line=9'>10</a>\u001b[0m             coll[i],coll[j]\u001b[39m=\u001b[39mcoll[j],coll[i]\n\u001b[0;32m     <a href='vscode-notebook-cell:/c%3A/Users/venka/Documents/GitHub/basic-python1/python-Qspy/listfunctions.ipynb#W2sZmlsZQ%3D%3D?line=10'>11</a>\u001b[0m         j\u001b[39m+\u001b[39m\u001b[39m=\u001b[39m\u001b[39m1\u001b[39m\n\u001b[1;32m---> <a href='vscode-notebook-cell:/c%3A/Users/venka/Documents/GitHub/basic-python1/python-Qspy/listfunctions.ipynb#W2sZmlsZQ%3D%3D?line=11'>12</a>\u001b[0m sort(l)\n",
      "\u001b[1;32mc:\\Users\\venka\\Documents\\GitHub\\basic-python1\\python-Qspy\\listfunctions.ipynb Cell 3\u001b[0m line \u001b[0;36m9\n\u001b[0;32m      <a href='vscode-notebook-cell:/c%3A/Users/venka/Documents/GitHub/basic-python1/python-Qspy/listfunctions.ipynb#W2sZmlsZQ%3D%3D?line=6'>7</a>\u001b[0m j\u001b[39m=\u001b[39m\u001b[39m1\u001b[39m\n\u001b[0;32m      <a href='vscode-notebook-cell:/c%3A/Users/venka/Documents/GitHub/basic-python1/python-Qspy/listfunctions.ipynb#W2sZmlsZQ%3D%3D?line=7'>8</a>\u001b[0m \u001b[39mfor\u001b[39;00m i \u001b[39min\u001b[39;00m \u001b[39mrange\u001b[39m(\u001b[39m0\u001b[39m,\u001b[39mlen\u001b[39m(coll)\u001b[39m+\u001b[39m\u001b[39m2\u001b[39m):\n\u001b[1;32m----> <a href='vscode-notebook-cell:/c%3A/Users/venka/Documents/GitHub/basic-python1/python-Qspy/listfunctions.ipynb#W2sZmlsZQ%3D%3D?line=8'>9</a>\u001b[0m     \u001b[39mif\u001b[39;00m coll[i]\u001b[39m>\u001b[39mcoll[j]:\n\u001b[0;32m     <a href='vscode-notebook-cell:/c%3A/Users/venka/Documents/GitHub/basic-python1/python-Qspy/listfunctions.ipynb#W2sZmlsZQ%3D%3D?line=9'>10</a>\u001b[0m         coll[i],coll[j]\u001b[39m=\u001b[39mcoll[j],coll[i]\n\u001b[0;32m     <a href='vscode-notebook-cell:/c%3A/Users/venka/Documents/GitHub/basic-python1/python-Qspy/listfunctions.ipynb#W2sZmlsZQ%3D%3D?line=10'>11</a>\u001b[0m     j\u001b[39m+\u001b[39m\u001b[39m=\u001b[39m\u001b[39m1\u001b[39m\n",
      "\u001b[1;31mIndexError\u001b[0m: list index out of range"
     ]
    }
   ],
   "source": [
    "l=[10,30,50,2,4,6,7,8,30,20]\n",
    "print(l.sort())\n",
    "print(l)\n",
    "\n",
    "\n",
    "def sort(coll):\n",
    "    j=1\n",
    "    for i in range(0,len(coll)+2):\n",
    "        if coll[i]>coll[j]:\n",
    "            coll[i],coll[j]=coll[j],coll[i]\n",
    "        j+=1\n",
    "sort(l)\n"
   ]
  },
  {
   "cell_type": "code",
   "execution_count": 54,
   "metadata": {},
   "outputs": [
    {
     "name": "stdout",
     "output_type": "stream",
     "text": [
      "[30, 50, 2, 4, 6, 7, 8, 30, 20, 100]\n"
     ]
    }
   ],
   "source": [
    "l=[10,30,50,2,4,6,7,8,30,20,100]\n",
    "del l[0]\n",
    "print(l)"
   ]
  },
  {
   "cell_type": "code",
   "execution_count": 27,
   "metadata": {},
   "outputs": [
    {
     "name": "stdout",
     "output_type": "stream",
     "text": [
      "[10, 30, 50, 2, 4, 6, 7, 8, 30, 20, 100, {10, 20}]\n"
     ]
    }
   ],
   "source": [
    "#append()\n",
    "\n",
    "l=[10,30,50,2,4,6,7,8,30,20,100]\n",
    "def append(coll,ele):\n",
    "    if type(coll)!=list:\n",
    "        return -1\n",
    "    coll+=[ele]\n",
    "append(l,{10,20})\n",
    "print(l)\n",
    "\n"
   ]
  },
  {
   "cell_type": "code",
   "execution_count": 34,
   "metadata": {},
   "outputs": [
    {
     "name": "stdout",
     "output_type": "stream",
     "text": [
      "2\n"
     ]
    },
    {
     "data": {
      "text/plain": [
       "2"
      ]
     },
     "execution_count": 34,
     "metadata": {},
     "output_type": "execute_result"
    }
   ],
   "source": [
    "#count()\n",
    "l=[10,30,50,2,4,6,7,8,30,20,100]\n",
    "print(l.count(30))\n",
    "\n",
    "def count(coll,ele):\n",
    "    if type(coll) !=list:\n",
    "        return -1\n",
    "    count=0\n",
    "    for i in coll:\n",
    "        if i==ele:\n",
    "            count+=1\n",
    "    return count\n",
    "count(l,30)"
   ]
  },
  {
   "cell_type": "code",
   "execution_count": 41,
   "metadata": {},
   "outputs": [
    {
     "name": "stdout",
     "output_type": "stream",
     "text": [
      "10\n"
     ]
    },
    {
     "data": {
      "text/plain": [
       "'element not in list'"
      ]
     },
     "execution_count": 41,
     "metadata": {},
     "output_type": "execute_result"
    }
   ],
   "source": [
    "#index()\n",
    "l=[10,30,50,2,4,6,7,8,30,20,100]\n",
    "print(l.index(100))\n",
    "\n",
    "def index(coll,ele):\n",
    "    if type(coll)!=list:\n",
    "        return -1\n",
    "    if ele not in l:\n",
    "        return \"element not in list\"\n",
    "    for i in range(0,len(coll)):\n",
    "        if coll[i]==ele:\n",
    "            return i\n",
    "index(l,200)"
   ]
  },
  {
   "cell_type": "code",
   "execution_count": 48,
   "metadata": {},
   "outputs": [
    {
     "name": "stdout",
     "output_type": "stream",
     "text": [
      "[10, 30, 50, 2, 4, {400, 300}, 6, 7, 8, 30, 20, 100]\n"
     ]
    }
   ],
   "source": [
    "#insert()\n",
    "\n",
    "l=[10,30,50,2,4,6,7,8,30,20,100]\n",
    "\n",
    "def insert(coll,index,ele):\n",
    "    if type(coll)!=list:\n",
    "        return -1\n",
    "    # for i in range(0,len(coll)):\n",
    "    #     if i==index:\n",
    "\n",
    "    coll[index:index]=[ele]\n",
    "insert(l,5,{300,400})\n",
    "print(l)"
   ]
  },
  {
   "cell_type": "code",
   "execution_count": 63,
   "metadata": {},
   "outputs": [
    {
     "name": "stdout",
     "output_type": "stream",
     "text": [
      "[10, 30, 50, 2, 6, 7, 8, 30, 20, 100]\n",
      "[10, 30, 50, 2, 6, 7, 8, 30, 20, 100]\n"
     ]
    }
   ],
   "source": [
    "l=[10,30,50,2,4,6,7,8,30,20,100]\n",
    "l.pop(-7)\n",
    "print(l)\n",
    "\n",
    "def pop(coll,index=None):\n",
    "    if type(coll)!=list:\n",
    "        return -1\n",
    "    if index==None:\n",
    "        index=len(coll)-1\n",
    "    for i in range(0,len(coll)):\n",
    "        if i==index:\n",
    "            del coll[i]\n",
    "    print(coll)\n",
    "pop(l,-2)\n",
    "# print(l,1)"
   ]
  },
  {
   "cell_type": "code",
   "execution_count": null,
   "metadata": {},
   "outputs": [],
   "source": []
  }
 ],
 "metadata": {
  "kernelspec": {
   "display_name": "Python 3",
   "language": "python",
   "name": "python3"
  },
  "language_info": {
   "codemirror_mode": {
    "name": "ipython",
    "version": 3
   },
   "file_extension": ".py",
   "mimetype": "text/x-python",
   "name": "python",
   "nbconvert_exporter": "python",
   "pygments_lexer": "ipython3",
   "version": "3.8.2"
  },
  "orig_nbformat": 4
 },
 "nbformat": 4,
 "nbformat_minor": 2
}
