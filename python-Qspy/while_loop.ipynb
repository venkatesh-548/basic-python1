{
 "cells": [
  {
   "cell_type": "code",
   "execution_count": 2,
   "metadata": {},
   "outputs": [],
   "source": [
    "#input function\n",
    "\n",
    "# a=int(input(\"enter a num:\"))\n",
    "# print(a,type(a))\n",
    "# a=float(input(\"enter a num:\"))\n",
    "# print(a,type(a))\n",
    "# a=complex(input(\"enter a num:\"))\n",
    "# print(a,type(a))\n",
    "# a=bytes(input(\"enter a num:\"))\n",
    "# print(a,type(a))\n",
    "# a=list(input(\"enter a num:\"))\n",
    "# print(a,type(a))\n",
    "# a=tuple(input(\"enter a num:\"))\n",
    "# print(a,type(a))\n",
    "# a=set(input(\"enter a num:\"))\n",
    "# print(a,type(a))\n",
    "# a=dict(input(\"enter a dict:\"))\n",
    "# print(a,type(a))"
   ]
  },
  {
   "cell_type": "code",
   "execution_count": 10,
   "metadata": {},
   "outputs": [
    {
     "name": "stdout",
     "output_type": "stream",
     "text": [
      "{1, 2, 3, 4, 5} <class 'set'>\n"
     ]
    }
   ],
   "source": [
    "#1 eval can be used to take any input of the function.\n",
    "a=eval(input(\"enter input:\"))\n",
    "print(a,type(a))"
   ]
  },
  {
   "cell_type": "code",
   "execution_count": 12,
   "metadata": {},
   "outputs": [
    {
     "name": "stdout",
     "output_type": "stream",
     "text": [
      "[1, 2, 3, [4, 5]] <class 'list'>\n"
     ]
    }
   ],
   "source": [
    "a=eval(input(\"enter input:\"))\n",
    "print(a,type(a))"
   ]
  },
  {
   "cell_type": "code",
   "execution_count": 13,
   "metadata": {},
   "outputs": [
    {
     "name": "stdout",
     "output_type": "stream",
     "text": [
      "{'a': 10} <class 'dict'>\n"
     ]
    }
   ],
   "source": [
    "a=eval(input(\"enter input:\"))\n",
    "print(a,type(a))"
   ]
  },
  {
   "cell_type": "code",
   "execution_count": 23,
   "metadata": {},
   "outputs": [
    {
     "name": "stdout",
     "output_type": "stream",
     "text": [
      "1 hello world!\n",
      "2 hello world!\n",
      "3 hello world!\n",
      "4 hello world!\n",
      "5 hello world!\n",
      "6 hello world!\n",
      "7 hello world!\n",
      "8 hello world!\n",
      "9 hello world!\n",
      "10 hello world!\n"
     ]
    }
   ],
   "source": [
    "#1 wap to print hello world 10 times\n",
    "\n",
    "n=10\n",
    "i=1\n",
    "while i<=n:\n",
    "    print(i,\"hello world!\")\n",
    "    i+=1\n",
    "n=10\n",
    "i=0\n",
    "# while i<n:\n",
    "#     print(i,\"hello world!\")\n",
    "#     i+=1\n",
    "# n=10\n",
    "# i=1\n",
    "# while i<n+1:\n",
    "#     print(i,\"hello world!\")\n",
    "#     i+=1\n",
    "# n=11\n",
    "# i=1\n",
    "# while i<n:\n",
    "#     print(i,\"hello world!\")\n",
    "#     i+=1"
   ]
  },
  {
   "cell_type": "code",
   "execution_count": 21,
   "metadata": {},
   "outputs": [
    {
     "name": "stdout",
     "output_type": "stream",
     "text": [
      "10 hello\n",
      "9 hello\n",
      "8 hello\n",
      "7 hello\n",
      "6 hello\n",
      "5 hello\n",
      "4 hello\n",
      "3 hello\n",
      "2 hello\n",
      "1 hello\n"
     ]
    }
   ],
   "source": [
    "#2 wap to print hello world using decrement operator\n",
    "\n",
    "n=10\n",
    "while n>=1:\n",
    "    print(n,\"hello\")\n",
    "    n-=1\n",
    "n=10\n",
    "while n:\n",
    "    print(n,\"hello\")\n",
    "    n-=1\n"
   ]
  },
  {
   "cell_type": "code",
   "execution_count": 29,
   "metadata": {},
   "outputs": [
    {
     "name": "stdout",
     "output_type": "stream",
     "text": [
      "0 1 2 3 4 5 6 7 8 9 10 11 12 "
     ]
    }
   ],
   "source": [
    "#3 wap to print the whole numbers from 0 to n\n",
    "n=eval(input(\"enter anum:\"))\n",
    "i=0\n",
    "while i<=n:\n",
    "    print(i,end=\" \")\n",
    "    i=i+1"
   ]
  },
  {
   "cell_type": "code",
   "execution_count": 2,
   "metadata": {},
   "outputs": [
    {
     "name": "stdout",
     "output_type": "stream",
     "text": [
      "20  18  16  14  12  10  8  6  4  2  "
     ]
    }
   ],
   "source": [
    "# 4 wap to print the whole numbers from n to 0 with step 2\n",
    "n=eval(input(\"enter a num:\"))\n",
    "while n:\n",
    "    print(n,end=\"  \")\n",
    "    n-=2"
   ]
  },
  {
   "cell_type": "code",
   "execution_count": 35,
   "metadata": {},
   "outputs": [
    {
     "name": "stdout",
     "output_type": "stream",
     "text": [
      "7 5 6 7 8 4 5 6 7 8 "
     ]
    }
   ],
   "source": [
    "#5 wap to extract the digits from number\n",
    "n=8765487657\n",
    "while n>0:\n",
    "    digit=n%10\n",
    "    print(digit,end=\" \")\n",
    "    n=n//10"
   ]
  },
  {
   "cell_type": "code",
   "execution_count": 37,
   "metadata": {},
   "outputs": [
    {
     "name": "stdout",
     "output_type": "stream",
     "text": [
      "15\n"
     ]
    }
   ],
   "source": [
    "#6 wap for the sum of the digits\n",
    "\n",
    "n=12345\n",
    "sum=0\n",
    "while n:\n",
    "    digit=n%10\n",
    "    sum+=digit\n",
    "    n=n//10\n",
    "print(sum)"
   ]
  },
  {
   "cell_type": "code",
   "execution_count": 5,
   "metadata": {},
   "outputs": [
    {
     "name": "stdout",
     "output_type": "stream",
     "text": [
      "372 is not an armstrong number\n"
     ]
    }
   ],
   "source": [
    "#7 to check the given number is armstrong num or not\n",
    "\n",
    "n=371\n",
    "num=n\n",
    "sum=0\n",
    "while n:\n",
    "    digit=n%10\n",
    "    sum=sum+digit**3\n",
    "    n=n//10\n",
    "if sum==num:\n",
    "    print(f'{num} is an arm strong number')\n",
    "else:\n",
    "    print(f\"{num} is not an armstrong number\")\n",
    "\n"
   ]
  },
  {
   "cell_type": "code",
   "execution_count": 7,
   "metadata": {},
   "outputs": [
    {
     "name": "stdout",
     "output_type": "stream",
     "text": [
      "123454321 is a palindrome\n"
     ]
    }
   ],
   "source": [
    "#8 to check the given number is palindrome or not\n",
    "\n",
    "n=123454321\n",
    "num=n\n",
    "rem=0\n",
    "while n:\n",
    "    digit=n%10\n",
    "    rem=rem*10+digit\n",
    "    n=n//10\n",
    "if rem==num:\n",
    "    print(f\"{num} is a palindrome\")\n",
    "else:\n",
    "    print(f\"{num} is not a palindrome\")"
   ]
  },
  {
   "cell_type": "code",
   "execution_count": 5,
   "metadata": {},
   "outputs": [
    {
     "name": "stdout",
     "output_type": "stream",
     "text": [
      "factorial 24\n",
      "factorial 120\n"
     ]
    }
   ],
   "source": [
    "#9 to print factorial of the number\n",
    "#5!=5*4*3*2*1\n",
    "\n",
    "n=4\n",
    "fact=1\n",
    "while n:\n",
    "    fact=fact*n\n",
    "    n=n-1\n",
    "print(\"factorial\",fact)\n",
    "n=5\n",
    "fact=1\n",
    "for i in range(1,n+1):\n",
    "    fact=fact*i\n",
    "print(\"factorial\",fact)\n",
    "\n"
   ]
  },
  {
   "cell_type": "code",
   "execution_count": 9,
   "metadata": {},
   "outputs": [
    {
     "name": "stdout",
     "output_type": "stream",
     "text": [
      "prime number\n"
     ]
    }
   ],
   "source": [
    "#10 to check the number is prime number or not\n",
    "#if num divisible by 1 and it self is prime\n",
    "\n",
    "n=13\n",
    "i=2\n",
    "count=0\n",
    "while i<n//2:\n",
    "    if n%i==0:\n",
    "        count=count+1\n",
    "    i+=1\n",
    "if count==0:\n",
    "    print(\"prime number\")\n",
    "else:\n",
    "    print(\"not a prime number\")\n",
    "\n",
    "\n"
   ]
  },
  {
   "cell_type": "code",
   "execution_count": 11,
   "metadata": {},
   "outputs": [
    {
     "name": "stdout",
     "output_type": "stream",
     "text": [
      "2 3 5 7 11 13 17 19 23 29 31 37 41 43 47 53 59 61 67 71 73 79 83 89 97 "
     ]
    }
   ],
   "source": [
    "#11 prime numbers from 0 to 100\n",
    "for n in range(2,100):\n",
    "    i=2\n",
    "    count=0\n",
    "    while i<=n:\n",
    "        if n%i==0:\n",
    "            count=count+1\n",
    "        i+=1\n",
    "    if count==1:\n",
    "       print(n,end=\" \")\n",
    "\n",
    "    "
   ]
  },
  {
   "cell_type": "code",
   "execution_count": 12,
   "metadata": {},
   "outputs": [
    {
     "name": "stdout",
     "output_type": "stream",
     "text": [
      "155\n"
     ]
    }
   ],
   "source": [
    "#12 sum of numbers in range i-n\n",
    "i=11\n",
    "n=20\n",
    "sum=0\n",
    "while i<=n:\n",
    "    sum+=i\n",
    "    i+=1\n",
    "print(sum)\n",
    "\n",
    "\n"
   ]
  },
  {
   "cell_type": "code",
   "execution_count": 10,
   "metadata": {},
   "outputs": [
    {
     "name": "stdout",
     "output_type": "stream",
     "text": [
      "153 370 371 407 "
     ]
    }
   ],
   "source": [
    "#13 to print the armstrong numbers from 100 to 500\n",
    "for n in range(100,500):\n",
    "    order=len(str(n))\n",
    "    sum=0\n",
    "    temp=n\n",
    "#    print(temp)\n",
    "    while n:\n",
    "        dig=n%10\n",
    "        sum+=dig ** order\n",
    "        n=n//10\n",
    "    if temp==sum:\n",
    "        print(temp,end=\" \")\n",
    "\n"
   ]
  },
  {
   "cell_type": "code",
   "execution_count": 3,
   "metadata": {},
   "outputs": [
    {
     "name": "stdout",
     "output_type": "stream",
     "text": [
      "1 2 3 5 8 13 21 34 "
     ]
    }
   ],
   "source": [
    "#14 fabinocci series\n",
    "\n",
    "num=10\n",
    "n1=0\n",
    "n2=1\n",
    "for i in range(2,num):\n",
    "    n3=n1+n2  #n3=0+1=1  n1=0,n2=1,n3=1  n2=n1->n1=1 n2=n3->n2=1 n3=1+1=2 n2=1,->n1=1,n3=2->n2=2==n1+n2->1+2->3\n",
    "    n1=n2\n",
    "    n2=n3\n",
    "    print(n3,end=\" \")"
   ]
  },
  {
   "cell_type": "code",
   "execution_count": 3,
   "metadata": {},
   "outputs": [
    {
     "name": "stdout",
     "output_type": "stream",
     "text": [
      "o i a o a i a u a e "
     ]
    }
   ],
   "source": [
    "#15 wap to print the vowels in the given string\n",
    "\n",
    "s=\"python is a programming language\"\n",
    "for i in s:\n",
    "    if i in \"aeiouAEIOU\":\n",
    "        print(i,end=\" \")"
   ]
  },
  {
   "cell_type": "code",
   "execution_count": 9,
   "metadata": {},
   "outputs": [
    {
     "name": "stdout",
     "output_type": "stream",
     "text": [
      "32\n",
      "o i a o a i a u a e "
     ]
    }
   ],
   "source": [
    "#16 wap to print the vowels in the given string\n",
    "\n",
    "s=\"python is a programming language\"\n",
    "i=1\n",
    "print(len(s))\n",
    "while i<=len(s)-1:\n",
    "    if s[i] in \"aeiouAEIOU\":\n",
    "        print(s[i],end=\" \")\n",
    "    i+=1"
   ]
  },
  {
   "cell_type": "code",
   "execution_count": 18,
   "metadata": {},
   "outputs": [
    {
     "name": "stdout",
     "output_type": "stream",
     "text": [
      "2 3 5 7 []\n"
     ]
    }
   ],
   "source": [
    "l=[2,3,4,5,6,7,8,9,10]\n",
    "i=0\n",
    "# d=[]\n",
    "while i<=len(l)-1:\n",
    "    # print(l[i])\n",
    "    num=l[i]\n",
    "    count=0\n",
    "    j=1\n",
    "    while j<=num:\n",
    "        if num%j==0:\n",
    "            count+=1\n",
    "        j+=1\n",
    "    if count==2:\n",
    "        print(num,end=\" \")\n",
    "    i+=1\n",
    "print(d)\n",
    "    "
   ]
  },
  {
   "cell_type": "code",
   "execution_count": 13,
   "metadata": {},
   "outputs": [
    {
     "name": "stdout",
     "output_type": "stream",
     "text": [
      "256\n"
     ]
    }
   ],
   "source": [
    "#17 to find the power of the number\n",
    "n=4\n",
    "p=4\n",
    "# res=n**p\n",
    "res=pow(n,p)\n",
    "print(res)"
   ]
  },
  {
   "cell_type": "code",
   "execution_count": 21,
   "metadata": {},
   "outputs": [
    {
     "name": "stdout",
     "output_type": "stream",
     "text": [
      "1 4 9 16 25 36 49 64 81 100 121 144 169 196 225 256 289 324 361 400 "
     ]
    }
   ],
   "source": [
    "# 18 wap to find the power of num from 1-20\n",
    "n=20\n",
    "i=1\n",
    "while i<=n:\n",
    "    res=pow(i,2)\n",
    "    # result=pow(i,3)\n",
    "    print(res,end=\" \")\n",
    "    # print(\"\\n\",result,end=\" \")\n",
    "    i+=1"
   ]
  },
  {
   "cell_type": "code",
   "execution_count": 28,
   "metadata": {},
   "outputs": [
    {
     "name": "stdout",
     "output_type": "stream",
     "text": [
      "1 2 3 4 6 9 12 18 36 "
     ]
    }
   ],
   "source": [
    "# 19 wap factors of the number\n",
    "#to find the factors 6 it is divisible by 1,2,3,6\n",
    "\n",
    "n=36\n",
    "i=1\n",
    "while i<=n:\n",
    "    if n%i==0:\n",
    "        print(i,end=\" \")\n",
    "    i+=1"
   ]
  },
  {
   "cell_type": "code",
   "execution_count": 17,
   "metadata": {},
   "outputs": [
    {
     "name": "stdout",
     "output_type": "stream",
     "text": [
      "perfect number\n"
     ]
    }
   ],
   "source": [
    "# 20 wap to check the number is perfect or not\n",
    "#to check perfect number 24 multiples==(1,2,3,4,6,8==24)\n",
    "\n",
    "n=6\n",
    "num=n\n",
    "i=1\n",
    "sum=0\n",
    "while i<n:\n",
    "    if n%i==0:\n",
    "        sum+=i\n",
    "    i=i+1      \n",
    "if sum==num:\n",
    "    print(\"perfect number\")\n",
    "else:\n",
    "    print(\"not a perfect number\")\n"
   ]
  },
  {
   "cell_type": "code",
   "execution_count": 4,
   "metadata": {},
   "outputs": [
    {
     "name": "stdout",
     "output_type": "stream",
     "text": [
      "automorphic number\n",
      "100\n"
     ]
    }
   ],
   "source": [
    "# 22 wap to check the number is automorphic or not\n",
    "#it is a num whose square end with that number 5**2=25->5or 25**2->625\n",
    "\n",
    "n=25\n",
    "sqr=pow(n,2)\n",
    "mod=pow(10,len(str(n)))\n",
    "res=sqr%mod\n",
    "if res==n:\n",
    "    print(\"automorphic number\")\n",
    "\n",
    "\n",
    "\n",
    "mod=pow(10,len(str(n)))\n",
    "print(mod)\n",
    "\n"
   ]
  },
  {
   "cell_type": "code",
   "execution_count": 5,
   "metadata": {},
   "outputs": [
    {
     "name": "stdout",
     "output_type": "stream",
     "text": [
      "harshad number\n"
     ]
    }
   ],
   "source": [
    "# 23 wap to check the number is harshad number or not\n",
    "#if sum of digits of num is divide that num i.e 21->2+1=3==>21/3==0\n",
    "\n",
    "n=30\n",
    "t=n\n",
    "sum=0\n",
    "while n>0:\n",
    "    digit=n%10\n",
    "    sum+=digit\n",
    "    n=n//10\n",
    "if t%sum==0:\n",
    "    print(\"harshad number\")\n",
    "else:\n",
    "    print(\"not a harshad number\")\n"
   ]
  },
  {
   "cell_type": "code",
   "execution_count": 6,
   "metadata": {},
   "outputs": [
    {
     "name": "stdout",
     "output_type": "stream",
     "text": [
      "not an abundant number\n"
     ]
    }
   ],
   "source": [
    "# 24 wap to check the number is abundant number or not\n",
    "#if sum of facctors except itself greater than that number then it is abundant number\n",
    "#12==>1,2,3,4,6==16>12 it is abundant number\n",
    "\n",
    "n=25\n",
    "sum=0\n",
    "i=1\n",
    "while i<n:\n",
    "    if n%i==0:\n",
    "        sum+=i\n",
    "    i+=1\n",
    "if sum>n:\n",
    "    print(\"abundant number\")\n",
    "else:\n",
    "    print(\"not an abundant number\")\n",
    "\n"
   ]
  },
  {
   "cell_type": "code",
   "execution_count": 23,
   "metadata": {},
   "outputs": [
    {
     "name": "stdout",
     "output_type": "stream",
     "text": [
      "6\n",
      "28\n",
      "friendly pair\n"
     ]
    }
   ],
   "source": [
    "# 25 friendly pair of the number\n",
    "n1=6\n",
    "s=0\n",
    "i=1\n",
    "while i<n1:\n",
    "    if n1%i==0:\n",
    "        s+=i\n",
    "    j=1\n",
    "    d=0\n",
    "    n2=28\n",
    "    while j<n2:\n",
    "        if n2%j==0:\n",
    "           d+=j\n",
    "        j+=1\n",
    "    i+=1\n",
    "print(s)\n",
    "print(d)\n",
    "if n1/s==n2/d:\n",
    "    print(\"friendly pair\")\n",
    "else:\n",
    "    print(\"not\")\n",
    "\n"
   ]
  },
  {
   "cell_type": "code",
   "execution_count": 24,
   "metadata": {},
   "outputs": [
    {
     "name": "stdout",
     "output_type": "stream",
     "text": [
      "28\n",
      "the sum of factors of 12 is:28\n"
     ]
    }
   ],
   "source": [
    "# 26 wap to perform the sum of the factors of given number\n",
    "\n",
    "n=12\n",
    "i=1\n",
    "sum=0\n",
    "while n>=i:\n",
    "    if n%i==0:\n",
    "        sum+=i\n",
    "    i+=1\n",
    "print(sum)\n",
    "print(f'the sum of factors of {n} is:{sum}')\n"
   ]
  },
  {
   "cell_type": "code",
   "execution_count": 25,
   "metadata": {},
   "outputs": [
    {
     "name": "stdout",
     "output_type": "stream",
     "text": [
      "prime\n"
     ]
    }
   ],
   "source": [
    "# 27 wap wap to find the sum of the digits of number and check that digit is prime or not\n",
    "\n",
    "n=34\n",
    "i=1\n",
    "sum=0\n",
    "while i<=n:\n",
    "    ld=n%10\n",
    "    sum+=ld\n",
    "    n=n//10\n",
    "count=0\n",
    "while sum>=i:\n",
    "    if sum%i==0:\n",
    "        count+=1\n",
    "    i+=1\n",
    "if count==2:\n",
    "    print(\"prime\")\n",
    "else:\n",
    "    print(\"not prime\")\n",
    "\n",
    "\n"
   ]
  },
  {
   "cell_type": "code",
   "execution_count": 26,
   "metadata": {},
   "outputs": [
    {
     "name": "stdout",
     "output_type": "stream",
     "text": [
      "120\n",
      "not a perfect number\n"
     ]
    }
   ],
   "source": [
    "# 28 wap to findout the product of all digits and final result is perfect or not\n",
    "\n",
    "n=12345\n",
    "i=1\n",
    "prod=1\n",
    "while i<=n:\n",
    "    ld=n%10\n",
    "    prod*=ld\n",
    "    n=n//10\n",
    "print(prod)\n",
    "num=prod\n",
    "# print(num)\n",
    "i=1\n",
    "sum=0\n",
    "while i<prod:\n",
    "    if prod%i==0:\n",
    "        sum+=i\n",
    "    i+=1\n",
    "# print(sum)\n",
    "if num==sum:\n",
    "    print(\"perfect number\")\n",
    "else:\n",
    "    print(\"not a perfect number\")\n",
    "\n"
   ]
  },
  {
   "cell_type": "code",
   "execution_count": 27,
   "metadata": {},
   "outputs": [
    {
     "name": "stdout",
     "output_type": "stream",
     "text": [
      "[3, 6, 7, 5, 4, 6, 7, 4]\n"
     ]
    }
   ],
   "source": [
    "# 29 wap to display the values from left to right\n",
    "n=36754674\n",
    "l=[]\n",
    "i=1\n",
    "while i<=n:\n",
    "    ld=n%10\n",
    "    l.append(ld)\n",
    "    n=n//10\n",
    "print(l[::-1])"
   ]
  },
  {
   "cell_type": "code",
   "execution_count": 28,
   "metadata": {},
   "outputs": [
    {
     "name": "stdout",
     "output_type": "stream",
     "text": [
      "8\n",
      "3 6 7 5 4 6 7 4 "
     ]
    }
   ],
   "source": [
    "# 30 wap to display the values from left to right\n",
    "n=36754674\n",
    "n=str(n)\n",
    "print(len(n))\n",
    "i=0\n",
    "while i<len(n):\n",
    "    print(n[i],end=\" \")\n",
    "    i+=1"
   ]
  },
  {
   "cell_type": "code",
   "execution_count": 29,
   "metadata": {},
   "outputs": [
    {
     "name": "stdout",
     "output_type": "stream",
     "text": [
      "4 3 2 5 8 6 8 7 6 3 "
     ]
    }
   ],
   "source": [
    "# 31 wap to display the values from  right to left\n",
    "n=3678685234\n",
    "n=str(n)[::-1]\n",
    "i=0\n",
    "while i<len(n):\n",
    "    print(n[i],end=\" \")\n",
    "    i+=1\n",
    "\n",
    "\n"
   ]
  },
  {
   "cell_type": "code",
   "execution_count": 30,
   "metadata": {},
   "outputs": [
    {
     "name": "stdout",
     "output_type": "stream",
     "text": [
      "8\n"
     ]
    }
   ],
   "source": [
    "# 32 wap to find the largest digit in the given num\n",
    "n=835687687\n",
    "rem=0\n",
    "i=1\n",
    "while i<=n:\n",
    "    ld=n%10\n",
    "    if rem<ld:\n",
    "        rem=ld\n",
    "    n=n//10\n",
    "print(rem)"
   ]
  },
  {
   "cell_type": "code",
   "execution_count": 31,
   "metadata": {},
   "outputs": [
    {
     "name": "stdout",
     "output_type": "stream",
     "text": [
      "0\n"
     ]
    }
   ],
   "source": [
    "# 33 wap to find the smallest digit in the given num\n",
    "n=3706564876321\n",
    "rem=9\n",
    "i=1\n",
    "while i<=n:\n",
    "    ld=n%10\n",
    "    if ld<rem:\n",
    "        rem=ld\n",
    "    n=n//10\n",
    "print(rem)\n"
   ]
  },
  {
   "cell_type": "code",
   "execution_count": 32,
   "metadata": {},
   "outputs": [
    {
     "name": "stdout",
     "output_type": "stream",
     "text": [
      "8\n"
     ]
    }
   ],
   "source": [
    "# 34 wap even largest number\n",
    "n=3706564876321\n",
    "rem=0\n",
    "i=1\n",
    "while i<=n:\n",
    "    ld=n%10\n",
    "    if ld>rem and ld%2==0:\n",
    "        rem=ld\n",
    "    n=n//10\n",
    "print(rem)\n"
   ]
  },
  {
   "cell_type": "code",
   "execution_count": 33,
   "metadata": {},
   "outputs": [
    {
     "name": "stdout",
     "output_type": "stream",
     "text": [
      "-33\n"
     ]
    }
   ],
   "source": [
    "#35 find the difference of the values from the given number from last to first\n",
    "\n",
    "n=83765624\n",
    "rem=n%10\n",
    "n=n//10\n",
    "while n>0:\n",
    "    ld=n%10\n",
    "    rem-=ld\n",
    "    n=n//10\n",
    "print(rem)"
   ]
  },
  {
   "cell_type": "code",
   "execution_count": 34,
   "metadata": {},
   "outputs": [
    {
     "name": "stdout",
     "output_type": "stream",
     "text": [
      "-25\n"
     ]
    }
   ],
   "source": [
    "# 36 find the difference of the values from the given number from last to first\n",
    "n=83765624\n",
    "n=str(n)\n",
    "rem=int(n[0])\n",
    "i=1\n",
    "while i<len(n):\n",
    "    rem-=int(n[i])\n",
    "    i+=1\n",
    "print(rem)\n"
   ]
  },
  {
   "cell_type": "code",
   "execution_count": 35,
   "metadata": {},
   "outputs": [
    {
     "name": "stdout",
     "output_type": "stream",
     "text": [
      "4 6 8 8 "
     ]
    }
   ],
   "source": [
    "# 37 extract even didits from the given number\n",
    "\n",
    "n=893577864\n",
    "i=1\n",
    "while i<=n:\n",
    "    ld=n%10\n",
    "    if ld%2==0:\n",
    "        print(ld,end=\" \")\n",
    "    n=n//10"
   ]
  },
  {
   "cell_type": "code",
   "execution_count": 36,
   "metadata": {},
   "outputs": [
    {
     "name": "stdout",
     "output_type": "stream",
     "text": [
      "1 2 3 4 5 6 7 8 9 10 "
     ]
    }
   ],
   "source": [
    "# 38 to genarate the sequence of the values from m to n.\n",
    "m=1\n",
    "n=10\n",
    "if m>n:\n",
    "    m,n=n,m\n",
    "while m<=n:\n",
    "    print(m,end=\" \")\n",
    "    m+=1"
   ]
  },
  {
   "cell_type": "code",
   "execution_count": 37,
   "metadata": {},
   "outputs": [
    {
     "name": "stdout",
     "output_type": "stream",
     "text": [
      "1 2 3 4 5 6 7 8 9 10 11 12 13 14 15 16 17 18 19 20 "
     ]
    }
   ],
   "source": [
    "# 39 wap to generate the sequence of the values from 1 to n\n",
    "n=-20\n",
    "if n<0:\n",
    "    n=-1*n\n",
    "i=1\n",
    "while i<=n:\n",
    "    print(i,end=\" \")\n",
    "    i+=1"
   ]
  },
  {
   "cell_type": "code",
   "execution_count": 59,
   "metadata": {},
   "outputs": [
    {
     "name": "stdout",
     "output_type": "stream",
     "text": [
      "2 3 5 7 11 13 17 19 23 29 31 37 41 43 47 53 59 61 67 71 73 79 83 89 97 "
     ]
    }
   ],
   "source": [
    "#40 to print prime numbers from 1to 100\n",
    "n=100\n",
    "i=1\n",
    "while i<=n:\n",
    "    j=1\n",
    "    count=0  #num=i\n",
    "    while j<=i:\n",
    "        if i%j==0:\n",
    "            count+=1\n",
    "        j+=1\n",
    "    if count==2:\n",
    "        print(i,end=\" \")\n",
    "    i+=1"
   ]
  },
  {
   "cell_type": "code",
   "execution_count": null,
   "metadata": {},
   "outputs": [],
   "source": [
    "\n",
    "\n"
   ]
  },
  {
   "cell_type": "code",
   "execution_count": 93,
   "metadata": {},
   "outputs": [
    {
     "name": "stdout",
     "output_type": "stream",
     "text": [
      "1 2 145 "
     ]
    }
   ],
   "source": [
    "#wap to print series of strong numbers\n",
    "End=2000\n",
    "start=1\n",
    "while start<=End:\n",
    "    n=start\n",
    "    p=n\n",
    "    sum=0\n",
    "    while(n>0):\n",
    "        digit=n%10\n",
    "        fact=1\n",
    "        i=1\n",
    "        while i<=digit:\n",
    "            fact=fact*i\n",
    "            i+=1\n",
    "        sum+=fact\n",
    "        n=n//10\n",
    "    if sum==p:\n",
    "        print(sum,end=\" \")\n",
    "    start+=1\n"
   ]
  },
  {
   "cell_type": "code",
   "execution_count": 88,
   "metadata": {},
   "outputs": [
    {
     "name": "stdout",
     "output_type": "stream",
     "text": [
      "1 2 3 4 5 6 7 8 9 153 370 371 407 1634 8208 9474 54748 92727 93084 "
     ]
    }
   ],
   "source": [
    "#wap to print the series of armstrong numbers from 1 to 1,00,000\n",
    "end=100000\n",
    "start=1\n",
    "while start<=end:\n",
    "    n=start\n",
    "    temp=n\n",
    "    s=len(str(n))\n",
    "    sum=0\n",
    "    while n:\n",
    "        ld=n%10\n",
    "        sum=sum+(ld**s)\n",
    "        n=n//10\n",
    "    if temp==sum:\n",
    "        print(temp,end=\" \")\n",
    "    start+=1\n"
   ]
  },
  {
   "cell_type": "code",
   "execution_count": 86,
   "metadata": {},
   "outputs": [
    {
     "name": "stdout",
     "output_type": "stream",
     "text": [
      "153\n"
     ]
    }
   ],
   "source": [
    "#armsrrong number\n",
    "n=153\n",
    "temp=n\n",
    "s=len(str(n))\n",
    "sum=0\n",
    "while n:\n",
    "    ld=n%10\n",
    "    sum=sum+(ld**s)\n",
    "    n=n//10\n",
    "if temp==sum:\n",
    "    print(temp)\n",
    "\n"
   ]
  },
  {
   "cell_type": "code",
   "execution_count": 101,
   "metadata": {},
   "outputs": [
    {
     "name": "stdout",
     "output_type": "stream",
     "text": [
      "1 2 3 4 5 6 7 8 9 22 123 132 213 231 312 321 1124 1142 1214 1241 1412 1421 2114 2141 2411 4112 4121 4211 "
     ]
    }
   ],
   "source": [
    "#wap to print the series of spy numbers\n",
    "start=1\n",
    "end=10000\n",
    "while start<=end:\n",
    "    n=start\n",
    "    temp=n\n",
    "    sum=0\n",
    "    fact=1\n",
    "    while n:\n",
    "        ld=n%10\n",
    "        sum+=ld\n",
    "        fact*=ld\n",
    "        n//=10\n",
    "    if sum==fact:\n",
    "        print(temp,end=\" \")\n",
    "    start+=1"
   ]
  },
  {
   "cell_type": "code",
   "execution_count": 96,
   "metadata": {},
   "outputs": [
    {
     "name": "stdout",
     "output_type": "stream",
     "text": [
      "1124\n"
     ]
    }
   ],
   "source": [
    "#spy number\n",
    "n=1124\n",
    "temp=n\n",
    "sum=0\n",
    "fact=1\n",
    "while n:\n",
    "    ld=n%10\n",
    "    sum+=ld\n",
    "    fact*=ld\n",
    "    n//=10\n",
    "if sum==fact:\n",
    "    print(temp)"
   ]
  },
  {
   "cell_type": "code",
   "execution_count": 103,
   "metadata": {},
   "outputs": [
    {
     "name": "stdout",
     "output_type": "stream",
     "text": [
      "1 2 3 4 5 6 7 8 9 11 22 33 44 55 66 77 88 99 101 111 121 131 141 151 161 171 181 191 202 212 222 232 242 252 262 272 282 292 303 313 323 333 343 353 363 373 383 393 404 414 424 434 444 454 464 474 484 494 505 515 525 535 545 555 565 575 585 595 606 616 626 636 646 656 666 676 686 696 707 717 727 737 747 757 767 777 787 797 808 818 828 838 848 858 868 878 888 898 909 919 929 939 949 959 969 979 989 999 "
     ]
    }
   ],
   "source": [
    "#wap to print series of palindrome \n",
    "start=1\n",
    "end=1000\n",
    "while start<=end:\n",
    "    n=start\n",
    "    temp=n\n",
    "    rev=0\n",
    "    while n:\n",
    "        ld=n%10\n",
    "        rev=rev*10+ld\n",
    "        n=n//10\n",
    "    if rev==temp:\n",
    "        print(temp,end=\" \")\n",
    "    start+=1\n",
    "    "
   ]
  },
  {
   "cell_type": "code",
   "execution_count": 112,
   "metadata": {},
   "outputs": [
    {
     "name": "stdout",
     "output_type": "stream",
     "text": [
      "9\n",
      "49\n"
     ]
    }
   ],
   "source": [
    "#wap \n",
    "n=1979213881\n",
    "sum=0\n",
    "while n:\n",
    "    ld=n%10\n",
    "    sum+=ld\n",
    "    num=sum\n",
    "    rev=0\n",
    "    while num>0:\n",
    "        d=num%10\n",
    "        rev+=d\n",
    "        num=num//10\n",
    "    n=n//10\n",
    "print(rev)\n",
    "print(sum)\n",
    "\n"
   ]
  },
  {
   "cell_type": "code",
   "execution_count": 119,
   "metadata": {},
   "outputs": [
    {
     "name": "stdout",
     "output_type": "stream",
     "text": [
      "71\n",
      "8\n",
      "8\n"
     ]
    }
   ],
   "source": [
    "# sum of digits of number \n",
    "n=19792138817654\n",
    "while n>=9:\n",
    "    sum=0\n",
    "    while n:\n",
    "        ld=n%10\n",
    "        sum+=ld\n",
    "        n=n//10\n",
    "    print(sum)\n",
    "    n=sum\n",
    "print(sum)\n"
   ]
  },
  {
   "cell_type": "code",
   "execution_count": 132,
   "metadata": {},
   "outputs": [
    {
     "name": "stdout",
     "output_type": "stream",
     "text": [
      "2\n",
      "3\n"
     ]
    }
   ],
   "source": [
    "# wap to extract middle digit of the given number\n",
    "n=12345\n",
    "temp=n\n",
    "count=0\n",
    "while n:\n",
    "    count+=1\n",
    "    n=n//10\n",
    "t=count//2\n",
    "print(t)\n",
    "while t:\n",
    "    temp=temp//10\n",
    "    t-=1\n",
    "print(temp%10)\n"
   ]
  },
  {
   "cell_type": "code",
   "execution_count": 12,
   "metadata": {},
   "outputs": [
    {
     "ename": "KeyboardInterrupt",
     "evalue": "",
     "output_type": "error",
     "traceback": [
      "\u001b[1;31m---------------------------------------------------------------------------\u001b[0m",
      "\u001b[1;31mKeyboardInterrupt\u001b[0m                         Traceback (most recent call last)",
      "Cell \u001b[1;32mIn[12], line 11\u001b[0m\n\u001b[0;32m      9\u001b[0m \u001b[39mif\u001b[39;00m \u001b[39msum\u001b[39m\u001b[39m==\u001b[39mtemp:\n\u001b[0;32m     10\u001b[0m     start\u001b[39m=\u001b[39m\u001b[39m1\u001b[39m\n\u001b[1;32m---> 11\u001b[0m     \u001b[39mwhile\u001b[39;00m start\u001b[39m<\u001b[39m\u001b[39m=\u001b[39mtemp:\n\u001b[0;32m     12\u001b[0m         \u001b[39m# print(start,end=\" \")\u001b[39;00m\n\u001b[0;32m     13\u001b[0m         \u001b[39m# start=num\u001b[39;00m\n\u001b[0;32m     14\u001b[0m         count\u001b[39m=\u001b[39m\u001b[39m0\u001b[39m\n\u001b[0;32m     15\u001b[0m         i\u001b[39m=\u001b[39m\u001b[39m1\u001b[39m\n",
      "\u001b[1;31mKeyboardInterrupt\u001b[0m: "
     ]
    }
   ],
   "source": [
    "n=153\n",
    "temp=n\n",
    "s=len(str(n))\n",
    "sum=0\n",
    "while n:\n",
    "    ld=n%10\n",
    "    sum+=ld**s\n",
    "    n=n//10\n",
    "if sum==temp:\n",
    "    start=1\n",
    "    while start<=temp:\n",
    "        # print(start,end=\" \")\n",
    "        # start=num\n",
    "        count=0\n",
    "        i=1\n",
    "        while i<=start:\n",
    "            if start%i==0:\n",
    "                count+=1\n",
    "            i+=1\n",
    "    if count>2:\n",
    "        print(start,end=\" \")\n",
    "    start+=1"
   ]
  },
  {
   "cell_type": "code",
   "execution_count": 19,
   "metadata": {},
   "outputs": [
    {
     "name": "stdout",
     "output_type": "stream",
     "text": [
      "2 3 4 5 6 7 8 9 10 11 12 13 14 15 16 17 18 19 20 21 22 23 24 25 26 27 28 29 30 31 32 33 34 35 36 37 38 39 40 41 42 43 44 45 46 47 48 49 50 51 52 53 54 55 56 57 58 59 60 61 62 63 64 65 66 67 68 69 70 71 72 73 74 75 76 77 78 79 80 81 82 83 84 85 86 87 88 89 90 91 92 93 94 95 96 97 98 99 100 101 "
     ]
    }
   ],
   "source": [
    "start=1\n",
    "end=100\n",
    "while start<=end:\n",
    "    # print(start,end=\" \")\n",
    "    num=start\n",
    "    count=0\n",
    "    i=1\n",
    "    while i<=num:\n",
    "        if num%i==0:\n",
    "            count+=1\n",
    "        i+=1\n",
    "    if count!=0:\n",
    "        print(i,end=\" \")\n",
    "    start+=1"
   ]
  },
  {
   "cell_type": "code",
   "execution_count": 2,
   "metadata": {},
   "outputs": [
    {
     "name": "stdout",
     "output_type": "stream",
     "text": [
      "* * * * * "
     ]
    }
   ],
   "source": [
    "#1 patterns\n",
    "n=5\n",
    "i=1\n",
    "while i<=n:\n",
    "    print('*',end=\" \")\n",
    "    i+=1"
   ]
  },
  {
   "cell_type": "code",
   "execution_count": 3,
   "metadata": {},
   "outputs": [
    {
     "name": "stdout",
     "output_type": "stream",
     "text": [
      "*  *  *  *  *  \n",
      "*  *  *  *  *  \n",
      "*  *  *  *  *  \n",
      "*  *  *  *  *  \n",
      "*  *  *  *  *  \n"
     ]
    }
   ],
   "source": [
    "#2\n",
    "n=5\n",
    "i=1\n",
    "while i<=n:\n",
    "    print('*  '*n)\n",
    "    i+=1"
   ]
  },
  {
   "cell_type": "code",
   "execution_count": 35,
   "metadata": {},
   "outputs": [
    {
     "name": "stdout",
     "output_type": "stream",
     "text": [
      "*    *    *    *    \n",
      "\n",
      "*    *    *    *    \n",
      "\n",
      "*    *    *    *    \n",
      "\n",
      "*    *    *    *    \n",
      "\n"
     ]
    }
   ],
   "source": [
    "n=4\n",
    "i=1\n",
    "while i<=n:\n",
    "    j=1\n",
    "    while j<=n:\n",
    "        print(\"*\",end=\"    \")\n",
    "        j+=1\n",
    "    print(\"\\n\")\n",
    "    i+=1"
   ]
  },
  {
   "cell_type": "code",
   "execution_count": 7,
   "metadata": {},
   "outputs": [
    {
     "name": "stdout",
     "output_type": "stream",
     "text": [
      "4  4  4  4  \n",
      "4  4  4  4  \n",
      "4  4  4  4  \n",
      "4  4  4  4  \n"
     ]
    }
   ],
   "source": [
    "#3\n",
    "n=4\n",
    "i=1\n",
    "while i<=n:\n",
    "    print((str(n)+'  ')*(n))\n",
    "    i+=1"
   ]
  },
  {
   "cell_type": "code",
   "execution_count": 10,
   "metadata": {},
   "outputs": [
    {
     "name": "stdout",
     "output_type": "stream",
     "text": [
      "1 1 1 1 1 \n",
      "2 2 2 2 2 \n",
      "3 3 3 3 3 \n",
      "4 4 4 4 4 \n",
      "5 5 5 5 5 \n"
     ]
    }
   ],
   "source": [
    "#4\n",
    "n=5\n",
    "i=1\n",
    "while i<=n:\n",
    "    print((str(i)+\" \")*n)\n",
    "    i+=1"
   ]
  },
  {
   "cell_type": "code",
   "execution_count": 37,
   "metadata": {},
   "outputs": [
    {
     "name": "stdout",
     "output_type": "stream",
     "text": [
      "1   1   1   1   1   \n",
      "\n",
      "2   2   2   2   2   \n",
      "\n",
      "3   3   3   3   3   \n",
      "\n",
      "4   4   4   4   4   \n",
      "\n",
      "5   5   5   5   5   \n",
      "\n"
     ]
    }
   ],
   "source": [
    "n=5\n",
    "i=1\n",
    "while i<=n:\n",
    "    j=1\n",
    "    while j<=n:\n",
    "        print(i,end=\"   \")\n",
    "        j+=1\n",
    "    print(\"\\n\")\n",
    "    i+=1"
   ]
  },
  {
   "cell_type": "code",
   "execution_count": 13,
   "metadata": {},
   "outputs": [
    {
     "name": "stdout",
     "output_type": "stream",
     "text": [
      "A  A  A  \n",
      "A  A  A  \n",
      "A  A  A  \n"
     ]
    }
   ],
   "source": [
    "#5\n",
    "n=3\n",
    "i=1\n",
    "while i<=n:\n",
    "    print(\"A  \"*n)\n",
    "    i+=1"
   ]
  },
  {
   "cell_type": "code",
   "execution_count": 18,
   "metadata": {},
   "outputs": [
    {
     "name": "stdout",
     "output_type": "stream",
     "text": [
      "A \n",
      "B B \n",
      "C C C \n",
      "D D D D \n",
      "E E E E E \n"
     ]
    }
   ],
   "source": [
    "#6\n",
    "n=5\n",
    "i=1\n",
    "while i<=n:\n",
    "    print((chr(64+i)+\" \")*i)\n",
    "    i+=1"
   ]
  },
  {
   "cell_type": "code",
   "execution_count": 38,
   "metadata": {},
   "outputs": [
    {
     "name": "stdout",
     "output_type": "stream",
     "text": [
      "A  \n",
      "\n",
      "B  B  \n",
      "\n",
      "C  C  C  \n",
      "\n",
      "D  D  D  D  \n",
      "\n",
      "E  E  E  E  E  \n",
      "\n"
     ]
    }
   ],
   "source": [
    "n=5\n",
    "i=1\n",
    "while i<=n:\n",
    "    j=1\n",
    "    while j<=i:\n",
    "        print(chr(64+i),end=\"  \")\n",
    "        j+=1\n",
    "    print(\"\\n\")\n",
    "    i+=1"
   ]
  },
  {
   "cell_type": "code",
   "execution_count": 39,
   "metadata": {},
   "outputs": [
    {
     "name": "stdout",
     "output_type": "stream",
     "text": [
      "A  A  A  A  A  \n",
      "\n",
      "B  B  B  B  \n",
      "\n",
      "C  C  C  \n",
      "\n",
      "D  D  \n",
      "\n",
      "E  \n",
      "\n"
     ]
    }
   ],
   "source": [
    "n=5\n",
    "i=1\n",
    "while i<=n:\n",
    "    j=1\n",
    "    while j<=n+1-i:\n",
    "        print(chr(64+i),end=\"  \")\n",
    "        j+=1\n",
    "    print(\"\\n\")\n",
    "    i+=1\n"
   ]
  },
  {
   "cell_type": "code",
   "execution_count": 2,
   "metadata": {},
   "outputs": [
    {
     "name": "stdout",
     "output_type": "stream",
     "text": [
      "*  \n",
      "*  *  \n",
      "*  *  *  \n",
      "*  *  *  *  \n",
      "*  *  *  *  *  \n"
     ]
    }
   ],
   "source": [
    "\n",
    "#7\n",
    "n=5\n",
    "i=1\n",
    "while i<=n:\n",
    "    print(\"*  \"*i)\n",
    "    i+=1"
   ]
  },
  {
   "cell_type": "code",
   "execution_count": 4,
   "metadata": {},
   "outputs": [
    {
     "name": "stdout",
     "output_type": "stream",
     "text": [
      "*  *  *  *  *  \n",
      "*  *  *  *  \n",
      "*  *  *  \n",
      "*  *  \n",
      "*  \n"
     ]
    }
   ],
   "source": [
    "#8\n",
    "n=5\n",
    "i=1\n",
    "while i<=n:\n",
    "    print(\"*  \"*(n+1-i))\n",
    "    i+=1"
   ]
  },
  {
   "cell_type": "code",
   "execution_count": 11,
   "metadata": {},
   "outputs": [
    {
     "name": "stdout",
     "output_type": "stream",
     "text": [
      "1  \n",
      "\n",
      "1  2  \n",
      "\n",
      "1  2  3  \n",
      "\n",
      "1  2  3  4  \n",
      "\n",
      "1  2  3  4  5  \n",
      "\n"
     ]
    }
   ],
   "source": [
    "#9 \n",
    "n=5\n",
    "i=1\n",
    "while i<=n:\n",
    "    j=1\n",
    "    while j<=i:\n",
    "        print(j,end=\"  \")\n",
    "        j+=1\n",
    "    print(\"\\n\")\n",
    "    i+=1"
   ]
  },
  {
   "cell_type": "code",
   "execution_count": 21,
   "metadata": {},
   "outputs": [
    {
     "name": "stdout",
     "output_type": "stream",
     "text": [
      "1  2  3  4  5  \n",
      "\n",
      "1  2  3  4  \n",
      "\n",
      "1  2  3  \n",
      "\n",
      "1  2  \n",
      "\n",
      "1  \n",
      "\n"
     ]
    }
   ],
   "source": [
    "#10\n",
    "n=5\n",
    "i=1\n",
    "while i<=n:\n",
    "    j=1\n",
    "    while j<=n+1-i:\n",
    "        print(j,end=\"  \")\n",
    "        j+=1\n",
    "    print(\"\\n\")\n",
    "    i+=1"
   ]
  },
  {
   "cell_type": "code",
   "execution_count": 22,
   "metadata": {},
   "outputs": [
    {
     "name": "stdout",
     "output_type": "stream",
     "text": [
      "         1   \n",
      "       2   2   \n",
      "     3   3   3   \n",
      "   4   4   4   4   \n",
      " 5   5   5   5   5   \n"
     ]
    }
   ],
   "source": [
    "#11\n",
    "n=5\n",
    "i=1\n",
    "while i<=n:\n",
    "    print(\"  \"*(n-i),(str(i)+'   ')*i)\n",
    "    i+=1"
   ]
  },
  {
   "cell_type": "code",
   "execution_count": 27,
   "metadata": {},
   "outputs": [
    {
     "name": "stdout",
     "output_type": "stream",
     "text": [
      " 1   1   1   1   1   \n",
      "   2   2   2   2   \n",
      "     3   3   3   \n",
      "       4   4   \n",
      "         5   \n"
     ]
    }
   ],
   "source": [
    "#12\n",
    "n=5\n",
    "i=1\n",
    "while i<=n:\n",
    "    print(\"  \"*(i-1),(str(i)+\"   \")*(n+1-i))\n",
    "    i+=1"
   ]
  },
  {
   "cell_type": "code",
   "execution_count": 3,
   "metadata": {},
   "outputs": [
    {
     "name": "stdout",
     "output_type": "stream",
     "text": [
      "    1 \n",
      "   1 2 \n",
      "  1 2 3 \n",
      " 1 2 3 4 \n",
      "1 2 3 4 5 \n"
     ]
    }
   ],
   "source": [
    "n=5\n",
    "i=1\n",
    "while i<=n:\n",
    "    print(\" \"*(n-i),end=\"\")\n",
    "    j=1\n",
    "    while j<=i:\n",
    "        print(j,end=\" \")\n",
    "        j+=1\n",
    "    print()\n",
    "    i+=1\n",
    "    "
   ]
  },
  {
   "cell_type": "code",
   "execution_count": 1,
   "metadata": {},
   "outputs": [
    {
     "name": "stdout",
     "output_type": "stream",
     "text": [
      " 1 2 3 4 5 \n",
      "  1 2 3 4 \n",
      "   1 2 3 \n",
      "    1 2 \n",
      "     1 \n"
     ]
    }
   ],
   "source": [
    "#13\n",
    "n=5\n",
    "i=1\n",
    "while i<=n:\n",
    "    print(\" \"*i,end=\"\")\n",
    "    j=1\n",
    "    while j<=n+1-i:\n",
    "        print(j,end=\" \")\n",
    "        j+=1\n",
    "    print()    \n",
    "    i+=1"
   ]
  },
  {
   "cell_type": "code",
   "execution_count": 19,
   "metadata": {},
   "outputs": [
    {
     "name": "stdout",
     "output_type": "stream",
     "text": [
      "     1 \n",
      "    1 2 \n",
      "   1 2 3 \n",
      "  1 2 3 4 \n",
      " 1 2 3 4 5 \n",
      "  1 2 3 4 \n",
      "   1 2 3 \n",
      "    1 2 \n",
      "     1 \n",
      "      \n"
     ]
    }
   ],
   "source": [
    "n=5\n",
    "i=1\n",
    "while i<=n:\n",
    "    print(\" \"*(n-i),end=\" \")\n",
    "    j=1\n",
    "    while j<=i:\n",
    "        print(j,end=\" \")\n",
    "        j+=1\n",
    "    print()\n",
    "    i+=1\n",
    "i=1\n",
    "while i<=n:\n",
    "    print(\" \"*i,end=\" \")\n",
    "    j=1\n",
    "    while j<=n-i:\n",
    "        print(j,end=\" \")\n",
    "        j+=1\n",
    "    print()\n",
    "    i+=1"
   ]
  },
  {
   "cell_type": "code",
   "execution_count": 53,
   "metadata": {},
   "outputs": [
    {
     "name": "stdout",
     "output_type": "stream",
     "text": [
      "      1\n",
      "     12\n",
      "    123\n",
      "   1234\n",
      "  12345\n",
      "   1234\n",
      "    123\n",
      "     12\n",
      "      1\n"
     ]
    }
   ],
   "source": [
    "n=5\n",
    "i=1\n",
    "while i<=n:\n",
    "    print(\" \"*(n-i),end=\"  \")\n",
    "    j=1\n",
    "    while j<=i:\n",
    "        print(j,end=\"\")\n",
    "        j+=1\n",
    "    print()\n",
    "    i+=1\n",
    "i=1\n",
    "while i<n:\n",
    "    print(\" \"*(i+2-1),end=\" \")\n",
    "    j=1\n",
    "    while j<=n-i:\n",
    "        print(j,end=\"\")\n",
    "        j+=1\n",
    "    print()\n",
    "    i+=1"
   ]
  },
  {
   "cell_type": "code",
   "execution_count": 57,
   "metadata": {},
   "outputs": [
    {
     "name": "stdout",
     "output_type": "stream",
     "text": [
      "      1      2     3    4   5 "
     ]
    }
   ],
   "source": [
    "n=5\n",
    "i=1\n",
    "while i<=n:\n",
    "    print(\" \"*(n+1-i),i,end=\" \")\n",
    "    # j=1\n",
    "    # while j<=i:\n",
    "    #     print(i,end=\" \")\n",
    "    #     j+=1\n",
    "    # print()\n",
    "    i+=1"
   ]
  }
 ],
 "metadata": {
  "kernelspec": {
   "display_name": "Python 3",
   "language": "python",
   "name": "python3"
  },
  "language_info": {
   "codemirror_mode": {
    "name": "ipython",
    "version": 3
   },
   "file_extension": ".py",
   "mimetype": "text/x-python",
   "name": "python",
   "nbconvert_exporter": "python",
   "pygments_lexer": "ipython3",
   "version": "3.11.4"
  },
  "orig_nbformat": 4
 },
 "nbformat": 4,
 "nbformat_minor": 2
}
