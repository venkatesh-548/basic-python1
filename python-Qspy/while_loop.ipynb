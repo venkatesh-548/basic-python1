{
 "cells": [
  {
   "cell_type": "code",
   "execution_count": 2,
   "metadata": {},
   "outputs": [],
   "source": [
    "#input function\n",
    "\n",
    "# a=int(input(\"enter a num:\"))\n",
    "# print(a,type(a))\n",
    "# a=float(input(\"enter a num:\"))\n",
    "# print(a,type(a))\n",
    "# a=complex(input(\"enter a num:\"))\n",
    "# print(a,type(a))\n",
    "# a=bytes(input(\"enter a num:\"))\n",
    "# print(a,type(a))\n",
    "# a=list(input(\"enter a num:\"))\n",
    "# print(a,type(a))\n",
    "# a=tuple(input(\"enter a num:\"))\n",
    "# print(a,type(a))\n",
    "# a=set(input(\"enter a num:\"))\n",
    "# print(a,type(a))\n",
    "# a=dict(input(\"enter a dict:\"))\n",
    "# print(a,type(a))"
   ]
  },
  {
   "cell_type": "code",
   "execution_count": 10,
   "metadata": {},
   "outputs": [
    {
     "name": "stdout",
     "output_type": "stream",
     "text": [
      "{1, 2, 3, 4, 5} <class 'set'>\n"
     ]
    }
   ],
   "source": [
    "#1 eval can be used to take any input of the function.\n",
    "a=eval(input(\"enter input:\"))\n",
    "print(a,type(a))"
   ]
  },
  {
   "cell_type": "code",
   "execution_count": 12,
   "metadata": {},
   "outputs": [
    {
     "name": "stdout",
     "output_type": "stream",
     "text": [
      "[1, 2, 3, [4, 5]] <class 'list'>\n"
     ]
    }
   ],
   "source": [
    "a=eval(input(\"enter input:\"))\n",
    "print(a,type(a))"
   ]
  },
  {
   "cell_type": "code",
   "execution_count": 13,
   "metadata": {},
   "outputs": [
    {
     "name": "stdout",
     "output_type": "stream",
     "text": [
      "{'a': 10} <class 'dict'>\n"
     ]
    }
   ],
   "source": [
    "a=eval(input(\"enter input:\"))\n",
    "print(a,type(a))"
   ]
  },
  {
   "cell_type": "code",
   "execution_count": 23,
   "metadata": {},
   "outputs": [
    {
     "name": "stdout",
     "output_type": "stream",
     "text": [
      "1 hello world!\n",
      "2 hello world!\n",
      "3 hello world!\n",
      "4 hello world!\n",
      "5 hello world!\n",
      "6 hello world!\n",
      "7 hello world!\n",
      "8 hello world!\n",
      "9 hello world!\n",
      "10 hello world!\n"
     ]
    }
   ],
   "source": [
    "#1 wap to print hello world 10 times\n",
    "\n",
    "n=10\n",
    "i=1\n",
    "while i<=n:\n",
    "    print(i,\"hello world!\")\n",
    "    i+=1\n",
    "n=10\n",
    "i=0\n",
    "# while i<n:\n",
    "#     print(i,\"hello world!\")\n",
    "#     i+=1\n",
    "# n=10\n",
    "# i=1\n",
    "# while i<n+1:\n",
    "#     print(i,\"hello world!\")\n",
    "#     i+=1\n",
    "# n=11\n",
    "# i=1\n",
    "# while i<n:\n",
    "#     print(i,\"hello world!\")\n",
    "#     i+=1"
   ]
  },
  {
   "cell_type": "code",
   "execution_count": 21,
   "metadata": {},
   "outputs": [
    {
     "name": "stdout",
     "output_type": "stream",
     "text": [
      "10 hello\n",
      "9 hello\n",
      "8 hello\n",
      "7 hello\n",
      "6 hello\n",
      "5 hello\n",
      "4 hello\n",
      "3 hello\n",
      "2 hello\n",
      "1 hello\n"
     ]
    }
   ],
   "source": [
    "#2 wap to print hello world using decrement operator\n",
    "\n",
    "n=10\n",
    "while n>=1:\n",
    "    print(n,\"hello\")\n",
    "    n-=1\n",
    "n=10\n",
    "while n:\n",
    "    print(n,\"hello\")\n",
    "    n-=1\n"
   ]
  },
  {
   "cell_type": "code",
   "execution_count": 29,
   "metadata": {},
   "outputs": [
    {
     "name": "stdout",
     "output_type": "stream",
     "text": [
      "0 1 2 3 4 5 6 7 8 9 10 11 12 "
     ]
    }
   ],
   "source": [
    "#3 wap to print the whole numbers from 0 to n\n",
    "n=eval(input(\"enter anum:\"))\n",
    "i=0\n",
    "while i<=n:\n",
    "    print(i,end=\" \")\n",
    "    i=i+1"
   ]
  },
  {
   "cell_type": "code",
   "execution_count": 2,
   "metadata": {},
   "outputs": [
    {
     "name": "stdout",
     "output_type": "stream",
     "text": [
      "20  18  16  14  12  10  8  6  4  2  "
     ]
    }
   ],
   "source": [
    "# 4 wap to print the whole numbers from n to 0 with step 2\n",
    "n=eval(input(\"enter a num:\"))\n",
    "while n:\n",
    "    print(n,end=\"  \")\n",
    "    n-=2"
   ]
  },
  {
   "cell_type": "code",
   "execution_count": 35,
   "metadata": {},
   "outputs": [
    {
     "name": "stdout",
     "output_type": "stream",
     "text": [
      "7 5 6 7 8 4 5 6 7 8 "
     ]
    }
   ],
   "source": [
    "#5 wap to extract the digits from number\n",
    "n=8765487657\n",
    "while n>0:\n",
    "    digit=n%10\n",
    "    print(digit,end=\" \")\n",
    "    n=n//10"
   ]
  },
  {
   "cell_type": "code",
   "execution_count": 37,
   "metadata": {},
   "outputs": [
    {
     "name": "stdout",
     "output_type": "stream",
     "text": [
      "15\n"
     ]
    }
   ],
   "source": [
    "#6 wap for the sum of the digits\n",
    "\n",
    "n=12345\n",
    "sum=0\n",
    "while n:\n",
    "    digit=n%10\n",
    "    sum+=digit\n",
    "    n=n//10\n",
    "print(sum)"
   ]
  },
  {
   "cell_type": "code",
   "execution_count": 5,
   "metadata": {},
   "outputs": [
    {
     "name": "stdout",
     "output_type": "stream",
     "text": [
      "372 is not an armstrong number\n"
     ]
    }
   ],
   "source": [
    "#7 to check the given number is armstrong num or not\n",
    "\n",
    "n=371\n",
    "num=n\n",
    "sum=0\n",
    "while n:\n",
    "    digit=n%10\n",
    "    sum=sum+digit**3\n",
    "    n=n//10\n",
    "if sum==num:\n",
    "    print(f'{num} is an arm strong number')\n",
    "else:\n",
    "    print(f\"{num} is not an armstrong number\")\n",
    "\n"
   ]
  },
  {
   "cell_type": "code",
   "execution_count": 7,
   "metadata": {},
   "outputs": [
    {
     "name": "stdout",
     "output_type": "stream",
     "text": [
      "123454321 is a palindrome\n"
     ]
    }
   ],
   "source": [
    "#8 to check the given number is palindrome or not\n",
    "\n",
    "n=123454321\n",
    "num=n\n",
    "rem=0\n",
    "while n:\n",
    "    digit=n%10\n",
    "    rem=rem*10+digit\n",
    "    n=n//10\n",
    "if rem==num:\n",
    "    print(f\"{num} is a palindrome\")\n",
    "else:\n",
    "    print(f\"{num} is not a palindrome\")"
   ]
  },
  {
   "cell_type": "code",
   "execution_count": 5,
   "metadata": {},
   "outputs": [
    {
     "name": "stdout",
     "output_type": "stream",
     "text": [
      "factorial 24\n",
      "factorial 120\n"
     ]
    }
   ],
   "source": [
    "#9 to print factorial of the number\n",
    "#5!=5*4*3*2*1\n",
    "\n",
    "n=4\n",
    "fact=1\n",
    "while n:\n",
    "    fact=fact*n\n",
    "    n=n-1\n",
    "print(\"factorial\",fact)\n",
    "n=5\n",
    "fact=1\n",
    "for i in range(1,n+1):\n",
    "    fact=fact*i\n",
    "print(\"factorial\",fact)\n",
    "\n"
   ]
  },
  {
   "cell_type": "code",
   "execution_count": 9,
   "metadata": {},
   "outputs": [
    {
     "name": "stdout",
     "output_type": "stream",
     "text": [
      "prime number\n"
     ]
    }
   ],
   "source": [
    "#10 to check the number is prime number or not\n",
    "#if num divisible by 1 and it self is prime\n",
    "\n",
    "n=13\n",
    "i=2\n",
    "count=0\n",
    "while i<n//2:\n",
    "    if n%i==0:\n",
    "        count=count+1\n",
    "    i+=1\n",
    "if count==0:\n",
    "    print(\"prime number\")\n",
    "else:\n",
    "    print(\"not a prime number\")\n",
    "\n",
    "\n"
   ]
  },
  {
   "cell_type": "code",
   "execution_count": 11,
   "metadata": {},
   "outputs": [
    {
     "name": "stdout",
     "output_type": "stream",
     "text": [
      "2 3 5 7 11 13 17 19 23 29 31 37 41 43 47 53 59 61 67 71 73 79 83 89 97 "
     ]
    }
   ],
   "source": [
    "#11 prime numbers from 0 to 100\n",
    "for n in range(2,100):\n",
    "    i=2\n",
    "    count=0\n",
    "    while i<=n:\n",
    "        if n%i==0:\n",
    "            count=count+1\n",
    "        i+=1\n",
    "    if count==1:\n",
    "       print(n,end=\" \")\n",
    "\n",
    "    "
   ]
  },
  {
   "cell_type": "code",
   "execution_count": 12,
   "metadata": {},
   "outputs": [
    {
     "name": "stdout",
     "output_type": "stream",
     "text": [
      "155\n"
     ]
    }
   ],
   "source": [
    "#12 sum of numbers in range i-n\n",
    "i=11\n",
    "n=20\n",
    "sum=0\n",
    "while i<=n:\n",
    "    sum+=i\n",
    "    i+=1\n",
    "print(sum)\n",
    "\n",
    "\n"
   ]
  },
  {
   "cell_type": "code",
   "execution_count": 10,
   "metadata": {},
   "outputs": [
    {
     "name": "stdout",
     "output_type": "stream",
     "text": [
      "153 370 371 407 "
     ]
    }
   ],
   "source": [
    "#13 to print the armstrong numbers from 100 to 500\n",
    "for n in range(100,500):\n",
    "    order=len(str(n))\n",
    "    sum=0\n",
    "    temp=n\n",
    "#    print(temp)\n",
    "    while n:\n",
    "        dig=n%10\n",
    "        sum+=dig ** order\n",
    "        n=n//10\n",
    "    if temp==sum:\n",
    "        print(temp,end=\" \")\n",
    "\n"
   ]
  },
  {
   "cell_type": "code",
   "execution_count": 17,
   "metadata": {},
   "outputs": [
    {
     "name": "stdout",
     "output_type": "stream",
     "text": [
      "1 2 3 5 8 13 21 34 "
     ]
    }
   ],
   "source": [
    "#14 fabinocci series\n",
    "\n",
    "num=10\n",
    "n1=0\n",
    "n2=1\n",
    "for i in range(2,num):\n",
    "    n3=n1+n2  #n3=0+1=1  n1=0,n2=1,n3=1  n2=n1->n1=1 n2=n3->n2=1 n3=1+1=2 n2=1,->n1=1,n3=2->n2=2==n1+n2->1+2->3\n",
    "    n1=n2\n",
    "    n2=n3\n",
    "    print(n3,end=\" \")"
   ]
  },
  {
   "cell_type": "code",
   "execution_count": 3,
   "metadata": {},
   "outputs": [
    {
     "name": "stdout",
     "output_type": "stream",
     "text": [
      "o i a o a i a u a e "
     ]
    }
   ],
   "source": [
    "#15 wap to print the vowels in the given string\n",
    "\n",
    "s=\"python is a programming language\"\n",
    "for i in s:\n",
    "    if i in \"aeiouAEIOU\":\n",
    "        print(i,end=\" \")"
   ]
  },
  {
   "cell_type": "code",
   "execution_count": 9,
   "metadata": {},
   "outputs": [
    {
     "name": "stdout",
     "output_type": "stream",
     "text": [
      "32\n",
      "o i a o a i a u a e "
     ]
    }
   ],
   "source": [
    "#16 wap to print the vowels in the given string\n",
    "\n",
    "s=\"python is a programming language\"\n",
    "i=1\n",
    "print(len(s))\n",
    "while i<=len(s)-1:\n",
    "    if s[i] in \"aeiouAEIOU\":\n",
    "        print(s[i],end=\" \")\n",
    "    i+=1"
   ]
  },
  {
   "cell_type": "code",
   "execution_count": 13,
   "metadata": {},
   "outputs": [
    {
     "name": "stdout",
     "output_type": "stream",
     "text": [
      "256\n"
     ]
    }
   ],
   "source": [
    "#17 to find the power of the number\n",
    "n=4\n",
    "p=4\n",
    "# res=n**p\n",
    "res=pow(n,p)\n",
    "print(res)"
   ]
  },
  {
   "cell_type": "code",
   "execution_count": 21,
   "metadata": {},
   "outputs": [
    {
     "name": "stdout",
     "output_type": "stream",
     "text": [
      "1 4 9 16 25 36 49 64 81 100 121 144 169 196 225 256 289 324 361 400 "
     ]
    }
   ],
   "source": [
    "# 18 wap to find the power of num from 1-20\n",
    "n=20\n",
    "i=1\n",
    "while i<=n:\n",
    "    res=pow(i,2)\n",
    "    # result=pow(i,3)\n",
    "    print(res,end=\" \")\n",
    "    # print(\"\\n\",result,end=\" \")\n",
    "    i+=1"
   ]
  },
  {
   "cell_type": "code",
   "execution_count": 28,
   "metadata": {},
   "outputs": [
    {
     "name": "stdout",
     "output_type": "stream",
     "text": [
      "1 2 3 4 6 9 12 18 36 "
     ]
    }
   ],
   "source": [
    "# 19 wap factors of the number\n",
    "#to find the factors 6 it is divisible by 1,2,3,6\n",
    "\n",
    "n=36\n",
    "i=1\n",
    "while i<=n:\n",
    "    if n%i==0:\n",
    "        print(i,end=\" \")\n",
    "    i+=1"
   ]
  },
  {
   "cell_type": "code",
   "execution_count": 17,
   "metadata": {},
   "outputs": [
    {
     "name": "stdout",
     "output_type": "stream",
     "text": [
      "perfect number\n"
     ]
    }
   ],
   "source": [
    "# 20 wap to check the number is perfect or not\n",
    "#to check perfect number 24 multiples==(1,2,3,4,6,8==24)\n",
    "\n",
    "n=6\n",
    "num=n\n",
    "i=1\n",
    "sum=0\n",
    "while i<n:\n",
    "    if n%i==0:\n",
    "        sum+=i\n",
    "    i=i+1      \n",
    "if sum==num:\n",
    "    print(\"perfect number\")\n",
    "else:\n",
    "    print(\"not a perfect number\")\n"
   ]
  },
  {
   "cell_type": "code",
   "execution_count": 41,
   "metadata": {},
   "outputs": [
    {
     "name": "stdout",
     "output_type": "stream",
     "text": [
      "145\n",
      "strong number\n"
     ]
    }
   ],
   "source": [
    "# 21 to check the given num is strong or not\n",
    "#145=1!+4!+5!=145\n",
    "n=145\n",
    "p=n\n",
    "sum=0\n",
    "while(n>0):\n",
    "    digit=n%10\n",
    "    fact=1\n",
    "    i=1\n",
    "    while i<=digit:\n",
    "        fact=fact*i\n",
    "        i+=1\n",
    "    sum+=fact\n",
    "    n=n//10\n",
    "print(sum)\n",
    "if sum==p:\n",
    "    print(\"strong number\")\n",
    "else:\n",
    "    print(\"not a strong number\")\n",
    "    \n"
   ]
  },
  {
   "cell_type": "code",
   "execution_count": 4,
   "metadata": {},
   "outputs": [
    {
     "name": "stdout",
     "output_type": "stream",
     "text": [
      "automorphic number\n",
      "100\n"
     ]
    }
   ],
   "source": [
    "# 22 wap to check the number is automorphic or not\n",
    "#it is a num whose square end with that number 5**2=25->5or 25**2->625\n",
    "\n",
    "n=25\n",
    "sqr=pow(n,2)\n",
    "mod=pow(10,len(str(n)))\n",
    "res=sqr%mod\n",
    "if res==n:\n",
    "    print(\"automorphic number\")\n",
    "\n",
    "\n",
    "\n",
    "mod=pow(10,len(str(n)))\n",
    "print(mod)\n",
    "\n"
   ]
  },
  {
   "cell_type": "code",
   "execution_count": 5,
   "metadata": {},
   "outputs": [
    {
     "name": "stdout",
     "output_type": "stream",
     "text": [
      "harshad number\n"
     ]
    }
   ],
   "source": [
    "# 23 wap to check the number is harshad number or not\n",
    "#if sum of digits of num is divide that num i.e 21->2+1=3==>21/3==0\n",
    "\n",
    "n=30\n",
    "t=n\n",
    "sum=0\n",
    "while n>0:\n",
    "    digit=n%10\n",
    "    sum+=digit\n",
    "    n=n//10\n",
    "if t%sum==0:\n",
    "    print(\"harshad number\")\n",
    "else:\n",
    "    print(\"not a harshad number\")\n"
   ]
  },
  {
   "cell_type": "code",
   "execution_count": 6,
   "metadata": {},
   "outputs": [
    {
     "name": "stdout",
     "output_type": "stream",
     "text": [
      "not an abundant number\n"
     ]
    }
   ],
   "source": [
    "# 24 wap to check the number is abundant number or not\n",
    "#if sum of facctors except itself greater than that number then it is abundant number\n",
    "#12==>1,2,3,4,6==16>12 it is abundant number\n",
    "\n",
    "n=25\n",
    "sum=0\n",
    "i=1\n",
    "while i<n:\n",
    "    if n%i==0:\n",
    "        sum+=i\n",
    "    i+=1\n",
    "if sum>n:\n",
    "    print(\"abundant number\")\n",
    "else:\n",
    "    print(\"not an abundant number\")\n",
    "\n"
   ]
  },
  {
   "cell_type": "code",
   "execution_count": 23,
   "metadata": {},
   "outputs": [
    {
     "name": "stdout",
     "output_type": "stream",
     "text": [
      "6\n",
      "28\n",
      "friendly pair\n"
     ]
    }
   ],
   "source": [
    "# 25 friendly pair of the number\n",
    "n1=6\n",
    "s=0\n",
    "i=1\n",
    "while i<n1:\n",
    "    if n1%i==0:\n",
    "        s+=i\n",
    "    j=1\n",
    "    d=0\n",
    "    n2=28\n",
    "    while j<n2:\n",
    "        if n2%j==0:\n",
    "           d+=j\n",
    "        j+=1\n",
    "    i+=1\n",
    "print(s)\n",
    "print(d)\n",
    "if n1/s==n2/d:\n",
    "    print(\"friendly pair\")\n",
    "else:\n",
    "    print(\"not\")\n",
    "\n"
   ]
  },
  {
   "cell_type": "code",
   "execution_count": 24,
   "metadata": {},
   "outputs": [
    {
     "name": "stdout",
     "output_type": "stream",
     "text": [
      "28\n",
      "the sum of factors of 12 is:28\n"
     ]
    }
   ],
   "source": [
    "# 26 wap to perform the sum of the factors of given number\n",
    "\n",
    "n=12\n",
    "i=1\n",
    "sum=0\n",
    "while n>=i:\n",
    "    if n%i==0:\n",
    "        sum+=i\n",
    "    i+=1\n",
    "print(sum)\n",
    "print(f'the sum of factors of {n} is:{sum}')\n"
   ]
  },
  {
   "cell_type": "code",
   "execution_count": 25,
   "metadata": {},
   "outputs": [
    {
     "name": "stdout",
     "output_type": "stream",
     "text": [
      "prime\n"
     ]
    }
   ],
   "source": [
    "# 27 wap wap to find the sum of the digits of number and check that digit is prime or not\n",
    "\n",
    "n=34\n",
    "i=1\n",
    "sum=0\n",
    "while i<=n:\n",
    "    ld=n%10\n",
    "    sum+=ld\n",
    "    n=n//10\n",
    "count=0\n",
    "while sum>=i:\n",
    "    if sum%i==0:\n",
    "        count+=1\n",
    "    i+=1\n",
    "if count==2:\n",
    "    print(\"prime\")\n",
    "else:\n",
    "    print(\"not prime\")\n",
    "\n",
    "\n"
   ]
  },
  {
   "cell_type": "code",
   "execution_count": 26,
   "metadata": {},
   "outputs": [
    {
     "name": "stdout",
     "output_type": "stream",
     "text": [
      "120\n",
      "not a perfect number\n"
     ]
    }
   ],
   "source": [
    "# 28 wap to findout the product of all digits and final result is perfect or not\n",
    "\n",
    "n=12345\n",
    "i=1\n",
    "prod=1\n",
    "while i<=n:\n",
    "    ld=n%10\n",
    "    prod*=ld\n",
    "    n=n//10\n",
    "print(prod)\n",
    "num=prod\n",
    "# print(num)\n",
    "i=1\n",
    "sum=0\n",
    "while i<prod:\n",
    "    if prod%i==0:\n",
    "        sum+=i\n",
    "    i+=1\n",
    "# print(sum)\n",
    "if num==sum:\n",
    "    print(\"perfect number\")\n",
    "else:\n",
    "    print(\"not a perfect number\")\n",
    "\n"
   ]
  },
  {
   "cell_type": "code",
   "execution_count": 27,
   "metadata": {},
   "outputs": [
    {
     "name": "stdout",
     "output_type": "stream",
     "text": [
      "[3, 6, 7, 5, 4, 6, 7, 4]\n"
     ]
    }
   ],
   "source": [
    "# 29 wap to display the values from left to right\n",
    "n=36754674\n",
    "l=[]\n",
    "i=1\n",
    "while i<=n:\n",
    "    ld=n%10\n",
    "    l.append(ld)\n",
    "    n=n//10\n",
    "print(l[::-1])"
   ]
  },
  {
   "cell_type": "code",
   "execution_count": 28,
   "metadata": {},
   "outputs": [
    {
     "name": "stdout",
     "output_type": "stream",
     "text": [
      "8\n",
      "3 6 7 5 4 6 7 4 "
     ]
    }
   ],
   "source": [
    "# 30 wap to display the values from left to right\n",
    "n=36754674\n",
    "n=str(n)\n",
    "print(len(n))\n",
    "i=0\n",
    "while i<len(n):\n",
    "    print(n[i],end=\" \")\n",
    "    i+=1"
   ]
  },
  {
   "cell_type": "code",
   "execution_count": 29,
   "metadata": {},
   "outputs": [
    {
     "name": "stdout",
     "output_type": "stream",
     "text": [
      "4 3 2 5 8 6 8 7 6 3 "
     ]
    }
   ],
   "source": [
    "# 31 wap to display the values from  right to left\n",
    "n=3678685234\n",
    "n=str(n)[::-1]\n",
    "i=0\n",
    "while i<len(n):\n",
    "    print(n[i],end=\" \")\n",
    "    i+=1\n",
    "\n",
    "\n"
   ]
  },
  {
   "cell_type": "code",
   "execution_count": 30,
   "metadata": {},
   "outputs": [
    {
     "name": "stdout",
     "output_type": "stream",
     "text": [
      "8\n"
     ]
    }
   ],
   "source": [
    "# 32 wap to find the largest digit in the given num\n",
    "n=835687687\n",
    "rem=0\n",
    "i=1\n",
    "while i<=n:\n",
    "    ld=n%10\n",
    "    if rem<ld:\n",
    "        rem=ld\n",
    "    n=n//10\n",
    "print(rem)"
   ]
  },
  {
   "cell_type": "code",
   "execution_count": 31,
   "metadata": {},
   "outputs": [
    {
     "name": "stdout",
     "output_type": "stream",
     "text": [
      "0\n"
     ]
    }
   ],
   "source": [
    "# 33 wap to find the smallest digit in the given num\n",
    "n=3706564876321\n",
    "rem=9\n",
    "i=1\n",
    "while i<=n:\n",
    "    ld=n%10\n",
    "    if ld<rem:\n",
    "        rem=ld\n",
    "    n=n//10\n",
    "print(rem)\n"
   ]
  },
  {
   "cell_type": "code",
   "execution_count": 32,
   "metadata": {},
   "outputs": [
    {
     "name": "stdout",
     "output_type": "stream",
     "text": [
      "8\n"
     ]
    }
   ],
   "source": [
    "# 34 wap even largest number\n",
    "n=3706564876321\n",
    "rem=0\n",
    "i=1\n",
    "while i<=n:\n",
    "    ld=n%10\n",
    "    if ld>rem and ld%2==0:\n",
    "        rem=ld\n",
    "    n=n//10\n",
    "print(rem)\n"
   ]
  },
  {
   "cell_type": "code",
   "execution_count": 33,
   "metadata": {},
   "outputs": [
    {
     "name": "stdout",
     "output_type": "stream",
     "text": [
      "-33\n"
     ]
    }
   ],
   "source": [
    "#35 find the difference of the values from the given number from last to first\n",
    "\n",
    "n=83765624\n",
    "rem=n%10\n",
    "n=n//10\n",
    "while n>0:\n",
    "    ld=n%10\n",
    "    rem-=ld\n",
    "    n=n//10\n",
    "print(rem)"
   ]
  },
  {
   "cell_type": "code",
   "execution_count": 34,
   "metadata": {},
   "outputs": [
    {
     "name": "stdout",
     "output_type": "stream",
     "text": [
      "-25\n"
     ]
    }
   ],
   "source": [
    "# 36 find the difference of the values from the given number from last to first\n",
    "n=83765624\n",
    "n=str(n)\n",
    "rem=int(n[0])\n",
    "i=1\n",
    "while i<len(n):\n",
    "    rem-=int(n[i])\n",
    "    i+=1\n",
    "print(rem)\n"
   ]
  },
  {
   "cell_type": "code",
   "execution_count": 35,
   "metadata": {},
   "outputs": [
    {
     "name": "stdout",
     "output_type": "stream",
     "text": [
      "4 6 8 8 "
     ]
    }
   ],
   "source": [
    "# 37 extract even didits from the given number\n",
    "\n",
    "n=893577864\n",
    "i=1\n",
    "while i<=n:\n",
    "    ld=n%10\n",
    "    if ld%2==0:\n",
    "        print(ld,end=\" \")\n",
    "    n=n//10"
   ]
  },
  {
   "cell_type": "code",
   "execution_count": 36,
   "metadata": {},
   "outputs": [
    {
     "name": "stdout",
     "output_type": "stream",
     "text": [
      "1 2 3 4 5 6 7 8 9 10 "
     ]
    }
   ],
   "source": [
    "# 38 to genarate the sequence of the values from m to n.\n",
    "m=1\n",
    "n=10\n",
    "if m>n:\n",
    "    m,n=n,m\n",
    "while m<=n:\n",
    "    print(m,end=\" \")\n",
    "    m+=1"
   ]
  },
  {
   "cell_type": "code",
   "execution_count": 37,
   "metadata": {},
   "outputs": [
    {
     "name": "stdout",
     "output_type": "stream",
     "text": [
      "1 2 3 4 5 6 7 8 9 10 11 12 13 14 15 16 17 18 19 20 "
     ]
    }
   ],
   "source": [
    "# 39 wap to generate the sequence of the values from 1 to n\n",
    "n=-20\n",
    "if n<0:\n",
    "    n=-1*n\n",
    "i=1\n",
    "while i<=n:\n",
    "    print(i,end=\" \")\n",
    "    i+=1"
   ]
  },
  {
   "cell_type": "code",
   "execution_count": null,
   "metadata": {},
   "outputs": [],
   "source": []
  },
  {
   "cell_type": "code",
   "execution_count": null,
   "metadata": {},
   "outputs": [],
   "source": []
  },
  {
   "cell_type": "code",
   "execution_count": null,
   "metadata": {},
   "outputs": [],
   "source": []
  },
  {
   "cell_type": "code",
   "execution_count": null,
   "metadata": {},
   "outputs": [],
   "source": []
  },
  {
   "cell_type": "code",
   "execution_count": null,
   "metadata": {},
   "outputs": [],
   "source": []
  },
  {
   "cell_type": "code",
   "execution_count": 2,
   "metadata": {},
   "outputs": [
    {
     "name": "stdout",
     "output_type": "stream",
     "text": [
      "* * * * * "
     ]
    }
   ],
   "source": [
    "#1 patterns\n",
    "n=5\n",
    "i=1\n",
    "while i<=n:\n",
    "    print('*',end=\" \")\n",
    "    i+=1"
   ]
  },
  {
   "cell_type": "code",
   "execution_count": 3,
   "metadata": {},
   "outputs": [
    {
     "name": "stdout",
     "output_type": "stream",
     "text": [
      "*  *  *  *  *  \n",
      "*  *  *  *  *  \n",
      "*  *  *  *  *  \n",
      "*  *  *  *  *  \n",
      "*  *  *  *  *  \n"
     ]
    }
   ],
   "source": [
    "#2\n",
    "n=5\n",
    "i=1\n",
    "while i<=n:\n",
    "    print('*  '*n)\n",
    "    i+=1"
   ]
  },
  {
   "cell_type": "code",
   "execution_count": 35,
   "metadata": {},
   "outputs": [
    {
     "name": "stdout",
     "output_type": "stream",
     "text": [
      "*    *    *    *    \n",
      "\n",
      "*    *    *    *    \n",
      "\n",
      "*    *    *    *    \n",
      "\n",
      "*    *    *    *    \n",
      "\n"
     ]
    }
   ],
   "source": [
    "n=4\n",
    "i=1\n",
    "while i<=n:\n",
    "    j=1\n",
    "    while j<=n:\n",
    "        print(\"*\",end=\"    \")\n",
    "        j+=1\n",
    "    print(\"\\n\")\n",
    "    i+=1"
   ]
  },
  {
   "cell_type": "code",
   "execution_count": 7,
   "metadata": {},
   "outputs": [
    {
     "name": "stdout",
     "output_type": "stream",
     "text": [
      "4  4  4  4  \n",
      "4  4  4  4  \n",
      "4  4  4  4  \n",
      "4  4  4  4  \n"
     ]
    }
   ],
   "source": [
    "#3\n",
    "n=4\n",
    "i=1\n",
    "while i<=n:\n",
    "    print((str(n)+'  ')*(n))\n",
    "    i+=1"
   ]
  },
  {
   "cell_type": "code",
   "execution_count": 10,
   "metadata": {},
   "outputs": [
    {
     "name": "stdout",
     "output_type": "stream",
     "text": [
      "1 1 1 1 1 \n",
      "2 2 2 2 2 \n",
      "3 3 3 3 3 \n",
      "4 4 4 4 4 \n",
      "5 5 5 5 5 \n"
     ]
    }
   ],
   "source": [
    "#4\n",
    "n=5\n",
    "i=1\n",
    "while i<=n:\n",
    "    print((str(i)+\" \")*n)\n",
    "    i+=1"
   ]
  },
  {
   "cell_type": "code",
   "execution_count": 37,
   "metadata": {},
   "outputs": [
    {
     "name": "stdout",
     "output_type": "stream",
     "text": [
      "1   1   1   1   1   \n",
      "\n",
      "2   2   2   2   2   \n",
      "\n",
      "3   3   3   3   3   \n",
      "\n",
      "4   4   4   4   4   \n",
      "\n",
      "5   5   5   5   5   \n",
      "\n"
     ]
    }
   ],
   "source": [
    "n=5\n",
    "i=1\n",
    "while i<=n:\n",
    "    j=1\n",
    "    while j<=n:\n",
    "        print(i,end=\"   \")\n",
    "        j+=1\n",
    "    print(\"\\n\")\n",
    "    i+=1"
   ]
  },
  {
   "cell_type": "code",
   "execution_count": 13,
   "metadata": {},
   "outputs": [
    {
     "name": "stdout",
     "output_type": "stream",
     "text": [
      "A  A  A  \n",
      "A  A  A  \n",
      "A  A  A  \n"
     ]
    }
   ],
   "source": [
    "#5\n",
    "n=3\n",
    "i=1\n",
    "while i<=n:\n",
    "    print(\"A  \"*n)\n",
    "    i+=1"
   ]
  },
  {
   "cell_type": "code",
   "execution_count": 18,
   "metadata": {},
   "outputs": [
    {
     "name": "stdout",
     "output_type": "stream",
     "text": [
      "A \n",
      "B B \n",
      "C C C \n",
      "D D D D \n",
      "E E E E E \n"
     ]
    }
   ],
   "source": [
    "#6\n",
    "n=5\n",
    "i=1\n",
    "while i<=n:\n",
    "    print((chr(64+i)+\" \")*i)\n",
    "    i+=1"
   ]
  },
  {
   "cell_type": "code",
   "execution_count": 38,
   "metadata": {},
   "outputs": [
    {
     "name": "stdout",
     "output_type": "stream",
     "text": [
      "A  \n",
      "\n",
      "B  B  \n",
      "\n",
      "C  C  C  \n",
      "\n",
      "D  D  D  D  \n",
      "\n",
      "E  E  E  E  E  \n",
      "\n"
     ]
    }
   ],
   "source": [
    "n=5\n",
    "i=1\n",
    "while i<=n:\n",
    "    j=1\n",
    "    while j<=i:\n",
    "        print(chr(64+i),end=\"  \")\n",
    "        j+=1\n",
    "    print(\"\\n\")\n",
    "    i+=1"
   ]
  },
  {
   "cell_type": "code",
   "execution_count": 39,
   "metadata": {},
   "outputs": [
    {
     "name": "stdout",
     "output_type": "stream",
     "text": [
      "A  A  A  A  A  \n",
      "\n",
      "B  B  B  B  \n",
      "\n",
      "C  C  C  \n",
      "\n",
      "D  D  \n",
      "\n",
      "E  \n",
      "\n"
     ]
    }
   ],
   "source": [
    "n=5\n",
    "i=1\n",
    "while i<=n:\n",
    "    j=1\n",
    "    while j<=n+1-i:\n",
    "        print(chr(64+i),end=\"  \")\n",
    "        j+=1\n",
    "    print(\"\\n\")\n",
    "    i+=1\n"
   ]
  },
  {
   "cell_type": "code",
   "execution_count": 2,
   "metadata": {},
   "outputs": [
    {
     "name": "stdout",
     "output_type": "stream",
     "text": [
      "*  \n",
      "*  *  \n",
      "*  *  *  \n",
      "*  *  *  *  \n",
      "*  *  *  *  *  \n"
     ]
    }
   ],
   "source": [
    "\n",
    "#7\n",
    "n=5\n",
    "i=1\n",
    "while i<=n:\n",
    "    print(\"*  \"*i)\n",
    "    i+=1"
   ]
  },
  {
   "cell_type": "code",
   "execution_count": 4,
   "metadata": {},
   "outputs": [
    {
     "name": "stdout",
     "output_type": "stream",
     "text": [
      "*  *  *  *  *  \n",
      "*  *  *  *  \n",
      "*  *  *  \n",
      "*  *  \n",
      "*  \n"
     ]
    }
   ],
   "source": [
    "#8\n",
    "n=5\n",
    "i=1\n",
    "while i<=n:\n",
    "    print(\"*  \"*(n+1-i))\n",
    "    i+=1"
   ]
  },
  {
   "cell_type": "code",
   "execution_count": 11,
   "metadata": {},
   "outputs": [
    {
     "name": "stdout",
     "output_type": "stream",
     "text": [
      "1  \n",
      "\n",
      "1  2  \n",
      "\n",
      "1  2  3  \n",
      "\n",
      "1  2  3  4  \n",
      "\n",
      "1  2  3  4  5  \n",
      "\n"
     ]
    }
   ],
   "source": [
    "#9 \n",
    "n=5\n",
    "i=1\n",
    "while i<=n:\n",
    "    j=1\n",
    "    while j<=i:\n",
    "        print(j,end=\"  \")\n",
    "        j+=1\n",
    "    print(\"\\n\")\n",
    "    i+=1"
   ]
  },
  {
   "cell_type": "code",
   "execution_count": 14,
   "metadata": {},
   "outputs": [
    {
     "name": "stdout",
     "output_type": "stream",
     "text": [
      "1  2  3  4  5  \n",
      "\n",
      "1  2  3  4  \n",
      "\n",
      "1  2  3  \n",
      "\n",
      "1  2  \n",
      "\n",
      "1  \n",
      "\n"
     ]
    }
   ],
   "source": [
    "#10\n",
    "n=5\n",
    "i=1\n",
    "while i<=n:\n",
    "    j=1\n",
    "    while j<=n+1-i:\n",
    "        print(j,end=\"  \")\n",
    "        j+=1\n",
    "    print(\"\\n\")\n",
    "    i+=1"
   ]
  },
  {
   "cell_type": "code",
   "execution_count": 22,
   "metadata": {},
   "outputs": [
    {
     "name": "stdout",
     "output_type": "stream",
     "text": [
      "         1   \n",
      "       2   2   \n",
      "     3   3   3   \n",
      "   4   4   4   4   \n",
      " 5   5   5   5   5   \n"
     ]
    }
   ],
   "source": [
    "#11\n",
    "n=5\n",
    "i=1\n",
    "while i<=n:\n",
    "    print(\"  \"*(n-i),(str(i)+'   ')*i)\n",
    "    i+=1"
   ]
  },
  {
   "cell_type": "code",
   "execution_count": 27,
   "metadata": {},
   "outputs": [
    {
     "name": "stdout",
     "output_type": "stream",
     "text": [
      " 1   1   1   1   1   \n",
      "   2   2   2   2   \n",
      "     3   3   3   \n",
      "       4   4   \n",
      "         5   \n"
     ]
    }
   ],
   "source": [
    "#12\n",
    "n=5\n",
    "i=1\n",
    "while i<=n:\n",
    "    print(\"  \"*(i-1),(str(i)+\"   \")*(n+1-i))\n",
    "    i+=1"
   ]
  },
  {
   "cell_type": "code",
   "execution_count": 51,
   "metadata": {},
   "outputs": [
    {
     "name": "stdout",
     "output_type": "stream",
     "text": [
      "              A\n",
      "\n",
      "            B            B\n",
      "\n",
      "          C          C          C\n",
      "\n",
      "        D        D        D        D\n",
      "\n",
      "      E      E      E      E      E\n",
      "\n"
     ]
    }
   ],
   "source": [
    "n=5\n",
    "i=1\n",
    "while i<=n:\n",
    "    j=1\n",
    "    while j<=i:\n",
    "        print(\"  \"*(n+2-i),str(\" \"+chr(64+i)),end=\"\")\n",
    "        j+=1\n",
    "    print(\"\\n\")\n",
    "    i+=1"
   ]
  },
  {
   "cell_type": "code",
   "execution_count": 32,
   "metadata": {},
   "outputs": [
    {
     "name": "stdout",
     "output_type": "stream",
     "text": [
      "     1 \n",
      "\n",
      "     1     2 \n",
      "\n",
      "     1     2    3 \n",
      "\n",
      "     1     2    3   4 \n",
      "\n",
      "     1     2    3   4  5 \n",
      "\n"
     ]
    }
   ],
   "source": [
    "#13\n",
    "n=5\n",
    "i=1\n",
    "while i<=n:\n",
    "    j=1\n",
    "    while j<=i:\n",
    "        print(\" \"*(n-j),j,end=\" \")\n",
    "        j+=1\n",
    "    print(\"\\n\")\n",
    "    i+=1"
   ]
  },
  {
   "cell_type": "code",
   "execution_count": null,
   "metadata": {},
   "outputs": [],
   "source": []
  },
  {
   "cell_type": "code",
   "execution_count": null,
   "metadata": {},
   "outputs": [],
   "source": []
  },
  {
   "cell_type": "code",
   "execution_count": null,
   "metadata": {},
   "outputs": [],
   "source": []
  }
 ],
 "metadata": {
  "kernelspec": {
   "display_name": "Python 3",
   "language": "python",
   "name": "python3"
  },
  "language_info": {
   "codemirror_mode": {
    "name": "ipython",
    "version": 3
   },
   "file_extension": ".py",
   "mimetype": "text/x-python",
   "name": "python",
   "nbconvert_exporter": "python",
   "pygments_lexer": "ipython3",
   "version": "3.11.4"
  },
  "orig_nbformat": 4
 },
 "nbformat": 4,
 "nbformat_minor": 2
}
