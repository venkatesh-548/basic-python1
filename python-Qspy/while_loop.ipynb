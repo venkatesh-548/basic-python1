{
 "cells": [
  {
   "cell_type": "code",
   "execution_count": 9,
   "metadata": {},
   "outputs": [
    {
     "ename": "ValueError",
     "evalue": "dictionary update sequence element #0 has length 1; 2 is required",
     "output_type": "error",
     "traceback": [
      "\u001b[1;31m---------------------------------------------------------------------------\u001b[0m",
      "\u001b[1;31mValueError\u001b[0m                                Traceback (most recent call last)",
      "Cell \u001b[1;32mIn[9], line 17\u001b[0m\n\u001b[0;32m      1\u001b[0m \u001b[39m#input function\u001b[39;00m\n\u001b[0;32m      2\u001b[0m \n\u001b[0;32m      3\u001b[0m \u001b[39m# a=int(input(\"enter a num:\"))\u001b[39;00m\n\u001b[1;32m   (...)\u001b[0m\n\u001b[0;32m     15\u001b[0m \u001b[39m# a=set(input(\"enter a num:\"))\u001b[39;00m\n\u001b[0;32m     16\u001b[0m \u001b[39m# print(a,type(a))\u001b[39;00m\n\u001b[1;32m---> 17\u001b[0m a\u001b[39m=\u001b[39m\u001b[39mdict\u001b[39;49m(\u001b[39minput\u001b[39;49m(\u001b[39m\"\u001b[39;49m\u001b[39menter a dict:\u001b[39;49m\u001b[39m\"\u001b[39;49m))\n\u001b[0;32m     18\u001b[0m \u001b[39mprint\u001b[39m(a,\u001b[39mtype\u001b[39m(a))\n",
      "\u001b[1;31mValueError\u001b[0m: dictionary update sequence element #0 has length 1; 2 is required"
     ]
    }
   ],
   "source": [
    "#input function\n",
    "\n",
    "# a=int(input(\"enter a num:\"))\n",
    "# print(a,type(a))\n",
    "# a=float(input(\"enter a num:\"))\n",
    "# print(a,type(a))\n",
    "# a=complex(input(\"enter a num:\"))\n",
    "# print(a,type(a))\n",
    "# a=bytes(input(\"enter a num:\"))\n",
    "# print(a,type(a))\n",
    "# a=list(input(\"enter a num:\"))\n",
    "# print(a,type(a))\n",
    "# a=tuple(input(\"enter a num:\"))\n",
    "# print(a,type(a))\n",
    "# a=set(input(\"enter a num:\"))\n",
    "# print(a,type(a))\n",
    "a=dict(input(\"enter a dict:\"))\n",
    "print(a,type(a))"
   ]
  },
  {
   "cell_type": "code",
   "execution_count": 10,
   "metadata": {},
   "outputs": [
    {
     "name": "stdout",
     "output_type": "stream",
     "text": [
      "{1, 2, 3, 4, 5} <class 'set'>\n"
     ]
    }
   ],
   "source": [
    "#eval can be used to take any input of the function.\n",
    "a=eval(input(\"enter input:\"))\n",
    "print(a,type(a))"
   ]
  },
  {
   "cell_type": "code",
   "execution_count": 12,
   "metadata": {},
   "outputs": [
    {
     "name": "stdout",
     "output_type": "stream",
     "text": [
      "[1, 2, 3, [4, 5]] <class 'list'>\n"
     ]
    }
   ],
   "source": [
    "a=eval(input(\"enter input:\"))\n",
    "print(a,type(a))"
   ]
  },
  {
   "cell_type": "code",
   "execution_count": 13,
   "metadata": {},
   "outputs": [
    {
     "name": "stdout",
     "output_type": "stream",
     "text": [
      "{'a': 10} <class 'dict'>\n"
     ]
    }
   ],
   "source": [
    "a=eval(input(\"enter input:\"))\n",
    "print(a,type(a))"
   ]
  },
  {
   "cell_type": "code",
   "execution_count": 23,
   "metadata": {},
   "outputs": [
    {
     "name": "stdout",
     "output_type": "stream",
     "text": [
      "1 hello world!\n",
      "2 hello world!\n",
      "3 hello world!\n",
      "4 hello world!\n",
      "5 hello world!\n",
      "6 hello world!\n",
      "7 hello world!\n",
      "8 hello world!\n",
      "9 hello world!\n",
      "10 hello world!\n"
     ]
    }
   ],
   "source": [
    "#wap to print hello world 10 times\n",
    "\n",
    "n=10\n",
    "i=1\n",
    "while i<=n:\n",
    "    print(i,\"hello world!\")\n",
    "    i+=1\n",
    "n=10\n",
    "i=0\n",
    "# while i<n:\n",
    "#     print(i,\"hello world!\")\n",
    "#     i+=1\n",
    "# n=10\n",
    "# i=1\n",
    "# while i<n+1:\n",
    "#     print(i,\"hello world!\")\n",
    "#     i+=1\n",
    "# n=10\n",
    "# i=1\n",
    "# while i<=n:\n",
    "#     print(i,\"hello world!\")\n",
    "#     i+=1"
   ]
  },
  {
   "cell_type": "code",
   "execution_count": 21,
   "metadata": {},
   "outputs": [
    {
     "name": "stdout",
     "output_type": "stream",
     "text": [
      "10 hello\n",
      "9 hello\n",
      "8 hello\n",
      "7 hello\n",
      "6 hello\n",
      "5 hello\n",
      "4 hello\n",
      "3 hello\n",
      "2 hello\n",
      "1 hello\n"
     ]
    }
   ],
   "source": [
    "#wap to print hello world using unary minus operator\n",
    "\n",
    "n=10\n",
    "while n>=1:\n",
    "    print(n,\"hello\")\n",
    "    n-=1\n",
    "n=10\n",
    "while n:\n",
    "    print(n,\"hello\")\n",
    "    n-=1\n"
   ]
  },
  {
   "cell_type": "code",
   "execution_count": 29,
   "metadata": {},
   "outputs": [
    {
     "name": "stdout",
     "output_type": "stream",
     "text": [
      "0 1 2 3 4 5 6 7 8 9 10 11 12 "
     ]
    }
   ],
   "source": [
    "#wap to print the whole numbers from 0 to n\n",
    "n=eval(input(\"enter anum:\"))\n",
    "i=0\n",
    "while i<=n:\n",
    "    print(i,end=\" \")\n",
    "    i=i+1"
   ]
  },
  {
   "cell_type": "code",
   "execution_count": 32,
   "metadata": {},
   "outputs": [
    {
     "name": "stdout",
     "output_type": "stream",
     "text": [
      "20  19  18  17  16  15  14  13  12  11  10  9  8  7  6  5  4  3  2  1  "
     ]
    }
   ],
   "source": [
    "#wap to print the whole numbers from n to 0\n",
    "n=eval(input(\"enter a num:\"))\n",
    "while n:\n",
    "    print(n,end=\"  \")\n",
    "    n-=1"
   ]
  },
  {
   "cell_type": "code",
   "execution_count": 35,
   "metadata": {},
   "outputs": [
    {
     "name": "stdout",
     "output_type": "stream",
     "text": [
      "7 5 6 7 8 4 5 6 7 8 "
     ]
    }
   ],
   "source": [
    "#wap to extract the digits from number\n",
    "n=8765487657\n",
    "while n>0:\n",
    "    digit=n%10\n",
    "    print(digit,end=\" \")\n",
    "    n=n//10"
   ]
  },
  {
   "cell_type": "code",
   "execution_count": 37,
   "metadata": {},
   "outputs": [
    {
     "name": "stdout",
     "output_type": "stream",
     "text": [
      "15\n"
     ]
    }
   ],
   "source": [
    "#wap for the sum of the digits\n",
    "\n",
    "n=12345\n",
    "sum=0\n",
    "while n:\n",
    "    digit=n%10\n",
    "    sum+=digit\n",
    "    n=n//10\n",
    "print(sum)"
   ]
  },
  {
   "cell_type": "code",
   "execution_count": 40,
   "metadata": {},
   "outputs": [
    {
     "name": "stdout",
     "output_type": "stream",
     "text": [
      "arm strong number\n"
     ]
    }
   ],
   "source": [
    "# to check the given number is armstrong num or not\n",
    "\n",
    "n=371\n",
    "num=n\n",
    "sum=0\n",
    "while n:\n",
    "    digit=n%10\n",
    "    sum=sum+digit**3\n",
    "    n=n//10\n",
    "if sum==num:\n",
    "    print(\"arm strong number\")\n",
    "else:\n",
    "    print(\"not an armstrong number\")\n",
    "\n"
   ]
  },
  {
   "cell_type": "code",
   "execution_count": 43,
   "metadata": {},
   "outputs": [
    {
     "name": "stdout",
     "output_type": "stream",
     "text": [
      "palindrome\n"
     ]
    }
   ],
   "source": [
    "# to check the given number is palindrome or not\n",
    "\n",
    "n=123454321\n",
    "num=n\n",
    "rem=0\n",
    "while n:\n",
    "    digit=n%10\n",
    "    rem=rem*10+digit\n",
    "    n=n//10\n",
    "if rem==num:\n",
    "    print(\"palindrome\")\n",
    "else:\n",
    "    print(\"not palindrome\")"
   ]
  },
  {
   "cell_type": "code",
   "execution_count": 46,
   "metadata": {},
   "outputs": [
    {
     "name": "stdout",
     "output_type": "stream",
     "text": [
      "factorial 24\n"
     ]
    }
   ],
   "source": [
    "#to print factorial of the number\n",
    "#5!=5*4*3*2*1\n",
    "\n",
    "n=4\n",
    "fact=1\n",
    "while n:\n",
    "    fact=fact*n\n",
    "    n=n-1\n",
    "print(\"factorial\",fact)\n",
    "\n"
   ]
  },
  {
   "cell_type": "code",
   "execution_count": 2,
   "metadata": {},
   "outputs": [
    {
     "name": "stdout",
     "output_type": "stream",
     "text": [
      "not a prime number\n"
     ]
    }
   ],
   "source": [
    "# to check the number is prime number or not\n",
    "#if num divisible by 1 and it self is prime\n",
    "\n",
    "n=12\n",
    "i=2\n",
    "count=0\n",
    "while i<n:\n",
    "    if n%i==0:\n",
    "        count=count+1\n",
    "    i+=1\n",
    "if count==0:\n",
    "    print(\"prime number\")\n",
    "else:\n",
    "    print(\"not a prime number\")\n",
    "\n",
    "\n"
   ]
  },
  {
   "cell_type": "code",
   "execution_count": 8,
   "metadata": {},
   "outputs": [
    {
     "name": "stdout",
     "output_type": "stream",
     "text": [
      "2 3 5 7 11 13 17 19 23 29 31 37 41 43 47 53 59 61 67 71 73 79 83 89 97 "
     ]
    }
   ],
   "source": [
    "# prime numbers from 0 to 100\n",
    "for n in range(2,100):\n",
    "    i=2\n",
    "    count=0\n",
    "    while i<=n:\n",
    "        if n%i==0:\n",
    "            count=count+1\n",
    "        i+=1\n",
    "    if count==1:\n",
    "       print(n,end=\" \")\n",
    "\n",
    "    "
   ]
  },
  {
   "cell_type": "code",
   "execution_count": 11,
   "metadata": {},
   "outputs": [
    {
     "name": "stdout",
     "output_type": "stream",
     "text": [
      "arm str\n"
     ]
    }
   ],
   "source": [
    "\n"
   ]
  }
 ],
 "metadata": {
  "kernelspec": {
   "display_name": "Python 3",
   "language": "python",
   "name": "python3"
  },
  "language_info": {
   "codemirror_mode": {
    "name": "ipython",
    "version": 3
   },
   "file_extension": ".py",
   "mimetype": "text/x-python",
   "name": "python",
   "nbconvert_exporter": "python",
   "pygments_lexer": "ipython3",
   "version": "3.11.4"
  },
  "orig_nbformat": 4
 },
 "nbformat": 4,
 "nbformat_minor": 2
}
