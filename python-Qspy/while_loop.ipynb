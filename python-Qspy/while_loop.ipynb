{
 "cells": [
  {
   "cell_type": "code",
   "execution_count": 9,
   "metadata": {},
   "outputs": [
    {
     "ename": "ValueError",
     "evalue": "dictionary update sequence element #0 has length 1; 2 is required",
     "output_type": "error",
     "traceback": [
      "\u001b[1;31m---------------------------------------------------------------------------\u001b[0m",
      "\u001b[1;31mValueError\u001b[0m                                Traceback (most recent call last)",
      "Cell \u001b[1;32mIn[9], line 17\u001b[0m\n\u001b[0;32m      1\u001b[0m \u001b[39m#input function\u001b[39;00m\n\u001b[0;32m      2\u001b[0m \n\u001b[0;32m      3\u001b[0m \u001b[39m# a=int(input(\"enter a num:\"))\u001b[39;00m\n\u001b[1;32m   (...)\u001b[0m\n\u001b[0;32m     15\u001b[0m \u001b[39m# a=set(input(\"enter a num:\"))\u001b[39;00m\n\u001b[0;32m     16\u001b[0m \u001b[39m# print(a,type(a))\u001b[39;00m\n\u001b[1;32m---> 17\u001b[0m a\u001b[39m=\u001b[39m\u001b[39mdict\u001b[39;49m(\u001b[39minput\u001b[39;49m(\u001b[39m\"\u001b[39;49m\u001b[39menter a dict:\u001b[39;49m\u001b[39m\"\u001b[39;49m))\n\u001b[0;32m     18\u001b[0m \u001b[39mprint\u001b[39m(a,\u001b[39mtype\u001b[39m(a))\n",
      "\u001b[1;31mValueError\u001b[0m: dictionary update sequence element #0 has length 1; 2 is required"
     ]
    }
   ],
   "source": [
    "#input function\n",
    "\n",
    "# a=int(input(\"enter a num:\"))\n",
    "# print(a,type(a))\n",
    "# a=float(input(\"enter a num:\"))\n",
    "# print(a,type(a))\n",
    "# a=complex(input(\"enter a num:\"))\n",
    "# print(a,type(a))\n",
    "# a=bytes(input(\"enter a num:\"))\n",
    "# print(a,type(a))\n",
    "# a=list(input(\"enter a num:\"))\n",
    "# print(a,type(a))\n",
    "# a=tuple(input(\"enter a num:\"))\n",
    "# print(a,type(a))\n",
    "# a=set(input(\"enter a num:\"))\n",
    "# print(a,type(a))\n",
    "a=dict(input(\"enter a dict:\"))\n",
    "print(a,type(a))"
   ]
  },
  {
   "cell_type": "code",
   "execution_count": 10,
   "metadata": {},
   "outputs": [
    {
     "name": "stdout",
     "output_type": "stream",
     "text": [
      "{1, 2, 3, 4, 5} <class 'set'>\n"
     ]
    }
   ],
   "source": [
    "#eval can be used to take any input of the function.\n",
    "a=eval(input(\"enter input:\"))\n",
    "print(a,type(a))"
   ]
  },
  {
   "cell_type": "code",
   "execution_count": 12,
   "metadata": {},
   "outputs": [
    {
     "name": "stdout",
     "output_type": "stream",
     "text": [
      "[1, 2, 3, [4, 5]] <class 'list'>\n"
     ]
    }
   ],
   "source": [
    "a=eval(input(\"enter input:\"))\n",
    "print(a,type(a))"
   ]
  },
  {
   "cell_type": "code",
   "execution_count": 13,
   "metadata": {},
   "outputs": [
    {
     "name": "stdout",
     "output_type": "stream",
     "text": [
      "{'a': 10} <class 'dict'>\n"
     ]
    }
   ],
   "source": [
    "a=eval(input(\"enter input:\"))\n",
    "print(a,type(a))"
   ]
  },
  {
   "cell_type": "code",
   "execution_count": 23,
   "metadata": {},
   "outputs": [
    {
     "name": "stdout",
     "output_type": "stream",
     "text": [
      "1 hello world!\n",
      "2 hello world!\n",
      "3 hello world!\n",
      "4 hello world!\n",
      "5 hello world!\n",
      "6 hello world!\n",
      "7 hello world!\n",
      "8 hello world!\n",
      "9 hello world!\n",
      "10 hello world!\n"
     ]
    }
   ],
   "source": [
    "#wap to print hello world 10 times\n",
    "\n",
    "n=10\n",
    "i=1\n",
    "while i<=n:\n",
    "    print(i,\"hello world!\")\n",
    "    i+=1\n",
    "n=10\n",
    "i=0\n",
    "# while i<n:\n",
    "#     print(i,\"hello world!\")\n",
    "#     i+=1\n",
    "# n=10\n",
    "# i=1\n",
    "# while i<n+1:\n",
    "#     print(i,\"hello world!\")\n",
    "#     i+=1\n",
    "# n=10\n",
    "# i=1\n",
    "# while i<=n:\n",
    "#     print(i,\"hello world!\")\n",
    "#     i+=1"
   ]
  },
  {
   "cell_type": "code",
   "execution_count": 21,
   "metadata": {},
   "outputs": [
    {
     "name": "stdout",
     "output_type": "stream",
     "text": [
      "10 hello\n",
      "9 hello\n",
      "8 hello\n",
      "7 hello\n",
      "6 hello\n",
      "5 hello\n",
      "4 hello\n",
      "3 hello\n",
      "2 hello\n",
      "1 hello\n"
     ]
    }
   ],
   "source": [
    "#wap to print hello world using unary minus operator\n",
    "\n",
    "n=10\n",
    "while n>=1:\n",
    "    print(n,\"hello\")\n",
    "    n-=1\n",
    "n=10\n",
    "while n:\n",
    "    print(n,\"hello\")\n",
    "    n-=1\n"
   ]
  },
  {
   "cell_type": "code",
   "execution_count": 29,
   "metadata": {},
   "outputs": [
    {
     "name": "stdout",
     "output_type": "stream",
     "text": [
      "0 1 2 3 4 5 6 7 8 9 10 11 12 "
     ]
    }
   ],
   "source": [
    "#wap to print the whole numbers from 0 to n\n",
    "n=eval(input(\"enter anum:\"))\n",
    "i=0\n",
    "while i<=n:\n",
    "    print(i,end=\" \")\n",
    "    i=i+1"
   ]
  },
  {
   "cell_type": "code",
   "execution_count": 32,
   "metadata": {},
   "outputs": [
    {
     "name": "stdout",
     "output_type": "stream",
     "text": [
      "20  19  18  17  16  15  14  13  12  11  10  9  8  7  6  5  4  3  2  1  "
     ]
    }
   ],
   "source": [
    "#wap to print the whole numbers from n to 0\n",
    "n=eval(input(\"enter a num:\"))\n",
    "while n:\n",
    "    print(n,end=\"  \")\n",
    "    n-=1"
   ]
  },
  {
   "cell_type": "code",
   "execution_count": 35,
   "metadata": {},
   "outputs": [
    {
     "name": "stdout",
     "output_type": "stream",
     "text": [
      "7 5 6 7 8 4 5 6 7 8 "
     ]
    }
   ],
   "source": [
    "#wap to extract the digits from number\n",
    "n=8765487657\n",
    "while n>0:\n",
    "    digit=n%10\n",
    "    print(digit,end=\" \")\n",
    "    n=n//10"
   ]
  },
  {
   "cell_type": "code",
   "execution_count": 37,
   "metadata": {},
   "outputs": [
    {
     "name": "stdout",
     "output_type": "stream",
     "text": [
      "15\n"
     ]
    }
   ],
   "source": [
    "#wap for the sum of the digits\n",
    "\n",
    "n=12345\n",
    "sum=0\n",
    "while n:\n",
    "    digit=n%10\n",
    "    sum+=digit\n",
    "    n=n//10\n",
    "print(sum)"
   ]
  },
  {
   "cell_type": "code",
   "execution_count": 40,
   "metadata": {},
   "outputs": [
    {
     "name": "stdout",
     "output_type": "stream",
     "text": [
      "arm strong number\n"
     ]
    }
   ],
   "source": [
    "# to check the given number is armstrong num or not\n",
    "\n",
    "n=371\n",
    "num=n\n",
    "sum=0\n",
    "while n:\n",
    "    digit=n%10\n",
    "    sum=sum+digit**3\n",
    "    n=n//10\n",
    "if sum==num:\n",
    "    print(\"arm strong number\")\n",
    "else:\n",
    "    print(\"not an armstrong number\")\n",
    "\n"
   ]
  },
  {
   "cell_type": "code",
   "execution_count": 43,
   "metadata": {},
   "outputs": [
    {
     "name": "stdout",
     "output_type": "stream",
     "text": [
      "palindrome\n"
     ]
    }
   ],
   "source": [
    "# to check the given number is palindrome or not\n",
    "\n",
    "n=123454321\n",
    "num=n\n",
    "rem=0\n",
    "while n:\n",
    "    digit=n%10\n",
    "    rem=rem*10+digit\n",
    "    n=n//10\n",
    "if rem==num:\n",
    "    print(\"palindrome\")\n",
    "else:\n",
    "    print(\"not palindrome\")"
   ]
  },
  {
   "cell_type": "code",
   "execution_count": 7,
   "metadata": {},
   "outputs": [
    {
     "name": "stdout",
     "output_type": "stream",
     "text": [
      "factorial 120\n"
     ]
    }
   ],
   "source": [
    "#to print factorial of the number\n",
    "#5!=5*4*3*2*1\n",
    "\n",
    "# n=4\n",
    "# fact=1\n",
    "# while n:\n",
    "#     fact=fact*n\n",
    "#     n=n-1\n",
    "# print(\"factorial\",fact)\n",
    "n=5\n",
    "fact=1\n",
    "for i in range(1,n+1):\n",
    "    fact=fact*i\n",
    "print(\"factorial\",fact)\n",
    "\n"
   ]
  },
  {
   "cell_type": "code",
   "execution_count": 2,
   "metadata": {},
   "outputs": [
    {
     "name": "stdout",
     "output_type": "stream",
     "text": [
      "not a prime number\n"
     ]
    }
   ],
   "source": [
    "# to check the number is prime number or not\n",
    "#if num divisible by 1 and it self is prime\n",
    "\n",
    "n=12\n",
    "i=2\n",
    "count=0\n",
    "while i<n:\n",
    "    if n%i==0:\n",
    "        count=count+1\n",
    "    i+=1\n",
    "if count==0:\n",
    "    print(\"prime number\")\n",
    "else:\n",
    "    print(\"not a prime number\")\n",
    "\n",
    "\n"
   ]
  },
  {
   "cell_type": "code",
   "execution_count": 45,
   "metadata": {},
   "outputs": [
    {
     "name": "stdout",
     "output_type": "stream",
     "text": [
      "2 3 5 7 11 13 17 19 23 29 31 37 41 43 47 53 59 61 67 71 73 79 83 89 97 "
     ]
    }
   ],
   "source": [
    "# prime numbers from 0 to 100\n",
    "for n in range(2,100):\n",
    "    i=2\n",
    "    count=0\n",
    "    while i<=n:\n",
    "        if n%i==0:\n",
    "            count=count+1\n",
    "        i+=1\n",
    "    if count==1:\n",
    "       print(n,end=\" \")\n",
    "\n",
    "    "
   ]
  },
  {
   "cell_type": "code",
   "execution_count": 1,
   "metadata": {},
   "outputs": [
    {
     "name": "stdout",
     "output_type": "stream",
     "text": [
      "155\n"
     ]
    }
   ],
   "source": [
    "#sum of numbers in range\n",
    "i=11\n",
    "n=20\n",
    "sum=0\n",
    "while i<=20:\n",
    "    sum+=i\n",
    "    i+=1\n",
    "print(sum)\n",
    "\n",
    "\n"
   ]
  },
  {
   "cell_type": "code",
   "execution_count": 10,
   "metadata": {},
   "outputs": [
    {
     "name": "stdout",
     "output_type": "stream",
     "text": [
      "153 370 371 407 "
     ]
    }
   ],
   "source": [
    "for n in range(100,500):\n",
    "    order=len(str(n))\n",
    "    sum=0\n",
    "    temp=n\n",
    "#    print(temp)\n",
    "    while n:\n",
    "        dig=n%10\n",
    "        sum+=dig ** order\n",
    "        n=n//10\n",
    "    if temp==sum:\n",
    "        print(temp,end=\" \")\n",
    "\n"
   ]
  },
  {
   "cell_type": "code",
   "execution_count": 17,
   "metadata": {},
   "outputs": [
    {
     "name": "stdout",
     "output_type": "stream",
     "text": [
      "1 2 3 5 8 13 21 34 "
     ]
    }
   ],
   "source": [
    "#fabinocci series\n",
    "\n",
    "num=10\n",
    "n1=0\n",
    "n2=1\n",
    "for i in range(2,num):\n",
    "    n3=n1+n2  #n3=0+1=1  n1=0,n2=1,n3=1  n2=n1->n1=1 n2=n3->n2=1 n3=1+1=2 n2=1,->n1=1,n3=2->n2=2==n1+n2->1+2->3\n",
    "    n1=n2\n",
    "    n2=n3\n",
    "    print(n3,end=\" \")"
   ]
  },
  {
   "cell_type": "code",
   "execution_count": 3,
   "metadata": {},
   "outputs": [
    {
     "name": "stdout",
     "output_type": "stream",
     "text": [
      "o i a o a i a u a e "
     ]
    }
   ],
   "source": [
    "#wap to print the vowels in the given string\n",
    "\n",
    "s=\"python is a programming language\"\n",
    "for i in s:\n",
    "    if i in \"aeiouAEIOU\":\n",
    "        print(i,end=\" \")"
   ]
  },
  {
   "cell_type": "code",
   "execution_count": 10,
   "metadata": {},
   "outputs": [],
   "source": [
    "#wap to print the vowels in the given string\n",
    "\n",
    "# s=\"python is a programming language\"\n",
    "# i=1\n",
    "# print(len(s))\n",
    "# while i<=len(s):\n",
    "#     if i in \"aeiouAEIOU\":\n",
    "#         print(i,end=\"\")\n",
    "#         i+=1"
   ]
  },
  {
   "cell_type": "code",
   "execution_count": 13,
   "metadata": {},
   "outputs": [
    {
     "name": "stdout",
     "output_type": "stream",
     "text": [
      "256\n"
     ]
    }
   ],
   "source": [
    "#to find the power of the number\n",
    "n=4\n",
    "p=4\n",
    "# res=n**p\n",
    "res=pow(n,p)\n",
    "print(res)"
   ]
  },
  {
   "cell_type": "code",
   "execution_count": 21,
   "metadata": {},
   "outputs": [
    {
     "name": "stdout",
     "output_type": "stream",
     "text": [
      "1 4 9 16 25 36 49 64 81 100 121 144 169 196 225 256 289 324 361 400 "
     ]
    }
   ],
   "source": [
    "# wap to find the power of num from 1-20\n",
    "n=20\n",
    "i=1\n",
    "while i<=n:\n",
    "    res=pow(i,2)\n",
    "    # result=pow(i,3)\n",
    "    print(res,end=\" \")\n",
    "    # print(\"\\n\",result,end=\" \")\n",
    "    i+=1"
   ]
  },
  {
   "cell_type": "code",
   "execution_count": 28,
   "metadata": {},
   "outputs": [
    {
     "name": "stdout",
     "output_type": "stream",
     "text": [
      "1 2 3 4 6 9 12 18 36 "
     ]
    }
   ],
   "source": [
    "#wap factors of the number\n",
    "#to find the factors 6 it is divisible by 1,2,3,6\n",
    "\n",
    "n=36\n",
    "i=1\n",
    "while i<=n:\n",
    "    if n%i==0:\n",
    "        print(i,end=\" \")\n",
    "    i+=1"
   ]
  },
  {
   "cell_type": "code",
   "execution_count": 43,
   "metadata": {},
   "outputs": [
    {
     "name": "stdout",
     "output_type": "stream",
     "text": [
      "perfect number\n"
     ]
    }
   ],
   "source": [
    "#wap to check the number is perfect or not\n",
    "#to check perfect number 24 multiples==(1,2,3,4,6,8==24)\n",
    "\n",
    "n=6\n",
    "num=n\n",
    "i=1\n",
    "sum=0\n",
    "while i<n:\n",
    "    if n%i==0:\n",
    "        sum+=i\n",
    "    i=i+1      \n",
    "if sum==num:\n",
    "    print(\"perfect number\")\n",
    "else:\n",
    "    print(\"not a perfect number\")\n"
   ]
  },
  {
   "cell_type": "code",
   "execution_count": 13,
   "metadata": {},
   "outputs": [
    {
     "name": "stdout",
     "output_type": "stream",
     "text": [
      "153\n",
      "4113\n",
      "6993\n"
     ]
    }
   ],
   "source": [
    "# to check the given num is strong or not\n",
    "#145=1!+4!+5!=145\n",
    "n=145\n",
    "i=1\n",
    "sum=0\n",
    "fact=1\n",
    "while(n>0):\n",
    "    digit=n%10\n",
    "    n=n//10\n",
    "    i+=1\n",
    "    # print(digit)\n",
    "    for i in range(1,digit+1):\n",
    "        fact=fact*i\n",
    "        sum=sum+fact\n",
    "    print(sum)\n",
    "    \n"
   ]
  }
 ],
 "metadata": {
  "kernelspec": {
   "display_name": "Python 3",
   "language": "python",
   "name": "python3"
  },
  "language_info": {
   "codemirror_mode": {
    "name": "ipython",
    "version": 3
   },
   "file_extension": ".py",
   "mimetype": "text/x-python",
   "name": "python",
   "nbconvert_exporter": "python",
   "pygments_lexer": "ipython3",
   "version": "3.11.4"
  },
  "orig_nbformat": 4
 },
 "nbformat": 4,
 "nbformat_minor": 2
}
