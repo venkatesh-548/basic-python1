{
 "cells": [
  {
   "cell_type": "code",
   "execution_count": null,
   "metadata": {},
   "outputs": [],
   "source": []
  },
  {
   "cell_type": "code",
   "execution_count": 5,
   "metadata": {},
   "outputs": [
    {
     "name": "stdout",
     "output_type": "stream",
     "text": [
      "15 is positive\n",
      "-15 is negative\n"
     ]
    }
   ],
   "source": [
    "#1 WAP to check whether a number is positive. If Positive, print a message Positive.\n",
    "\n",
    "n=15\n",
    "if n>=0:\n",
    "    print(f'{n} is positive')\n",
    "\n",
    "n=-15\n",
    "if n<0:\n",
    "    print(\"%d is negative\"%(n))"
   ]
  },
  {
   "cell_type": "code",
   "execution_count": 6,
   "metadata": {},
   "outputs": [
    {
     "name": "stdout",
     "output_type": "stream",
     "text": [
      "hello world!...\n"
     ]
    }
   ],
   "source": [
    "#2 WAP to display hello world if the number is greater than 1 and lesser than 5\n",
    "\n",
    "n=3\n",
    "if 1<n<5:\n",
    "    print(\"hello world!...\")"
   ]
  },
  {
   "cell_type": "code",
   "execution_count": 7,
   "metadata": {},
   "outputs": [
    {
     "name": "stdout",
     "output_type": "stream",
     "text": [
      "Fizz..\n"
     ]
    }
   ],
   "source": [
    "# 3 WAP to check whether the given number is divisible by 3 or not if print fizz\n",
    "\n",
    "n=15\n",
    "if n%3==0:\n",
    "    print(\"Fizz..\")"
   ]
  },
  {
   "cell_type": "code",
   "execution_count": 9,
   "metadata": {},
   "outputs": [
    {
     "name": "stdout",
     "output_type": "stream",
     "text": [
      "84j\n",
      "(84+0j)\n",
      "(84+84j)\n"
     ]
    }
   ],
   "source": [
    "#4 WAP to check whether given input is divisible by 2 and 6. If the condition is \n",
    "#satisfied, convert the given number into a complex number.\n",
    "\n",
    "n=84\n",
    "if n%2==0 and n%6==0:\n",
    "    print(complex(imag=n))\n",
    "    print(complex(real=n))\n",
    "    print(complex(real=n,imag=n))\n"
   ]
  },
  {
   "cell_type": "code",
   "execution_count": 10,
   "metadata": {},
   "outputs": [
    {
     "name": "stdout",
     "output_type": "stream",
     "text": [
      "['3', '0']\n"
     ]
    }
   ],
   "source": [
    "\"\"\"5 WAP to check whether a given input is divisible by 3 or 5. If the condition is \n",
    "satisfied, the number is converted to a list.\n",
    "i/p: 30\n",
    "o/p:[‘3’,’0’]\"\"\"\n",
    "\n",
    "n=30\n",
    "if n%3==0 or n%5==0:\n",
    "    print(list(str(n)))"
   ]
  },
  {
   "cell_type": "code",
   "execution_count": 20,
   "metadata": {},
   "outputs": [
    {
     "name": "stdout",
     "output_type": "stream",
     "text": [
      "20 is the multiple of 5\n",
      "25 is the multiple of 5\n"
     ]
    }
   ],
   "source": [
    "# 6 Write a program to check whether a given number is multiple of 5 or not\n",
    "\n",
    "n=20\n",
    "if n%10==0 or n%10==5:\n",
    "    print(\"{} is the multiple of 5\".format(n))\n",
    "n=25\n",
    "if n%10==0 or n%10==5:\n",
    "    print('%d is the multiple of 5'%(n))"
   ]
  },
  {
   "cell_type": "code",
   "execution_count": 22,
   "metadata": {},
   "outputs": [
    {
     "name": "stdout",
     "output_type": "stream",
     "text": [
      "it is 0 \n"
     ]
    }
   ],
   "source": [
    "# 7 WAP to check whether the given input is 0 or not if 0 prints 0.\n",
    "\n",
    "n=0\n",
    "if n==0:\n",
    "    print(\"it is {} \".format(n))\n",
    "n=10\n",
    "if n==0:\n",
    "    print(\"it is {} \".format(n))"
   ]
  },
  {
   "cell_type": "code",
   "execution_count": 23,
   "metadata": {},
   "outputs": [
    {
     "name": "stdout",
     "output_type": "stream",
     "text": [
      "-18 is the negative number\n"
     ]
    }
   ],
   "source": [
    "\"\"\" 8 WAP to check whether a number is negative. If negative, print a message \n",
    "negative.\"\"\"\n",
    "\n",
    "n=-18\n",
    "if n<0:\n",
    "    print(\"%d is the negative number\"%(n))"
   ]
  },
  {
   "cell_type": "code",
   "execution_count": 32,
   "metadata": {},
   "outputs": [
    {
     "name": "stdout",
     "output_type": "stream",
     "text": [
      "[10, 20, 14, 30]\n",
      "[10, 30, 20, 14]\n"
     ]
    }
   ],
   "source": [
    "\"\"\"9 WAP to check whether a number is even or not. If even, store the value inside \n",
    "the list.\"\"\"\n",
    "\n",
    "l=[10,20,14]\n",
    "n=30\n",
    "if n%2==0:\n",
    "    l.append(n)\n",
    "    print(l)\n",
    "\n",
    "# l=[10,20,14]\n",
    "# n=30\n",
    "# if n%2==0:\n",
    "#     l.extend(n)\n",
    "#     print(l)\n",
    "\n",
    "l=[10,20,14]\n",
    "n=30\n",
    "if n%2==0:\n",
    "    l.insert(1,n)\n",
    "    print(l)\n"
   ]
  },
  {
   "cell_type": "code",
   "execution_count": 38,
   "metadata": {},
   "outputs": [
    {
     "name": "stdout",
     "output_type": "stream",
     "text": [
      "13\n"
     ]
    }
   ],
   "source": [
    "\"\"\"10 WAP to check whether a number is odd or not. If odd, store the value inside the \n",
    "tuple. \"\"\"\n",
    "\n",
    "t=(10,20)\n",
    "n=13\n",
    "if n%2!=0:\n",
    "    t=t+(n,)\n",
    "    print(n)\n"
   ]
  },
  {
   "cell_type": "code",
   "execution_count": 41,
   "metadata": {},
   "outputs": [
    {
     "name": "stdout",
     "output_type": "stream",
     "text": [
      "21952\n"
     ]
    }
   ],
   "source": [
    "\"\"\"10 WAP to check if the given number is even or not. if it is yes, to print the power of \n",
    "4 in a given number. \"\"\"\n",
    "\n",
    "n=28\n",
    "if n%2==0:\n",
    "    print(n**3)"
   ]
  },
  {
   "cell_type": "code",
   "execution_count": 64,
   "metadata": {},
   "outputs": [
    {
     "name": "stdout",
     "output_type": "stream",
     "text": [
      "yes 124\n"
     ]
    }
   ],
   "source": [
    "\"\"\"11 WAP to take the input from the user as a number and check whether it is a number \n",
    "or not. if yes. take the number and add some value and print it.\"\"\"\n",
    "n=int(input(\" enter num\"))\n",
    "if n%10 in [0,1,2,3,4,5,6,7,8,9]:\n",
    "    print(\"yes\",n+1)"
   ]
  },
  {
   "cell_type": "code",
   "execution_count": 67,
   "metadata": {},
   "outputs": [
    {
     "name": "stdout",
     "output_type": "stream",
     "text": [
      "hello world\n"
     ]
    }
   ],
   "source": [
    "\"\"\" 12 WAP to display hello world if the number is greater than 1 and less than 5. \"\"\"\n",
    "\n",
    "n=3\n",
    "if 1<n<5:\n",
    "    print(\"hello world\")\n",
    "n=5\n",
    "if 1<n<5:\n",
    "    print(\"hello world\")"
   ]
  },
  {
   "cell_type": "code",
   "execution_count": 68,
   "metadata": {},
   "outputs": [
    {
     "name": "stdout",
     "output_type": "stream",
     "text": [
      "the square of 1225\n"
     ]
    }
   ],
   "source": [
    "\"\"\" 13 WAP to check whether a given value is divisible by 5 and 7. If the value is \n",
    "divisible,to display the square of the values. \"\"\"\n",
    "\n",
    "n=35\n",
    "if n%5==0 and n%7==0:\n",
    "    print(\"the square of {}\".format(n**2))"
   ]
  },
  {
   "cell_type": "code",
   "execution_count": 72,
   "metadata": {},
   "outputs": [
    {
     "name": "stdout",
     "output_type": "stream",
     "text": [
      "rightshift is 7\n",
      "leftshift is 116\n"
     ]
    }
   ],
   "source": [
    "\"\"\" 14 WAP to check whether the given value's last digit is greater than 5 or not.if \n",
    "greater, to perform the bitwise right shift operator (skipping value is 2) \"\"\"\n",
    "\n",
    "n=29\n",
    "if n%10>5:\n",
    "    print(\"rightshift is\",n>>2)\n",
    "    print(\"leftshift is\",n<<2)"
   ]
  },
  {
   "cell_type": "code",
   "execution_count": 73,
   "metadata": {},
   "outputs": [
    {
     "name": "stdout",
     "output_type": "stream",
     "text": [
      "the square of num is 729\n"
     ]
    }
   ],
   "source": [
    "\"\"\" 15 WAP to check whether a given value is divisible by 3 and less than 30. If the value \n",
    "is divisible,to display the square of the values. \"\"\"\n",
    "\n",
    "n=27\n",
    "if n%3==0 and n<30:\n",
    "    print(\"the square of num is\",n**2)"
   ]
  },
  {
   "cell_type": "code",
   "execution_count": 77,
   "metadata": {},
   "outputs": [
    {
     "name": "stdout",
     "output_type": "stream",
     "text": [
      "the cube of the num is 512\n"
     ]
    }
   ],
   "source": [
    "\"\"\" 16 WAP to check whether a given value is an even number and divisible by 4. If \n",
    "satisfied ,to display the cube of the values.\"\"\"\n",
    "\n",
    "n=8\n",
    "if n%2==0 and n%4==0:\n",
    "    print(\"the cube of the num is\",n**3)"
   ]
  },
  {
   "cell_type": "code",
   "execution_count": 83,
   "metadata": {},
   "outputs": [
    {
     "name": "stdout",
     "output_type": "stream",
     "text": [
      "[4, 2, 6, 32, 32]\n"
     ]
    }
   ],
   "source": [
    "\"\"\" 17 WAP to check whether a given value is even or not. If the even number stores the \n",
    "value inside the list\"\"\"\n",
    "\n",
    "n=32\n",
    "l=[4,2,6]\n",
    "if n%2==0:\n",
    "    #l.append(n)\n",
    "    l+=[n]\n",
    "    print(l)"
   ]
  },
  {
   "cell_type": "code",
   "execution_count": 85,
   "metadata": {},
   "outputs": [
    {
     "name": "stdout",
     "output_type": "stream",
     "text": [
      "the last digit is: 4\n"
     ]
    }
   ],
   "source": [
    "\"\"\" 18 WAP to check whether a given value is a negative or even number. If satisfied ,to \n",
    "display the last digit of the values.\"\"\"\n",
    "\n",
    "n=234\n",
    "if n%2==0 or n<0:\n",
    "    print(\"the last digit is:\",n%10)"
   ]
  },
  {
   "cell_type": "code",
   "execution_count": 86,
   "metadata": {},
   "outputs": [
    {
     "name": "stdout",
     "output_type": "stream",
     "text": [
      "condition false\n"
     ]
    }
   ],
   "source": [
    "\"\"\" 19 WAP to check whether a given value is a negative or odd number and divisible \n",
    "by 4. If satisfied ,to display the cube of the values.\"\"\"\n",
    "\n",
    "n=85\n",
    "if n<0 or n%2!=0 and n%4==0:\n",
    "    print(\"cubes of num is\",n**3)\n",
    "print(\"condition false\")\n"
   ]
  },
  {
   "cell_type": "code",
   "execution_count": 88,
   "metadata": {},
   "outputs": [
    {
     "name": "stdout",
     "output_type": "stream",
     "text": [
      "the character is: d\n"
     ]
    }
   ],
   "source": [
    "\"\"\" 20 WAP to check whether a given ascii value is divisible by 4 and even value. If \n",
    "satisfied, to display the ascii character.\"\"\"\n",
    "n=100\n",
    "if n%4==0 and n%2==0:\n",
    "    print(\"the character is:\",chr(n))"
   ]
  },
  {
   "cell_type": "code",
   "execution_count": 89,
   "metadata": {},
   "outputs": [
    {
     "name": "stdout",
     "output_type": "stream",
     "text": [
      "the character is: x\n"
     ]
    }
   ],
   "source": [
    "\"\"\" 21 WAP to check whether a given value is present in between 45 to 125 and the \n",
    "number should be divisible by 4 and 5 and even value. If satisfied, to display the \n",
    "ascii character.\"\"\"\n",
    "\n",
    "n=120\n",
    "if 45<n<125 and n%4==0 and n%5==0:\n",
    "    print(\"the character is:\",chr(n))\n",
    "   "
   ]
  },
  {
   "cell_type": "code",
   "execution_count": 94,
   "metadata": {},
   "outputs": [
    {
     "name": "stdout",
     "output_type": "stream",
     "text": [
      "the multiplication of 60 with 5 is: 300\n"
     ]
    }
   ],
   "source": [
    "\"\"\" 22 WAP to check whether a given value is present in between 25 to 100 and the \n",
    "number should be divisible by 4 and 5. If satisfied, to display multiplication of \n",
    "given value with 5.\n",
    "\"\"\"\n",
    "\n",
    "n=60\n",
    "if 25<n<100 and n%4==0 and n%5==0:\n",
    "    print(\"the multiplication of {} with 5 is:\".format(n),n*5)"
   ]
  },
  {
   "cell_type": "code",
   "execution_count": 95,
   "metadata": {},
   "outputs": [
    {
     "name": "stdout",
     "output_type": "stream",
     "text": [
      "result: -25.0\n"
     ]
    }
   ],
   "source": [
    "\"\"\"23 WAP to check whether a given number is an integer and odd number. If the \n",
    "condition is satisfied, the integer is divisible by 5 and displays the result\"\"\"\n",
    "\n",
    "n=-125\n",
    "if n>0 or n<0 and n%5==0:\n",
    "    print(\"result:\",n/5)\n"
   ]
  },
  {
   "cell_type": "code",
   "execution_count": 96,
   "metadata": {},
   "outputs": [
    {
     "name": "stdout",
     "output_type": "stream",
     "text": [
      "string result: -125\n"
     ]
    }
   ],
   "source": [
    "\"\"\" 24 WAP to check whether a given value is an integer or not. If integer, the given \n",
    "value is converted to string and displays the result.\"\"\"\n",
    "\n",
    "n=-125\n",
    "if n>0 or n<0:\n",
    "    print(\"string result:\",str(n))"
   ]
  },
  {
   "cell_type": "code",
   "execution_count": 100,
   "metadata": {},
   "outputs": [
    {
     "name": "stdout",
     "output_type": "stream",
     "text": [
      "l\n",
      "l\n"
     ]
    }
   ],
   "source": [
    "\"\"\"25 WAP to check whether a given value is less than 125 and greater than 60 or not. \n",
    "If the condition is satisfied, take the name and extract the middle character and \n",
    "display it.\"\"\"\n",
    "\n",
    "n=100\n",
    "if 60<n<125:\n",
    "    ch=\"hello\"\n",
    "    s=len(str(ch))//2\n",
    "    print(ch[s])\n",
    "    print(ch[len(str(ch))//2])\n"
   ]
  },
  {
   "cell_type": "code",
   "execution_count": 102,
   "metadata": {},
   "outputs": [
    {
     "name": "stdout",
     "output_type": "stream",
     "text": [
      "the addition of 10 and 10 is 20\n"
     ]
    }
   ],
   "source": [
    "\"\"\" 26 WAP to check whether a given two integers are equal or not. If both are equal, to \n",
    "perform addition and display the result.\"\"\"\n",
    "\n",
    "a=10\n",
    "b=10\n",
    "if a==b:\n",
    "    c=a+b\n",
    "    print(\"the addition of {} and {} is {}\".format(a,b,c))"
   ]
  },
  {
   "cell_type": "code",
   "execution_count": 103,
   "metadata": {},
   "outputs": [
    {
     "name": "stdout",
     "output_type": "stream",
     "text": [
      "8.333333333333334\n"
     ]
    }
   ],
   "source": [
    "\"\"\" 27 WAP to check whether two values are equal or not. if equal, to perform \n",
    "multiplication of two numbers and that result is division by 3 and display the \n",
    "value. \"\"\"\n",
    "\n",
    "a=5\n",
    "b=5\n",
    "if a==b:\n",
    "    c=a*b\n",
    "    print(c/3)\n"
   ]
  },
  {
   "cell_type": "code",
   "execution_count": 105,
   "metadata": {},
   "outputs": [
    {
     "name": "stdout",
     "output_type": "stream",
     "text": [
      "{'a': 97}\n",
      "{'a': 100, 'A': 65}\n"
     ]
    }
   ],
   "source": [
    "\"\"\" 28 WAP to check whether a character is in the alphabet or not. If the alphabet, store \n",
    "the value inside the dict(key as a character and value as an ascii value).\"\"\"\n",
    "d={}\n",
    "ch=\"a\"\n",
    "if \"a\"<=ch<=\"z\" or \"A\"<=ch<=\"Z\":\n",
    "    d[ch]=ord(ch)\n",
    "    print(d)\n",
    "\n",
    "d={\"a\":100}\n",
    "ch=\"A\"\n",
    "if \"a\"<=ch<=\"z\" or \"A\"<=ch<=\"Z\":\n",
    "    d[ch]=ord(ch)\n",
    "    print(d)\n"
   ]
  },
  {
   "cell_type": "code",
   "execution_count": 108,
   "metadata": {},
   "outputs": [
    {
     "name": "stdout",
     "output_type": "stream",
     "text": [
      "{'d': 100, 'Z': 90}\n",
      "false\n"
     ]
    }
   ],
   "source": [
    "\"\"\" 29 WAP to check whether a character is in the uppercase or not. If the uppercase, \n",
    "store the value inside the dict(key as a character and value as an ascii value).\"\"\"\n",
    "\n",
    "d={\"d\":100}\n",
    "ch=\"Z\"\n",
    "if \"A\"<=ch<=\"Z\":\n",
    "    d[ch]=ord(ch)\n",
    "    print(d)\n",
    "\n",
    "d={\"d\":100}\n",
    "ch=\"t\"\n",
    "if \"A\"<=ch<=\"Z\":\n",
    "    d[ch]=ord(ch)\n",
    "    print(d)\n",
    "print(\"false\")"
   ]
  },
  {
   "cell_type": "code",
   "execution_count": 114,
   "metadata": {},
   "outputs": [
    {
     "name": "stdout",
     "output_type": "stream",
     "text": [
      "{'s': 115}\n"
     ]
    }
   ],
   "source": [
    "\"\"\"30 WAP to check whether a character is in the uppercase or not. If the uppercase, \n",
    "convert to lowercase and store the value inside the dict(character as a key and \n",
    "ascii value as a value).\"\"\"\n",
    "\n",
    "d={}\n",
    "ch=\"S\"\n",
    "if \"A\"<=ch<=\"Z\":\n",
    "    t=chr(ord(ch)+32)\n",
    "    d[t]=ord(t)\n",
    "    print(d)\n",
    "\n"
   ]
  },
  {
   "cell_type": "code",
   "execution_count": 116,
   "metadata": {},
   "outputs": [
    {
     "name": "stdout",
     "output_type": "stream",
     "text": [
      "vvvvvvvvvv\n"
     ]
    }
   ],
   "source": [
    "\"\"\" 31 WAP to check whether a character is in the lowercase or not. If the lowercase, to \n",
    "perform the replication operation on that character.\"\"\"\n",
    "  \n",
    "ch=\"v\"\n",
    "if \"a\"<=ch<=\"z\":\n",
    "    print(ch*10)"
   ]
  },
  {
   "cell_type": "code",
   "execution_count": 117,
   "metadata": {},
   "outputs": [
    {
     "name": "stdout",
     "output_type": "stream",
     "text": [
      "100\n"
     ]
    }
   ],
   "source": [
    "\"\"\"32 WAP to check whether a character is in the ascii number or not. If the ascii \n",
    "number, to convert into integer.\"\"\"\n",
    "\n",
    "n=\"d\"\n",
    "if 0<=ord(n)<=127:\n",
    "    print(ord(n))"
   ]
  },
  {
   "cell_type": "code",
   "execution_count": 129,
   "metadata": {},
   "outputs": [
    {
     "name": "stdout",
     "output_type": "stream",
     "text": [
      "special char 64\n",
      "false\n"
     ]
    }
   ],
   "source": [
    "\"\"\"33 WAP to check whether a character is in the special symbol or not. If the special \n",
    "symbol, to display a symbol with ascii value.\"\"\"\n",
    "\n",
    "ch=\"@\"\n",
    "if ((0<=ord(ch)<=47 or 58<=ord(ch)<=64) or (91<=ord(ch)<=96 or 123<=ord(ch)<=127)):\n",
    "    print(\"special char\",ord(ch))\n",
    "\n",
    "ch=\"b\"\n",
    "if ((0<=ord(ch)<=47 or 58<=ord(ch)<=64) or (91<=ord(ch)<=96 or 123<=ord(ch)<=127)):\n",
    "    print(\"special char\",ord(ch))\n",
    "print(\"false\")"
   ]
  },
  {
   "cell_type": "code",
   "execution_count": 130,
   "metadata": {},
   "outputs": [
    {
     "name": "stdout",
     "output_type": "stream",
     "text": [
      "100\n"
     ]
    }
   ],
   "source": [
    "\"\"\" 34 WAP to check whether a character is an even number or not. If the even number, \n",
    "to display an even number.\"\"\"\n",
    "\n",
    "ch=\"d\"\n",
    "if ord(ch)%2==0:\n",
    "    print(ord(ch))"
   ]
  },
  {
   "cell_type": "code",
   "execution_count": 134,
   "metadata": {},
   "outputs": [
    {
     "name": "stdout",
     "output_type": "stream",
     "text": [
      "square 900\n",
      "square 100\n",
      "false\n"
     ]
    }
   ],
   "source": [
    "\"\"\"35 WAP to check whether a Given two integers a and b, if any of the integers is 10 \n",
    "or if their sum is 10, to perform the sum of the numbers and to display the square \n",
    "of the result.\"\"\"\n",
    "\n",
    "a=10\n",
    "b=20\n",
    "if a==10 or b==10 or a+b==10:\n",
    "    c=a+b\n",
    "    print(\"square\",c**2)\n",
    "\n",
    "a=5\n",
    "b=5\n",
    "if a==10 or b==10 or a+b==10:\n",
    "    c=a+b\n",
    "    print(\"square\",c**2)\n",
    "\n",
    "a=15\n",
    "b=5\n",
    "if a==10 or b==10 or a+b==10:\n",
    "    c=a+b\n",
    "    print(\"square\",c**2)\n",
    "print(\"false\")"
   ]
  },
  {
   "cell_type": "code",
   "execution_count": 136,
   "metadata": {},
   "outputs": [
    {
     "name": "stdout",
     "output_type": "stream",
     "text": [
      "f\n",
      "V\n"
     ]
    }
   ],
   "source": [
    "\"\"\"36 WAP to check whether a character is in the vowel or not. If the vowel,print the \n",
    "next character.\"\"\"\n",
    "\n",
    "ch=\"e\"\n",
    "if ch in \"AEIOUaeiou\":\n",
    "    print(chr(ord(ch)+1))\n",
    "\n",
    "ch=\"U\"\n",
    "if ch in \"AEIOUaeiou\":\n",
    "    print(chr(ord(ch)+1))"
   ]
  },
  {
   "cell_type": "code",
   "execution_count": 137,
   "metadata": {},
   "outputs": [
    {
     "name": "stdout",
     "output_type": "stream",
     "text": [
      "d\n",
      "T\n"
     ]
    }
   ],
   "source": [
    "\"\"\" 37 WAP to check whether a character is in the not a vowel. If it's not a vowel,print \n",
    "the previous character.\"\"\"\n",
    "\n",
    "ch=\"e\"\n",
    "if ch in \"AEIOUaeiou\":\n",
    "    print(chr(ord(ch)-1))\n",
    "\n",
    "ch=\"U\"\n",
    "if ch in \"AEIOUaeiou\":\n",
    "    print(chr(ord(ch)-1))"
   ]
  },
  {
   "cell_type": "code",
   "execution_count": 141,
   "metadata": {},
   "outputs": [
    {
     "name": "stdout",
     "output_type": "stream",
     "text": [
      "it is a single value datatype <class 'float'>\n",
      "it is a single value datatype <class 'bytes'>\n",
      "it is a single value datatype <class 'complex'>\n"
     ]
    }
   ],
   "source": [
    "\"\"\" 38 WAP to check whether a given value is a single value data type or not. If single \n",
    "value, display the given value as a single value data type.\"\"\"\n",
    "\n",
    "l1=[int,float,complex,bytes]\n",
    "n=10.23\n",
    "if type(n) in l1:\n",
    "    print(\"it is a single value datatype\",type(n))\n",
    "\n",
    "l1=[int,float,complex,bytes]\n",
    "n=b'101'\n",
    "if type(n) in l1:\n",
    "    print(\"it is a single value datatype\",type(n))\n",
    "\n",
    "l1=[int,float,complex,bytes]\n",
    "n=10.23+5j\n",
    "if type(n) in l1:\n",
    "    print(\"it is a single value datatype\",type(n))"
   ]
  },
  {
   "cell_type": "code",
   "execution_count": 144,
   "metadata": {},
   "outputs": [
    {
     "name": "stdout",
     "output_type": "stream",
     "text": [
      "it is multi value dt <class 'list'>\n",
      "it is multi value dt (1, 2, 3)\n",
      "it is multi value dt ((1, 2),)\n"
     ]
    }
   ],
   "source": [
    "\"\"\" 39 WAP to check whether a given value is a multi-value data type or not. If multi \n",
    "value, store the given value inside the tuple and display it.\"\"\"\n",
    "\n",
    "l1=[list,tuple,set,dict,str]\n",
    "a=[1,2,3]\n",
    "if type(a) in l1:\n",
    "    print(\"it is multi value dt\",type(a))\n",
    "\n",
    "l1=[list,tuple,set,dict,str]\n",
    "a={1,2,3}\n",
    "if type(a) in l1:\n",
    "    print(\"it is multi value dt\",tuple(a))\n",
    "  \n",
    "l1=[list,tuple,set,dict,str]\n",
    "a={(1,2):3}\n",
    "if type(a) in l1:\n",
    "    print(\"it is multi value dt\",tuple(a))"
   ]
  },
  {
   "cell_type": "code",
   "execution_count": 147,
   "metadata": {},
   "outputs": [
    {
     "name": "stdout",
     "output_type": "stream",
     "text": [
      "{'t', 'r', 's'}\n"
     ]
    }
   ],
   "source": [
    "\"\"\"40 WAP to check whether a given value is an immutable data type or not. If an \n",
    "immutable data type value, store the given value inside the set and display it.\"\"\"\n",
    "\n",
    "l1=[str,tuple]\n",
    "a=\"str\"\n",
    "if type(a) in l1:\n",
    "    print(set(a))\n"
   ]
  },
  {
   "cell_type": "code",
   "execution_count": 155,
   "metadata": {},
   "outputs": [
    {
     "ename": "TypeError",
     "evalue": "unsupported operand type(s) for //: 'list' and 'int'",
     "output_type": "error",
     "traceback": [
      "\u001b[1;31m---------------------------------------------------------------------------\u001b[0m",
      "\u001b[1;31mTypeError\u001b[0m                                 Traceback (most recent call last)",
      "Cell \u001b[1;32mIn[155], line 5\u001b[0m\n\u001b[0;32m      1\u001b[0m \u001b[39m\"\"\" 41 WAP to check whether the middle element of a given list is odd or not. If it is odd \u001b[39;00m\n\u001b[0;32m      2\u001b[0m \u001b[39mthen print odd then print the number else directly print the number \"\"\"\u001b[39;00m\n\u001b[0;32m      4\u001b[0m l1\u001b[39m=\u001b[39m[\u001b[39m1\u001b[39m,\u001b[39m2\u001b[39m,\u001b[39m3\u001b[39m,\u001b[39m4\u001b[39m,\u001b[39m5\u001b[39m]\n\u001b[1;32m----> 5\u001b[0m \u001b[39mprint\u001b[39m(\u001b[39mlen\u001b[39m(l1\u001b[39m/\u001b[39;49m\u001b[39m/\u001b[39;49m\u001b[39m2\u001b[39;49m))\n",
      "\u001b[1;31mTypeError\u001b[0m: unsupported operand type(s) for //: 'list' and 'int'"
     ]
    }
   ],
   "source": [
    "\"\"\" 41 WAP to check whether the middle element of a given list is odd or not. If it is odd \n",
    "then print odd then print the number else directly print the number \"\"\"\n",
    "\n",
    "l1=[1,2,3,4,5]\n",
    "print(len(l1//2))\n"
   ]
  },
  {
   "cell_type": "code",
   "execution_count": null,
   "metadata": {},
   "outputs": [],
   "source": [
    "\"\"\" 42 WAP Return a new string with \"not\" prefixed to the front of the original string. \n",
    "Return the string unmodified if the string already has the word \"not\" at the \n",
    "beginning.\"\"\"\n",
    "\n",
    "s=\"string\"\n"
   ]
  },
  {
   "cell_type": "code",
   "execution_count": null,
   "metadata": {},
   "outputs": [],
   "source": []
  },
  {
   "cell_type": "code",
   "execution_count": null,
   "metadata": {},
   "outputs": [],
   "source": []
  },
  {
   "cell_type": "code",
   "execution_count": null,
   "metadata": {},
   "outputs": [],
   "source": []
  },
  {
   "cell_type": "code",
   "execution_count": null,
   "metadata": {},
   "outputs": [],
   "source": []
  },
  {
   "cell_type": "code",
   "execution_count": null,
   "metadata": {},
   "outputs": [],
   "source": []
  },
  {
   "cell_type": "code",
   "execution_count": null,
   "metadata": {},
   "outputs": [],
   "source": []
  },
  {
   "cell_type": "code",
   "execution_count": null,
   "metadata": {},
   "outputs": [],
   "source": []
  }
 ],
 "metadata": {
  "kernelspec": {
   "display_name": "Python 3",
   "language": "python",
   "name": "python3"
  },
  "language_info": {
   "codemirror_mode": {
    "name": "ipython",
    "version": 3
   },
   "file_extension": ".py",
   "mimetype": "text/x-python",
   "name": "python",
   "nbconvert_exporter": "python",
   "pygments_lexer": "ipython3",
   "version": "3.8.2"
  },
  "orig_nbformat": 4
 },
 "nbformat": 4,
 "nbformat_minor": 2
}
