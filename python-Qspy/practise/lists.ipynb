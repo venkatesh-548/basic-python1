{
 "cells": [
  {
   "cell_type": "code",
   "execution_count": 16,
   "metadata": {},
   "outputs": [
    {
     "name": "stdout",
     "output_type": "stream",
     "text": [
      "10\n",
      "100\n"
     ]
    }
   ],
   "source": [
    "#1 Find Largest element in an array using Python\n",
    "\n",
    "a =[10,23,45,98,23,34,100]\n",
    "def large(l):\n",
    "    lar=l[0]\n",
    "    small=l[0]\n",
    "    for i in range(len(l)):\n",
    "        if lar < l[i]:\n",
    "            lar=l[i]\n",
    "        if small>l[i]:\n",
    "            small=l[i]\n",
    "    print(small)\n",
    "    print(lar)\n",
    "large(a)"
   ]
  },
  {
   "cell_type": "code",
   "execution_count": 18,
   "metadata": {},
   "outputs": [
    {
     "name": "stdout",
     "output_type": "stream",
     "text": [
      "98\n"
     ]
    }
   ],
   "source": [
    "# Find Second Smallest Element in an Array\n",
    "\n",
    "a =[10,23,45,98,23,34,100]\n",
    "def lar(l):\n",
    "    l1=sorted(l)\n",
    "    del l1[-1]\n",
    "    print(l1[-1])\n",
    "lar(a)\n",
    "\n"
   ]
  },
  {
   "cell_type": "code",
   "execution_count": 19,
   "metadata": {},
   "outputs": [
    {
     "data": {
      "text/plain": [
       "256"
      ]
     },
     "execution_count": 19,
     "metadata": {},
     "output_type": "execute_result"
    }
   ],
   "source": [
    "# Calculate the sum of elements in an array \n",
    "arr = [10, 89, 9, 56, 4, 80, 8]\n",
    "def sum(l):\n",
    "    sum=0\n",
    "    for i in l:\n",
    "        sum+=i\n",
    "    return sum\n",
    "sum(arr)\n"
   ]
  },
  {
   "cell_type": "code",
   "execution_count": null,
   "metadata": {},
   "outputs": [],
   "source": [
    "# Sort first half in ascending order and second half in descending\n",
    "\n",
    "arr = [10, 89, 9, 56, 4, 80, 8]\n",
    "def sort(l):\n",
    "    for i in range(0,len(l)/2):\n",
    "        "
   ]
  },
  {
   "cell_type": "code",
   "execution_count": 15,
   "metadata": {},
   "outputs": [
    {
     "name": "stdout",
     "output_type": "stream",
     "text": [
      "{30: 3, 10: 4, 20: 2}\n",
      "[(10, 4), (20, 2), (30, 3)]\n",
      "30\n",
      "10\n",
      "20\n"
     ]
    }
   ],
   "source": [
    "# Finding the frequency of elements in an array\n",
    "\n",
    "l=[30,10, 30, 10, 20, 10, 20, 30, 10]\n",
    "d={}\n",
    "for i in l:\n",
    "    if i not in d:\n",
    "        d[i]=1\n",
    "    else:\n",
    "        d[i]+=1\n",
    "print(d)\n",
    "l2=sorted(d.items())\n",
    "print(l2)\n",
    "\n",
    "# for i in d:\n",
    "\n",
    "#     print(f'{i} : {d[i]}')\n",
    "for k in l2:\n",
    "    m1=1\n",
    "    for m in k:\n",
    "        m1*=m\n",
    "    \n",
    "\n",
    "    \n",
    "\n"
   ]
  },
  {
   "cell_type": "code",
   "execution_count": 1,
   "metadata": {},
   "outputs": [
    {
     "name": "stdout",
     "output_type": "stream",
     "text": [
      "ijkl mnop abcd efgh "
     ]
    }
   ],
   "source": [
    "\n",
    "st=\"abcd efgh ijkl mnop\"\n",
    "l=st.split()\n",
    "for i in range(len(l)):\n",
    "    print(l[i-2],end=\" \")"
   ]
  },
  {
   "cell_type": "code",
   "execution_count": 3,
   "metadata": {},
   "outputs": [
    {
     "name": "stdout",
     "output_type": "stream",
     "text": [
      "spdmcnf frmjfnf esnd adfnjr emdfnjf rokxcnf "
     ]
    }
   ],
   "source": [
    "def fun(le,st,step):\n",
    "    l=st.split()\n",
    "    for i in range(len(l)):\n",
    "        print(l[i-step],end=\" \")\n",
    "le=19\n",
    "st=\"adfnjr emdfnjf rokxcnf spdmcnf frmjfnf esnd\"\n",
    "step=int(input())\n",
    "fun(le,st,step)"
   ]
  },
  {
   "cell_type": "code",
   "execution_count": 6,
   "metadata": {},
   "outputs": [
    {
     "data": {
      "text/plain": [
       "1"
      ]
     },
     "execution_count": 6,
     "metadata": {},
     "output_type": "execute_result"
    }
   ],
   "source": [
    "def perf(n):\n",
    "    i=1\n",
    "    sum=0\n",
    "    while i<n:\n",
    "        if n%i==0:\n",
    "            sum+=i\n",
    "        i+=1\n",
    "    if sum==n:\n",
    "        return 1\n",
    "    else:\n",
    "        return sum\n",
    "perf(28)"
   ]
  },
  {
   "cell_type": "code",
   "execution_count": 9,
   "metadata": {},
   "outputs": [
    {
     "data": {
      "text/plain": [
       "0"
      ]
     },
     "execution_count": 9,
     "metadata": {},
     "output_type": "execute_result"
    }
   ],
   "source": [
    "def fun(st):\n",
    "    if st==st[::-1]:\n",
    "        return 0\n",
    "    else:\n",
    "        return len(st)-1\n",
    "fun(\"abba\")"
   ]
  },
  {
   "cell_type": "code",
   "execution_count": 13,
   "metadata": {},
   "outputs": [
    {
     "name": "stdout",
     "output_type": "stream",
     "text": [
      "THIS\n",
      "IS\n",
      "A\n",
      "TEST\n"
     ]
    }
   ],
   "source": [
    "st=\"thisIsATest\"\n",
    "res=\"\"\n",
    "for i in range(0,len(st)): \n",
    "    if \"A\"<=st[i]<=\"Z\":\n",
    "        print(res.upper())\n",
    "        res=st[i]\n",
    "    else:\n",
    "        res+=st[i]\n",
    "print(res.upper())"
   ]
  },
  {
   "cell_type": "code",
   "execution_count": 11,
   "metadata": {},
   "outputs": [
    {
     "name": "stdout",
     "output_type": "stream",
     "text": [
      "THIS\n",
      "IS\n",
      "A\n",
      "TEST\n"
     ]
    }
   ],
   "source": [
    "#swapcase code\n",
    "st=\"thisIsATest\"\n",
    "def swap(st):\n",
    "    res=\"\"\n",
    "    for i in range(0,len(st)):\n",
    "        if \"A\"<=st[i]<=\"Z\":\n",
    "            print(res.upper())\n",
    "            res=st[i]\n",
    "        else:\n",
    "            res+=st[i]\n",
    "    print(res.upper())\n",
    "swap(st) "
   ]
  },
  {
   "cell_type": "code",
   "execution_count": 34,
   "metadata": {},
   "outputs": [
    {
     "name": "stdout",
     "output_type": "stream",
     "text": [
      "BDF\n",
      "ACE\n"
     ]
    }
   ],
   "source": [
    "def fun(st):\n",
    "    ec=\"\"\n",
    "    oc=\"\"\n",
    "    for i in range(len(st)):\n",
    "        if i%2==0:\n",
    "            ec+=st[i]\n",
    "        else:\n",
    "            oc+=st[i]\n",
    "    print(oc)\n",
    "    print(ec)\n",
    "fun(\"ABCDEF\")\n"
   ]
  },
  {
   "cell_type": "code",
   "execution_count": 39,
   "metadata": {},
   "outputs": [
    {
     "name": "stdout",
     "output_type": "stream",
     "text": [
      "30\n",
      "1\n",
      "30\n"
     ]
    }
   ],
   "source": [
    "l=[14,2,5,1,3,4,1]\n",
    "ts=sum(l)\n",
    "print(ts)\n",
    "ls=0\n",
    "for i in range(0,len(l)):\n",
    "    ts=ts-l[i]\n",
    "    if ts==ls:\n",
    "        print(i)\n",
    "    ls=ls+l[i]\n",
    "print(ls)\n",
    "        "
   ]
  },
  {
   "cell_type": "code",
   "execution_count": 37,
   "metadata": {},
   "outputs": [
    {
     "data": {
      "text/plain": [
       "3"
      ]
     },
     "execution_count": 37,
     "metadata": {},
     "output_type": "execute_result"
    }
   ],
   "source": [
    "#equilibrium\n",
    "\n",
    "def fun(arr):\n",
    "    ts=sum(arr)\n",
    "    ls=0\n",
    "    for i in range(0,len(arr)):\n",
    "        ts=ts-arr[i]\n",
    "        if ts==ls:\n",
    "            return i\n",
    "        ls+=arr[i]\n",
    "    return -1\n",
    "arr=list(map(int,input().split()))\n",
    "fun(arr)"
   ]
  },
  {
   "cell_type": "code",
   "execution_count": 49,
   "metadata": {},
   "outputs": [
    {
     "name": "stdout",
     "output_type": "stream",
     "text": [
      "[1, 2, 3, 4, 5, 6, 7, 8, 9]\n"
     ]
    }
   ],
   "source": [
    "arr=[[3,2,1],[9,5,7],[4,8,6]]\n",
    "l1=[]\n",
    "\n",
    "for i in arr:\n",
    "    for j in i:\n",
    "        l1+=[j]\n",
    "print(sorted(l1))"
   ]
  },
  {
   "cell_type": "code",
   "execution_count": 70,
   "metadata": {},
   "outputs": [
    {
     "data": {
      "text/plain": [
       "5"
      ]
     },
     "execution_count": 70,
     "metadata": {},
     "output_type": "execute_result"
    }
   ],
   "source": [
    "# chocolate distribution\n",
    "from itertools import permutations\n",
    "comb=list(permutations([1,2,3,4,5,6,7,8,9,10,11,12],2))\n",
    "def dist(comb):\n",
    "    count=0\n",
    "    for i in comb:\n",
    "        if i[0]>i[1]:\n",
    "            if sum(i)==12:\n",
    "                count+=1\n",
    "    return count\n",
    "dist(comb)"
   ]
  },
  {
   "cell_type": "code",
   "execution_count": 1,
   "metadata": {},
   "outputs": [
    {
     "name": "stdout",
     "output_type": "stream",
     "text": [
      "(7, 5)\n",
      "(8, 4)\n",
      "(9, 3)\n",
      "(10, 2)\n",
      "(11, 1)\n"
     ]
    },
    {
     "data": {
      "text/plain": [
       "5"
      ]
     },
     "execution_count": 1,
     "metadata": {},
     "output_type": "execute_result"
    }
   ],
   "source": [
    "from itertools import permutations\n",
    "arr=[1,2,3,4,5,6,7,8,9,10,11,12]\n",
    "perm=list(permutations(arr,2))\n",
    "# print(perm)\n",
    "def dist(perm):\n",
    "    count=0\n",
    "    for i in perm:\n",
    "        if i[0]>i[1]:\n",
    "            if sum(i)==12:\n",
    "                count+=1\n",
    "                print(i)\n",
    "    return count\n",
    "dist(perm)"
   ]
  },
  {
   "cell_type": "code",
   "execution_count": null,
   "metadata": {},
   "outputs": [],
   "source": []
  },
  {
   "cell_type": "code",
   "execution_count": null,
   "metadata": {},
   "outputs": [],
   "source": []
  },
  {
   "cell_type": "code",
   "execution_count": null,
   "metadata": {},
   "outputs": [],
   "source": []
  },
  {
   "cell_type": "code",
   "execution_count": null,
   "metadata": {},
   "outputs": [],
   "source": []
  },
  {
   "cell_type": "code",
   "execution_count": null,
   "metadata": {},
   "outputs": [],
   "source": []
  }
 ],
 "metadata": {
  "kernelspec": {
   "display_name": "Python 3",
   "language": "python",
   "name": "python3"
  },
  "language_info": {
   "codemirror_mode": {
    "name": "ipython",
    "version": 3
   },
   "file_extension": ".py",
   "mimetype": "text/x-python",
   "name": "python",
   "nbconvert_exporter": "python",
   "pygments_lexer": "ipython3",
   "version": "3.11.4"
  }
 },
 "nbformat": 4,
 "nbformat_minor": 2
}
