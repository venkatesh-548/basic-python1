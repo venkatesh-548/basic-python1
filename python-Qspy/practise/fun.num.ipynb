{
 "cells": [
  {
   "cell_type": "code",
   "execution_count": 10,
   "metadata": {},
   "outputs": [
    {
     "name": "stdout",
     "output_type": "stream",
     "text": [
      "abcd pqrs xy\n"
     ]
    }
   ],
   "source": [
    "s=\"abcdepqrstxyz\"\n",
    "res=\"\"\n",
    "l=\"\"\n",
    "for i in range(0,len(s)-1):\n",
    "    if ord(s[i])==ord(s[i+1])-1:\n",
    "        res+=s[i]\n",
    "    else:\n",
    "        l+=res+\" \"\n",
    "        res=\"\"\n",
    "l+=res\n",
    "print(l)\n",
    "\n"
   ]
  },
  {
   "cell_type": "code",
   "execution_count": 12,
   "metadata": {},
   "outputs": [
    {
     "data": {
      "text/plain": [
       "'armstrong'"
      ]
     },
     "execution_count": 12,
     "metadata": {},
     "output_type": "execute_result"
    }
   ],
   "source": [
    "#7 to check the given number is armstrong num or not\n",
    "\n",
    "def armstrong(num):\n",
    "    temp=num\n",
    "    l=len(str(num))\n",
    "    i=0\n",
    "    sum=0\n",
    "    while i<num:\n",
    "        ld=num%10\n",
    "        sum=sum+(ld**l)\n",
    "        num//=10\n",
    "    return [\"not armstrong\",\"armstrong\"][sum==temp]\n",
    "armstrong(153)\n"
   ]
  },
  {
   "cell_type": "code",
   "execution_count": 31,
   "metadata": {},
   "outputs": [
    {
     "name": "stdout",
     "output_type": "stream",
     "text": [
      "153 370 371 407 "
     ]
    }
   ],
   "source": [
    "def armstrser(start,end):\n",
    "    for i in range(start,end):\n",
    "        temp=i\n",
    "        l=len(str(i))\n",
    "        sum=0\n",
    "        while i>0:\n",
    "            ld=i%10\n",
    "            sum+=(ld**l)\n",
    "            i//=10\n",
    "        l1=\" \"\n",
    "        if sum==temp:\n",
    "            print(temp,end=\" \")\n",
    "armstrser(10,1000)"
   ]
  },
  {
   "cell_type": "code",
   "execution_count": 34,
   "metadata": {},
   "outputs": [
    {
     "data": {
      "text/plain": [
       "'palindrome'"
      ]
     },
     "execution_count": 34,
     "metadata": {},
     "output_type": "execute_result"
    }
   ],
   "source": [
    "def palin(num):\n",
    "    rev=0\n",
    "    temp=num\n",
    "    while num>0:\n",
    "        ld=num%10\n",
    "        rev=(rev*10)+ld\n",
    "        num//=10\n",
    "    return [\"not palindrome\",\"palindrome\"][temp==rev]\n",
    "palin(12321)"
   ]
  },
  {
   "cell_type": "code",
   "execution_count": 7,
   "metadata": {},
   "outputs": [
    {
     "name": "stdout",
     "output_type": "stream",
     "text": [
      "1\n",
      "2\n",
      "6\n",
      "24\n",
      "120\n",
      "720\n",
      "5040\n",
      "40320\n",
      "362880\n"
     ]
    }
   ],
   "source": [
    "def fun(start,end):\n",
    "    for i in range(start,end):\n",
    "        num=i\n",
    "        def factorial(num):\n",
    "            fact=1\n",
    "            for i in range(1,num+1):\n",
    "                fact*=i\n",
    "            return fact\n",
    "        res=factorial(num)\n",
    "        print(res)\n",
    "fun(1,10)"
   ]
  },
  {
   "cell_type": "code",
   "execution_count": 9,
   "metadata": {},
   "outputs": [
    {
     "data": {
      "text/plain": [
       "'prime'"
      ]
     },
     "execution_count": 9,
     "metadata": {},
     "output_type": "execute_result"
    }
   ],
   "source": [
    "def prime(num):\n",
    "    i=2\n",
    "    count=0\n",
    "    while i<num:\n",
    "        if num%i==0:\n",
    "            count+=1\n",
    "        i+=1\n",
    "    return [\"not prime\",\"prime\"][count==0]\n",
    "prime(7)"
   ]
  },
  {
   "cell_type": "code",
   "execution_count": 11,
   "metadata": {},
   "outputs": [
    {
     "name": "stdout",
     "output_type": "stream",
     "text": [
      "11\n",
      "13\n",
      "17\n",
      "19\n",
      "23\n",
      "29\n",
      "31\n",
      "37\n",
      "41\n",
      "43\n",
      "47\n",
      "53\n",
      "59\n",
      "61\n",
      "67\n",
      "71\n",
      "73\n",
      "79\n",
      "83\n",
      "89\n",
      "97\n"
     ]
    }
   ],
   "source": [
    "def fun(start,end):\n",
    "    for j in range(start,end):\n",
    "        num=j\n",
    "        def prime(num):\n",
    "            i=2\n",
    "            count=0\n",
    "            while i<num:\n",
    "                if num%i==0:\n",
    "                    count+=1\n",
    "                i+=1\n",
    "            if count==0:\n",
    "                print(num)\n",
    "        prime(num)\n",
    "fun(10,100)"
   ]
  },
  {
   "cell_type": "code",
   "execution_count": 12,
   "metadata": {},
   "outputs": [
    {
     "data": {
      "text/plain": [
       "45"
      ]
     },
     "execution_count": 12,
     "metadata": {},
     "output_type": "execute_result"
    }
   ],
   "source": [
    "def sum(start,end):\n",
    "    sum=0\n",
    "    for i in range(start,end):\n",
    "        sum+=i\n",
    "    return sum\n",
    "sum(1,10)\n"
   ]
  },
  {
   "cell_type": "code",
   "execution_count": 14,
   "metadata": {},
   "outputs": [
    {
     "name": "stdout",
     "output_type": "stream",
     "text": [
      "0 1 1 2 3 5 8 13 21 34 55 89 144 "
     ]
    }
   ],
   "source": [
    "n1=0\n",
    "n2=1\n",
    "print(n1,n2,end=\" \")\n",
    "n=10\n",
    "i=0\n",
    "while i<=n:\n",
    "    n3=n1+n2\n",
    "    n1=n2\n",
    "    n2=n3\n",
    "    print(n3,end=\" \")\n",
    "    i+=1\n",
    "\n"
   ]
  },
  {
   "cell_type": "code",
   "execution_count": 20,
   "metadata": {},
   "outputs": [
    {
     "name": "stdout",
     "output_type": "stream",
     "text": [
      "14\n",
      "1\n",
      "6\n"
     ]
    }
   ],
   "source": [
    "def perfect(num):\n",
    "    i=1\n",
    "    nu=num\n",
    "    sum=0\n",
    "    while i<num:\n",
    "        if num%i==0:\n",
    "            sum+=i\n",
    "        i+=1\n",
    "    if sum==nu:\n",
    "        print(\"1\")\n",
    "    else:\n",
    "        print(sum)\n",
    "        \n",
    "perfect(22)\n",
    "perfect(6)\n"
   ]
  },
  {
   "cell_type": "code",
   "execution_count": 26,
   "metadata": {},
   "outputs": [
    {
     "name": "stdout",
     "output_type": "stream",
     "text": [
      "\n",
      "\n",
      "\n"
     ]
    }
   ],
   "source": [
    "str=\"abcd efgh ijkl mnop\"\n",
    "l=len(str)\n",
    "for i in str:\n",
    "    # print(i)\n",
    "    res=\"\"\n",
    "    if i!=\" \":\n",
    "        res=i\n",
    "    else:\n",
    "        print(res)\n",
    "        res=\"\"\n",
    "# print(res)\n",
    "\n"
   ]
  },
  {
   "cell_type": "code",
   "execution_count": 39,
   "metadata": {},
   "outputs": [
    {
     "name": "stdout",
     "output_type": "stream",
     "text": [
      "['abcd', 'efgh', 'ijkl', 'mnop']\n",
      "ijkl mnop abcd efgh "
     ]
    }
   ],
   "source": [
    "str=\"abcd efgh ijkl mnop\"\n",
    "res=\"\"\n",
    "l=[]\n",
    "for i in str:\n",
    "    # print(i,end=\"\")\n",
    "    if i!=\" \":\n",
    "        res+=i\n",
    "    else:\n",
    "        l+=[res]\n",
    "        res=\"\"\n",
    "l+=[res]\n",
    "print(l)\n",
    "a=2\n",
    "for i in range(len(l)):\n",
    "    print(l[i-2],end=\" \")\n",
    "\n"
   ]
  },
  {
   "cell_type": "code",
   "execution_count": 4,
   "metadata": {},
   "outputs": [
    {
     "name": "stdout",
     "output_type": "stream",
     "text": [
      "['abcd', 'efgh', 'ijkl', 'mnop']\n",
      "ijkl mnop abcd efgh \n",
      "['abcd', 'efgh', 'ijkl', 'mnop']\n",
      "efgh ijkl mnop abcd \n",
      "['atgjh', 'erkfjg', 'ropedm', 'splendoue', 'famrrdj', 'esdt']\n",
      "splendoue famrrdj esdt atgjh erkfjg ropedm "
     ]
    }
   ],
   "source": [
    "def sample(str,num):\n",
    "    l1=len(str)\n",
    "    res=\"\"\n",
    "    l=[]\n",
    "    for i in str:\n",
    "        if i!=\" \":\n",
    "            res+=i\n",
    "        else:\n",
    "            l+=[res]\n",
    "            res=\"\"\n",
    "    l+=[res]\n",
    "    print(l)\n",
    "    for i in range(len(l)):\n",
    "        print(l[i-num],end=\" \")\n",
    "sample(\"abcd efgh ijkl mnop\",2)\n",
    "print()\n",
    "sample(\"abcd efgh ijkl mnop\",3)\n",
    "print()\n",
    "sample(\"atgjh erkfjg ropedm splendoue famrrdj esdt\",3)"
   ]
  },
  {
   "cell_type": "code",
   "execution_count": 3,
   "metadata": {},
   "outputs": [
    {
     "name": "stdout",
     "output_type": "stream",
     "text": [
      "['a', 'b', 'e', 'i', 'c', 'd', 'o']\n",
      "a 4\n"
     ]
    }
   ],
   "source": [
    "str=\"abeaicaidao\"\n",
    "d={}\n",
    "for i in str:\n",
    "    if i not in d:\n",
    "        d[i]=1\n",
    "    else:\n",
    "        d[i]+=1\n",
    "l=list(d)\n",
    "print(l)\n",
    "max=0\n",
    "ch=\"\"\n",
    "for i in range(0,len(l)):\n",
    "    if d[l[i]]>max:\n",
    "        max=d[l[i]]\n",
    "        ch=l[i]\n",
    "print(ch,max)"
   ]
  },
  {
   "cell_type": "code",
   "execution_count": 10,
   "metadata": {},
   "outputs": [
    {
     "name": "stdout",
     "output_type": "stream",
     "text": [
      "{1: 1, 2: 4, 3: 9, 4: 16, 5: 25, 6: 36, 7: 49, 8: 64, 9: 81, 10: 100, 11: 121, 12: 144, 13: 169, 14: 196, 15: 225, 16: 256, 17: 289, 18: 324, 19: 361}\n"
     ]
    }
   ],
   "source": [
    "#Wap to find the the power of the num\n",
    "\n",
    "def power(start,end):\n",
    "    d={}\n",
    "    for i in range(start,end):\n",
    "        # print(i,pow(i,2))\n",
    "        d[i]=pow(i,2)\n",
    "    print(d)\n",
    "power(1,20)"
   ]
  },
  {
   "cell_type": "code",
   "execution_count": 12,
   "metadata": {},
   "outputs": [
    {
     "data": {
      "text/plain": [
       "'not perfect'"
      ]
     },
     "execution_count": 12,
     "metadata": {},
     "output_type": "execute_result"
    }
   ],
   "source": [
    "#wap to check the number is perfect or not\n",
    "\n",
    "def perfect(num):\n",
    "    i=1\n",
    "    temp=num\n",
    "    sum=0\n",
    "    while i<num:\n",
    "        if num%i==0:\n",
    "            sum+=i\n",
    "        i+=1\n",
    "    return [\"not perfect\",\"perfect\"][temp==sum]\n",
    "perfect(28)\n",
    "perfect(8)\n"
   ]
  },
  {
   "cell_type": "code",
   "execution_count": 27,
   "metadata": {},
   "outputs": [
    {
     "name": "stdout",
     "output_type": "stream",
     "text": [
      "6\n",
      "28\n",
      "496\n"
     ]
    }
   ],
   "source": [
    "def perfran(start,end):\n",
    "    for i in range(start,end):\n",
    "        num=i\n",
    "        def perfect(num):\n",
    "            temp=num\n",
    "            sum=0\n",
    "            i=1\n",
    "            while i<num:\n",
    "                if num%i==0:\n",
    "                    sum+=i\n",
    "                i+=1\n",
    "            if sum==temp:\n",
    "                print(temp)\n",
    "        perfect(num)\n",
    "perfran(1,1000)"
   ]
  },
  {
   "cell_type": "code",
   "execution_count": 31,
   "metadata": {},
   "outputs": [
    {
     "name": "stdout",
     "output_type": "stream",
     "text": [
      "2\n"
     ]
    }
   ],
   "source": [
    "s1=\"ABCDCDC\"\n",
    "s2=\"CDC\"\n",
    "def fun(s1,s2):\n",
    "    count=0\n",
    "    for i in range(0,len(s1)):\n",
    "        for j in range(0,len(s2)):\n",
    "            if (s1[i]==s2[j] and s1[i-1]==s2[j-1]) and s1[i-2]==s2[j-2]:\n",
    "                count+=1\n",
    "    print(count)\n",
    "fun(s1,s2)\n",
    "\n"
   ]
  },
  {
   "cell_type": "code",
   "execution_count": 3,
   "metadata": {},
   "outputs": [
    {
     "name": "stdout",
     "output_type": "stream",
     "text": [
      "22\n"
     ]
    }
   ],
   "source": [
    "h=1.65\n",
    "w=60\n",
    "bmi=w/(h**2)\n",
    "print(round(bmi))"
   ]
  },
  {
   "cell_type": "code",
   "execution_count": 3,
   "metadata": {},
   "outputs": [
    {
     "data": {
      "text/plain": [
       "'not strong'"
      ]
     },
     "execution_count": 3,
     "metadata": {},
     "output_type": "execute_result"
    }
   ],
   "source": [
    "#strong number\n",
    "\n",
    "def strong(num):\n",
    "    temp=num\n",
    "    sum=0\n",
    "    while num>0:\n",
    "        ld=num%10\n",
    "        i=1\n",
    "        fact=1\n",
    "        while i<=ld:\n",
    "            fact*=i\n",
    "            i+=1\n",
    "        sum+=fact\n",
    "        num//=10\n",
    "    return [\"not strong\",\"strong\"][temp==sum]\n",
    "strong(14)\n",
    "\n",
    "\n"
   ]
  },
  {
   "cell_type": "code",
   "execution_count": 9,
   "metadata": {},
   "outputs": [
    {
     "name": "stdout",
     "output_type": "stream",
     "text": [
      "145\n"
     ]
    }
   ],
   "source": [
    "def strrange(start,end):\n",
    "    for n in range(start,end):\n",
    "        def strong(n):\n",
    "            temp=n\n",
    "            sum=0\n",
    "            while n>0:\n",
    "                ld=n%10\n",
    "                fact=1\n",
    "                i=1\n",
    "                while i<=ld:\n",
    "                    fact*=i\n",
    "                    i+=1\n",
    "                sum+=fact\n",
    "                n//=10\n",
    "            if sum==temp:\n",
    "                print(temp)\n",
    "        strong(n)\n",
    "strrange(10,2000)"
   ]
  },
  {
   "cell_type": "code",
   "execution_count": 14,
   "metadata": {},
   "outputs": [
    {
     "name": "stdout",
     "output_type": "stream",
     "text": [
      "22 123 132 213 231 312 321 "
     ]
    }
   ],
   "source": [
    "def ran(start,end):\n",
    "    for num in range(start,end):\n",
    "        def spy(num):\n",
    "            sum=0\n",
    "            temp=num\n",
    "            fact=1\n",
    "            i=0\n",
    "            while i<num:\n",
    "                ld=num%10\n",
    "                sum+=ld\n",
    "                fact*=ld\n",
    "                num//=10\n",
    "            if sum==fact:\n",
    "                print(temp,end=\" \")\n",
    "        spy(num)\n",
    "ran(10,1000)"
   ]
  },
  {
   "cell_type": "code",
   "execution_count": 29,
   "metadata": {},
   "outputs": [
    {
     "name": "stdout",
     "output_type": "stream",
     "text": [
      "4\n"
     ]
    }
   ],
   "source": [
    "#wap to print the middle char of the given SyntaxWarning\n",
    "import math\n",
    "num=543\n",
    "s=str(num)\n",
    "l1=len(s)\n",
    "if l1%2==0:\n",
    "    l=int((l1/2)-1)\n",
    "else:\n",
    "    l=math.floor(l1/2)\n",
    "print(int(str(s[l])))\n"
   ]
  },
  {
   "cell_type": "code",
   "execution_count": 32,
   "metadata": {},
   "outputs": [
    {
     "name": "stdout",
     "output_type": "stream",
     "text": [
      "4\n"
     ]
    }
   ],
   "source": [
    "def middle(num):\n",
    "    count=0\n",
    "    temp=num\n",
    "    while num>0:\n",
    "        ld=num%10\n",
    "        count+=1\n",
    "        num//=10\n",
    "    l=count//2\n",
    "    while l:\n",
    "        temp=temp//10\n",
    "        l-=1\n",
    "    print(temp%10)\n",
    "middle(1234567)"
   ]
  },
  {
   "cell_type": "code",
   "execution_count": 5,
   "metadata": {},
   "outputs": [
    {
     "name": "stdout",
     "output_type": "stream",
     "text": [
      "['this', 'is', 'a', 'string']\n",
      "this-is-a-string-\n"
     ]
    }
   ],
   "source": [
    "s=\"this is a string\"\n",
    "res=\"\"\n",
    "l=[]\n",
    "for i in s:\n",
    "    if i!=\" \":\n",
    "        res+=i\n",
    "    else:\n",
    "        l+=[res]\n",
    "        res=\"\"\n",
    "l+=[res]\n",
    "print(l)\n",
    "temp=\"\"\n",
    "for i in range(len(l)):\n",
    "    temp+=l[i]+\"-\"\n",
    "print(temp)\n"
   ]
  },
  {
   "cell_type": "code",
   "execution_count": 6,
   "metadata": {},
   "outputs": [
    {
     "name": "stdout",
     "output_type": "stream",
     "text": [
      "hello taddi venky! \n"
     ]
    }
   ],
   "source": [
    "first=\"taddi\"\n",
    "last=\"venky\"\n",
    "print(f\"hello {first} {last}! \")"
   ]
  },
  {
   "cell_type": "code",
   "execution_count": 19,
   "metadata": {},
   "outputs": [
    {
     "name": "stdout",
     "output_type": "stream",
     "text": [
      "132 456 Wq  M E\n"
     ]
    }
   ],
   "source": [
    "s=\"132 456 Wq  m e\"\n",
    "res=\"\"\n",
    "if s[0].islower():\n",
    "    res+=s[0].upper()\n",
    "else:\n",
    "    res+=s[0]\n",
    "for i in range(1,len(s)):\n",
    "    if (\"a\"<=s[i]<=\"z\" or \"A\"<=s[i]<=\"Z\") and s[i-1]==\" \":\n",
    "        res+=s[i].upper()\n",
    "    elif s[i].isupper():\n",
    "        res+=s[i].lower()\n",
    "    else:\n",
    "        res+=s[i]\n",
    "print(res)\n"
   ]
  },
  {
   "cell_type": "code",
   "execution_count": 23,
   "metadata": {},
   "outputs": [
    {
     "name": "stdout",
     "output_type": "stream",
     "text": [
      "1 0o1 0x1 0b1\n",
      "2 0o2 0x2 0b10\n",
      "3 0o3 0x3 0b11\n",
      "4 0o4 0x4 0b100\n",
      "5 0o5 0x5 0b101\n",
      "6 0o6 0x6 0b110\n",
      "7 0o7 0x7 0b111\n",
      "8 0o10 0x8 0b1000\n",
      "9 0o11 0x9 0b1001\n",
      "10 0o12 0xa 0b1010\n",
      "11 0o13 0xb 0b1011\n",
      "12 0o14 0xc 0b1100\n",
      "13 0o15 0xd 0b1101\n",
      "14 0o16 0xe 0b1110\n",
      "15 0o17 0xf 0b1111\n",
      "16 0o20 0x10 0b10000\n",
      "17 0o21 0x11 0b10001\n"
     ]
    }
   ],
   "source": [
    "def print_formatted(number):\n",
    "    # your code goes here\n",
    "    for i in range(1,number+1):\n",
    "        print(int(i),(oct(i)),hex(i),bin(i))\n",
    "print_formatted(17)"
   ]
  },
  {
   "cell_type": "code",
   "execution_count": 19,
   "metadata": {},
   "outputs": [
    {
     "name": "stdout",
     "output_type": "stream",
     "text": [
      "ABCDE\n",
      "FGHI\n",
      "JKLI\n",
      "MNOQ\n",
      "RSTU\n",
      "VWXY\n",
      "Z\n"
     ]
    }
   ],
   "source": [
    "s=\"ABCDEFGHIJKLIMNOQRSTUVWXYZ\"\n",
    "w=4\n",
    "res=s[0]\n",
    "for i in range(1,len(s)-1):\n",
    "    if len(res)==1:\n",
    "        \n",
    "    if i%4!=0:\n",
    "        # print(\"kl\")\n",
    "        res+=s[i]\n",
    "    else:\n",
    "        res+=s[i]\n",
    "        print(res)\n",
    "        res=\"\"\n",
    "res+=s[i+1]\n",
    "print(res)"
   ]
  },
  {
   "cell_type": "code",
   "execution_count": 4,
   "metadata": {},
   "outputs": [
    {
     "name": "stdout",
     "output_type": "stream",
     "text": [
      "abcjk\n",
      "def\n",
      "klmno\n",
      "pqrstuv\n"
     ]
    }
   ],
   "source": [
    "#wap to extarct the sequence ordered char\n",
    "\n",
    "st=\"abcjkdhfkh defkjdv klmnohdb pqrstuv\"\n",
    "res=\"\"\n",
    "for i in range(0,len(st)):\n",
    "    if i!=len(st)-1 and ord(st[i])+1==ord(st[i+1]):\n",
    "        res+=st[i]\n",
    "    elif ord(st[i-1])==ord(st[i])-1:\n",
    "        res+=st[i]\n",
    "    else:\n",
    "        if len(res)>=3:\n",
    "            print(res)\n",
    "        res=\"\"\n",
    "print(res)\n",
    "        \n"
   ]
  },
  {
   "cell_type": "code",
   "execution_count": 9,
   "metadata": {},
   "outputs": [
    {
     "name": "stdout",
     "output_type": "stream",
     "text": [
      "['@gmail.com', '@ymail.com', '@py.com', '@outlook.com']\n"
     ]
    }
   ],
   "source": [
    "st='qspider@gmail.com  pyspider@ymail.com jspider@py.com venky@outlook.com'\n",
    "res=\"\"\n",
    "l=[]\n",
    "for i in st:\n",
    "    if i==\"@\":\n",
    "        res=\"\"\n",
    "        res+=i\n",
    "    elif i==\" \":\n",
    "        if len(res)!=0:\n",
    "            l+=[res]\n",
    "            res=\"\"\n",
    "    else:\n",
    "        res+=i\n",
    "l+=[res]\n",
    "print(l)\n",
    "    \n"
   ]
  },
  {
   "cell_type": "code",
   "execution_count": 11,
   "metadata": {},
   "outputs": [
    {
     "name": "stdout",
     "output_type": "stream",
     "text": [
      "['hai', 'hello', 'world', 'love', 'india', 'like', 'python', 'hii']\n"
     ]
    }
   ],
   "source": [
    "st=\" hai hello world    i love india i like python hii\"\n",
    "res=\"\"\n",
    "l=[]\n",
    "for i in st:\n",
    "    if i!=\" \":\n",
    "        res+=i\n",
    "    else:\n",
    "        if len(res)>1:\n",
    "            l+=[res]\n",
    "        res=\"\"\n",
    "if len(res)>1:\n",
    "    l+=[res]\n",
    "print(l)\n",
    "d={}\n",
    "for i in range(0,len(l)):\n",
    "    if len(l[j]) not in d:\n",
    "        d[len(l[j])]\n",
    "\n",
    "\n",
    "\n"
   ]
  }
 ],
 "metadata": {
  "kernelspec": {
   "display_name": "Python 3",
   "language": "python",
   "name": "python3"
  },
  "language_info": {
   "codemirror_mode": {
    "name": "ipython",
    "version": 3
   },
   "file_extension": ".py",
   "mimetype": "text/x-python",
   "name": "python",
   "nbconvert_exporter": "python",
   "pygments_lexer": "ipython3",
   "version": "3.11.4"
  }
 },
 "nbformat": 4,
 "nbformat_minor": 2
}
