{
 "cells": [
  {
   "cell_type": "code",
   "execution_count": 2,
   "metadata": {},
   "outputs": [
    {
     "name": "stdout",
     "output_type": "stream",
     "text": [
      "negative -101\n"
     ]
    }
   ],
   "source": [
    "\"\"\"wap to check wheather given val is positive or negative\"\"\"\n",
    "\n",
    "n=int(input(\"enter number:\"))\n",
    "if n>=0:\n",
    "    print(\"positive\",n)\n",
    "else:\n",
    "    print(\"negative\",n)"
   ]
  },
  {
   "cell_type": "code",
   "execution_count": 4,
   "metadata": {},
   "outputs": [
    {
     "name": "stdout",
     "output_type": "stream",
     "text": [
      "even 144\n"
     ]
    }
   ],
   "source": [
    "\"\"\" to check even or odd\"\"\"\n",
    "\n",
    "\"\"\"wap to check wheather given val is positive or negative\"\"\"\n",
    "\n",
    "n=int(input(\"enter number:\"))\n",
    "if n%2==0:\n",
    "    print(\"even\",n**2)\n",
    "else:\n",
    "    print(\"odd\",n**3)"
   ]
  },
  {
   "cell_type": "code",
   "execution_count": 11,
   "metadata": {},
   "outputs": [
    {
     "name": "stdout",
     "output_type": "stream",
     "text": [
      "{20, 100, 200, 10, 30}\n",
      "{10, 20, (100, 200, 30)}\n"
     ]
    }
   ],
   "source": [
    "\"\"\" wap to check wheather given val is multival dt or not, if it is multival dt store it in set\"\"\"\n",
    "\n",
    "s={10,20}\n",
    "a=(100,200,30)\n",
    "if type(a) in [tuple,str]:\n",
    "    s|=set(a)\n",
    "    print(s)\n",
    "\n",
    "s={10,20}\n",
    "a=(100,200,30)\n",
    "if type(a) in [tuple,str]:\n",
    "    s|={a}\n",
    "    print(s)\n",
    "\n",
    "#if we take the mutable data type set will not accept the mutable datatype"
   ]
  },
  {
   "cell_type": "code",
   "execution_count": 13,
   "metadata": {},
   "outputs": [
    {
     "name": "stdout",
     "output_type": "stream",
     "text": [
      "it is palindrome\n",
      "malay\n",
      "not palindrome malayalan\n"
     ]
    }
   ],
   "source": [
    "\"\"\"wap to check wheather given string is palindrome or not\"\"\"\n",
    "\n",
    "s=\"malayalam\"\n",
    "if s[::-1]==s[::1]:\n",
    "    print(\"it is palindrome\")\n",
    "    res=s[0:(len(s)//2+1):1]\n",
    "    print(res)\n",
    "else:\n",
    "    print(\"not palindrome\",s)\n",
    "\n",
    "s=\"malayalan\"\n",
    "if s[::-1]==s[::1]:\n",
    "    print(\"it is palindrome\")\n",
    "    res=s[0:(len(s)//2+1):1]\n",
    "    print(res)\n",
    "else:\n",
    "    print(\"not palindrome\",s)\n",
    "    "
   ]
  },
  {
   "cell_type": "code",
   "execution_count": 1,
   "metadata": {},
   "outputs": [
    {
     "name": "stdout",
     "output_type": "stream",
     "text": [
      "AaBbcAB\n"
     ]
    }
   ],
   "source": [
    "\"\"\" wap to check the starting char and the middle char are in the sequence or not if sequence extract the two and append in the string \"\"\"\n",
    "\n",
    "s=\"AaBbc\"\n",
    "a=(ord(s[0])+1)\n",
    "b=(ord(s[len(s)//2]))\n",
    "if a==b:\n",
    "    s+=s[0]+s[len(s)//2]\n",
    "print(s)\n",
    "\n",
    "\n",
    "\n"
   ]
  },
  {
   "cell_type": "code",
   "execution_count": 5,
   "metadata": {},
   "outputs": [
    {
     "name": "stdout",
     "output_type": "stream",
     "text": [
      "66\n",
      "66\n",
      "AaBbcAB\n"
     ]
    }
   ],
   "source": [
    "\n",
    "s=\"AaBbc\"\n",
    "print(ord(s[0])+1)\n",
    "print(ord(s[len(s)//2]))\n",
    "\n",
    "if ord(s[0])+1==ord(s[len(s)//2]):\n",
    "    s+=s[0]+s[len(s)//2]\n",
    "    print(s)\n",
    "else:\n",
    "    print(s)"
   ]
  },
  {
   "cell_type": "code",
   "execution_count": null,
   "metadata": {},
   "outputs": [],
   "source": [
    "# to check the given number is palindrome or not\n",
    "\n",
    "n=1221\n",
    "s=str(n)\n",
    "if type(s)==str:\n",
    "    a=s[::-1]\n",
    "    "
   ]
  },
  {
   "cell_type": "code",
   "execution_count": 4,
   "metadata": {},
   "outputs": [
    {
     "name": "stdout",
     "output_type": "stream",
     "text": [
      "negative\n"
     ]
    }
   ],
   "source": [
    "#1 WAP to check whether a number is positive or negative. If Positive print positive \n",
    "#message or else print Negative Number\n",
    "\n",
    "n=int(input(\"enter number:\"))\n",
    "if n>0:\n",
    "    print(\"positive\")\n",
    "else:\n",
    "    print(\"negative\")"
   ]
  },
  {
   "cell_type": "code",
   "execution_count": 130,
   "metadata": {},
   "outputs": [
    {
     "name": "stdout",
     "output_type": "stream",
     "text": [
      "even 28\n",
      "odd 39\n"
     ]
    }
   ],
   "source": [
    "\"\"\"2 WAP to check whether a number is even or odd. If even, print message an even \n",
    "or else print message as odd.\"\"\"\n",
    "\n",
    "n=28\n",
    "if n%2==0:\n",
    "    print(\"even\",n)\n",
    "else:\n",
    "    print(\"odd\",n)\n",
    "\n",
    "n=39\n",
    "if n%2==0:\n",
    "    print(\"even\",n)\n",
    "else:\n",
    "    print(\"odd\",n)"
   ]
  },
  {
   "cell_type": "code",
   "execution_count": 153,
   "metadata": {},
   "outputs": [
    {
     "name": "stdout",
     "output_type": "stream",
     "text": [
      "greater\n",
      "9 not greater than 10\n"
     ]
    }
   ],
   "source": [
    "\"\"\"3 Write a program to check whether a given number is greater than 10 or not. if it \n",
    "is greater than 10 print message as greater or else print that number with not a \n",
    "greater than.\"\"\"\n",
    "\n",
    "n=11\n",
    "if n>10:\n",
    "    print(\"greater\")\n",
    "else:\n",
    "    print(n,\"not greater than 10\")\n",
    "\n",
    "n=9\n",
    "if n>10:\n",
    "    print(\"greater\")\n",
    "else:\n",
    "    print(n,\"is not greater than 10\")"
   ]
  },
  {
   "cell_type": "code",
   "execution_count": 176,
   "metadata": {},
   "outputs": [
    {
     "name": "stdout",
     "output_type": "stream",
     "text": [
      "good morning\n",
      "good evening\n"
     ]
    }
   ],
   "source": [
    "\"\"\"4 WAP to check whether the given two input numbers are divisible by 3 and 5. If it \n",
    "is divisible, print “Good Morning”, if it is not divisible print “Good Evening”.\"\"\"\n",
    "\n",
    "n=90\n",
    "if n%3==0 and n%5==0:\n",
    "    print(\"good morning\")\n",
    "else:\n",
    "    print(\"good evening\")\n",
    "\n",
    "n=80\n",
    "if n%3==0 and n%5==0:\n",
    "    print(\"good morning\")\n",
    "else:\n",
    "    print(\"good evening\")\n"
   ]
  },
  {
   "cell_type": "code",
   "execution_count": 222,
   "metadata": {},
   "outputs": [
    {
     "name": "stdout",
     "output_type": "stream",
     "text": [
      "900\n",
      "30 40\n"
     ]
    }
   ],
   "source": [
    "\"\"\"5 WAP to accept two integers and check whether those two values are equal or not.\n",
    "If equal, multiply to value or else to display the quotation value. \"\"\"\n",
    "\n",
    "a=30\n",
    "b=30\n",
    "if a==b:\n",
    "    res=a*b\n",
    "else:\n",
    "    res=\"30 40\"\n",
    "print(res)\n",
    "a=30\n",
    "b=40\n",
    "if a==b:\n",
    "    res=a*b\n",
    "else:\n",
    "    res=\"30 40\"\n",
    "print(res)"
   ]
  },
  {
   "cell_type": "code",
   "execution_count": 245,
   "metadata": {},
   "outputs": [
    {
     "name": "stdout",
     "output_type": "stream",
     "text": [
      "45 is greater\n"
     ]
    }
   ],
   "source": [
    "#6 WAP to find the largest of two numbers.\n",
    "\n",
    "n1=45\n",
    "n2=35\n",
    "if n1<n2:\n",
    "    print(n2,\"is greater\")\n",
    "else:\n",
    "    print(n1,\"is greater\")\n"
   ]
  },
  {
   "cell_type": "code",
   "execution_count": 268,
   "metadata": {},
   "outputs": [
    {
     "name": "stdout",
     "output_type": "stream",
     "text": [
      "greater than 10\n"
     ]
    }
   ],
   "source": [
    "\"\"\"7 WAP to check whether the input number is greater than 10 or not if it is greater \n",
    "than 10 print messages as greater with number. if it is not a greater than 10 print \n",
    "that number.\"\"\"\n",
    "\n",
    "n=11\n",
    "if n>10:\n",
    "    print(\"greater than 10\")\n",
    "else:\n",
    "    print(\"not greater than 10\")"
   ]
  },
  {
   "cell_type": "code",
   "execution_count": 317,
   "metadata": {},
   "outputs": [
    {
     "name": "stdout",
     "output_type": "stream",
     "text": [
      "63\n",
      "14\n"
     ]
    }
   ],
   "source": [
    "\"\"\"8 WAP to the given number integer, if n is greater than 21,print the absolute \n",
    "difference between n and 21 otherwise print twice the absolute difference.\"\"\"\n",
    "\n",
    "n=84\n",
    "if n>0 and n>21:\n",
    "    diff=n-21\n",
    "else:\n",
    "    diff=2*(21-n)\n",
    "print(diff)\n",
    "\n",
    "n=14\n",
    "if n>0 and n>21:\n",
    "    diff=n-21\n",
    "else:\n",
    "    diff=2*(21-n)\n",
    "print(diff)\n"
   ]
  },
  {
   "cell_type": "code",
   "execution_count": 364,
   "metadata": {},
   "outputs": [
    {
     "name": "stdout",
     "output_type": "stream",
     "text": [
      "201\n",
      "200\n"
     ]
    }
   ],
   "source": [
    "\"\"\"9 WAP to check whether the given number is even or odd. If it is even then make \n",
    "it as an add number, if it is an odd number then make it as even number.\"\"\"\n",
    "\n",
    "n=200\n",
    "if n%2==0:\n",
    "    n=n+1\n",
    "else:\n",
    "    n=n-1\n",
    "print(n)\n",
    "n=201\n",
    "if n%2==0:\n",
    "    n=n+1\n",
    "else:\n",
    "    n=n-1\n",
    "print(n)"
   ]
  },
  {
   "cell_type": "code",
   "execution_count": 387,
   "metadata": {},
   "outputs": [
    {
     "name": "stdout",
     "output_type": "stream",
     "text": [
      "35 is smaller\n"
     ]
    }
   ],
   "source": [
    "#10 WAP to find the smallest of two numbers\n",
    "\n",
    "n1=45\n",
    "n2=35\n",
    "if n1<n2:\n",
    "    print(n1,\"is smaller\")\n",
    "else:\n",
    "    print(n2,\"is smaller\")"
   ]
  },
  {
   "cell_type": "code",
   "execution_count": 388,
   "metadata": {},
   "outputs": [
    {
     "name": "stdout",
     "output_type": "stream",
     "text": [
      "number: 39\n",
      "125\n"
     ]
    }
   ],
   "source": [
    "\"\"\"11 WAP to check whether the given number is divisible by 3 or not if yes, print the \n",
    "number or else print the cube of the numbers.\"\"\"\n",
    "\n",
    "n=39\n",
    "if n%3==0:\n",
    "    print(\"number:\",n)\n",
    "else:\n",
    "    print(n**3)\n",
    "\n",
    "n=5\n",
    "if n%3==0:\n",
    "    print(\"number:\",n)\n",
    "else:\n",
    "    print(n**3)"
   ]
  },
  {
   "cell_type": "code",
   "execution_count": 389,
   "metadata": {},
   "outputs": [
    {
     "name": "stdout",
     "output_type": "stream",
     "text": [
      "(90, <class 'int'>)\n",
      "<class 'str'>\n"
     ]
    }
   ],
   "source": [
    "\"\"\"12 WAP to check whether the given input is divisible by 3 and 5. If yes print the \n",
    "actual number or else print string of that number.\"\"\"\n",
    "\n",
    "n=90\n",
    "if n%3==0 and n%5==0:\n",
    "    res=n,type(n)\n",
    "else:\n",
    "    res=str(n)\n",
    "print(res)\n",
    "\n",
    "n=80\n",
    "if n%3==0 and n%5==0:\n",
    "    res=n\n",
    "else:\n",
    "    res=str(n)\n",
    "    res=type(res)\n",
    "print(res)\n"
   ]
  },
  {
   "cell_type": "code",
   "execution_count": 390,
   "metadata": {},
   "outputs": [
    {
     "name": "stdout",
     "output_type": "stream",
     "text": [
      "361\n",
      "8000\n"
     ]
    }
   ],
   "source": [
    "\"\"\"13 WAP to check whether the given number lies between 1 to 19, if it is true square \n",
    "that number or else false cube that number and display the number.\"\"\"\n",
    "\n",
    "n=19\n",
    "if 1<=n<=19:\n",
    "    res=n**2\n",
    "else:\n",
    "    res=n**3\n",
    "print(res)\n",
    "\n",
    "n=20\n",
    "if 1<=n<=19:\n",
    "    res=n**2\n",
    "else:\n",
    "    res=n**3\n",
    "print(res)"
   ]
  },
  {
   "cell_type": "code",
   "execution_count": 391,
   "metadata": {},
   "outputs": [
    {
     "name": "stdout",
     "output_type": "stream",
     "text": [
      "('passed', 91)\n",
      "('failed', 39)\n"
     ]
    }
   ],
   "source": [
    "\"\"\"14 WAP to check whether the student has passed or failed. If the student got more \n",
    "than 40 marks, print ‘PASS’ along with those marks, if it is not printed ‘FAIL’ along \n",
    "with those marks\"\"\"\n",
    "\n",
    "marks=91\n",
    "if marks>40:\n",
    "    res=(\"passed\",marks)\n",
    "else:\n",
    "    res=(\"failed\",marks)\n",
    "print(res)\n",
    "\n",
    "marks=39\n",
    "if marks>40:\n",
    "    res=(\"passed\",marks)\n",
    "else:\n",
    "    res=(\"failed\",marks)\n",
    "print(res)"
   ]
  },
  {
   "cell_type": "code",
   "execution_count": 392,
   "metadata": {},
   "outputs": [
    {
     "name": "stdout",
     "output_type": "stream",
     "text": [
      "4\n",
      "11\n"
     ]
    }
   ],
   "source": [
    "\"\"\"15 WAP to check whether a given value is even and in range of 47 to 58 and not in 0 \n",
    "or odd. if condition is True, to perform display the ascii character. or else to \n",
    "perform floor division with 5 and display it.\"\"\"\n",
    "\n",
    "n=52\n",
    "if 47<=n<58 and n!=0 and n%2==0:\n",
    "    res=chr(n)\n",
    "else:\n",
    "    res=n//5\n",
    "print(res)\n",
    "\n",
    "n=58\n",
    "if 47<=n<58 and n!=0 and n%2==0:\n",
    "    res=chr(n)\n",
    "else:\n",
    "    res=n//5\n",
    "print(res)"
   ]
  },
  {
   "cell_type": "code",
   "execution_count": 393,
   "metadata": {},
   "outputs": [
    {
     "name": "stdout",
     "output_type": "stream",
     "text": [
      "{67: 'C'}\n",
      "[47]\n"
     ]
    }
   ],
   "source": [
    "\"\"\"16 WAP to check whether a given value is less than 125 and in between 47 to 125 or \n",
    "not. if condition is True, to perform store the given value as key and value as a \n",
    "character into the dict or else to append the value in list and display it.\"\"\"\n",
    "\n",
    "l=[]\n",
    "d={}\n",
    "n=67\n",
    "if 47<n<125:\n",
    "    d[n]=chr(n)\n",
    "    res=d\n",
    "else:\n",
    "    l+=[n]\n",
    "    res=l\n",
    "print(res)\n",
    "\n",
    "l=[]\n",
    "d={}\n",
    "n=47\n",
    "if 47<n<125:\n",
    "    d[n]=chr(n)\n",
    "    res=d\n",
    "else:\n",
    "    l+=[n]\n",
    "    res=l\n",
    "print(res)\n"
   ]
  },
  {
   "cell_type": "code",
   "execution_count": 394,
   "metadata": {},
   "outputs": [
    {
     "name": "stdout",
     "output_type": "stream",
     "text": [
      "alphabet a\n",
      "not a alphabet /\n"
     ]
    }
   ],
   "source": [
    "\"\"\"17 WAP to check whether a given character is in the alphabet or not. if alphabet, \n",
    "display the alphabet with character or else display the not alphabet with \n",
    "character.\"\"\"\n",
    "\n",
    "ch=\"a\"\n",
    "if \"a\"<=ch<=\"z\" or \"A\"<=ch<=\"Z\":\n",
    "    print(\"alphabet\",ch)\n",
    "else:\n",
    "    print(\"not a alphabet\",ch)\n",
    "\n",
    "ch=\"/\"\n",
    "if \"a\"<=ch<=\"z\" or \"A\"<=ch<=\"Z\":\n",
    "    print(\"alphabet\",ch)\n",
    "else:\n",
    "    print(\"not a alphabet\",ch)\n"
   ]
  },
  {
   "cell_type": "code",
   "execution_count": 395,
   "metadata": {},
   "outputs": [
    {
     "name": "stdout",
     "output_type": "stream",
     "text": [
      "('uppercase', 'A')\n",
      "('other character', '@')\n"
     ]
    }
   ],
   "source": [
    "\"\"\"18 WAP to check whether a given character is in the alphabet or not. if alphabet, \n",
    "display the alphabet with character or else display the not alphabet with \n",
    "character.\"\"\"\n",
    "ch=\"A\"\n",
    "if \"A\"<=ch<=\"Z\":\n",
    "    res=\"uppercase\",ch\n",
    "else:\n",
    "    res=\"other character\",ch\n",
    "print(res)\n",
    "\n",
    "ch=\"@\"\n",
    "if \"A\"<=ch<=\"Z\":\n",
    "    res=\"uppercase\",ch\n",
    "else:\n",
    "    res=\"other character\",ch\n",
    "print(res)"
   ]
  },
  {
   "cell_type": "code",
   "execution_count": 396,
   "metadata": {},
   "outputs": [
    {
     "name": "stdout",
     "output_type": "stream",
     "text": [
      "('lowercase', 'b')\n",
      "('other character', '&')\n"
     ]
    }
   ],
   "source": [
    "\"\"\"19 WAP to check whether a given character is lowercase or other character. if \n",
    "lowercase, display the lowercase with character or else display the other\n",
    "character with character.\"\"\"\n",
    "ch=\"b\"\n",
    "if \"a\"<=ch<=\"z\":\n",
    "    res=\"lowercase\",ch\n",
    "else:\n",
    "    res=\"other character\",ch\n",
    "print(res)\n",
    "\n",
    "ch=\"&\"\n",
    "if \"a\"<=ch<=\"z\":\n",
    "    res=\"lowercase\",ch\n",
    "else:\n",
    "    res=\"other character\",ch\n",
    "print(res)"
   ]
  },
  {
   "cell_type": "code",
   "execution_count": 397,
   "metadata": {},
   "outputs": [
    {
     "name": "stdout",
     "output_type": "stream",
     "text": [
      "a\n",
      "36\n"
     ]
    }
   ],
   "source": [
    "\"\"\"20 WAP to check whether a given character is uppercase or other character. if \n",
    "uppercase, convert to lowercase .or else display the ascii number\"\"\"\n",
    "\n",
    "ch=\"A\"\n",
    "if \"A\"<=ch<=\"Z\":\n",
    "    res=chr(ord(ch)+32)\n",
    "else:\n",
    "    res=ord(ch)\n",
    "print(res)\n",
    "\n",
    "ch=\"$\"\n",
    "if \"A\"<=ch<=\"Z\":\n",
    "    res=chr(ord(ch)+32)\n",
    "else:\n",
    "    res=ord(ch)\n",
    "print(res)"
   ]
  },
  {
   "cell_type": "code",
   "execution_count": 398,
   "metadata": {},
   "outputs": [
    {
     "name": "stdout",
     "output_type": "stream",
     "text": [
      "T\n",
      "y\n"
     ]
    }
   ],
   "source": [
    "\"\"\"21 WAP to check whether the given character is in lowercase or uppercase. If it is \n",
    "in lowercase, convert it into uppercase, or else it is in uppercase and convert it \n",
    "into lowercase. Display the value.\"\"\"\n",
    "\n",
    "ch=\"t\"\n",
    "if \"A\"<=ch<=\"Z\":\n",
    "    res=chr(ord(ch)+32)\n",
    "elif \"a\"<=ch<=\"z\":\n",
    "    res=chr(ord(ch)-32)\n",
    "else:\n",
    "    None\n",
    "print(res)\n",
    "\n",
    "ch=\"Y\"\n",
    "if \"A\"<=ch<=\"Z\":\n",
    "    res=chr(ord(ch)+32)\n",
    "elif \"a\"<=ch<=\"z\":\n",
    "    res=chr(ord(ch)-32)\n",
    "else:\n",
    "    None\n",
    "print(res)"
   ]
  },
  {
   "cell_type": "code",
   "execution_count": 399,
   "metadata": {},
   "outputs": [
    {
     "name": "stdout",
     "output_type": "stream",
     "text": [
      "@t\n",
      "h\n",
      "noh\n"
     ]
    }
   ],
   "source": [
    "\"\"\"22 WAP to check whether the given string of the first character is a special symbol \n",
    "or not. If a special symbol, to extract and display the middle character or else to \n",
    "reverse the string and display the half of the string.\"\"\"\n",
    "\n",
    "s=\"@python\"\n",
    "if 0<=ord(s[0])<=47 or 58<=ord(s[0])<=64 or 91<=ord(s[0])<=96 or 123<=ord(s[0])<=127:\n",
    "    res=s[0]+s[len(s)//2]\n",
    "else:\n",
    "    res=s[-1:s[len(s)//2]]\n",
    "print(res)\n",
    "\n",
    "s=\"python\"\n",
    "b=s[len(s)//2]\n",
    "print(b)\n",
    "if 0<=ord(s[0])<=47 or 58<=ord(s[0])<=64 or 91<=ord(s[0])<=96 or 123<=ord(s[0])<=127:\n",
    "    res=s[0]+b\n",
    "else:\n",
    "    res=s[-1:-len(s)//2-1:-1]\n",
    "    \n",
    "print(res)"
   ]
  },
  {
   "cell_type": "code",
   "execution_count": 400,
   "metadata": {},
   "outputs": [
    {
     "name": "stdout",
     "output_type": "stream",
     "text": [
      "64\n",
      "48\n",
      "57\n",
      "65\n",
      "90\n",
      "97\n",
      "122\n",
      "\n",
      "\n"
     ]
    }
   ],
   "source": [
    "s=\"@python\"\n",
    "print(ord(s[0]))\n",
    "print(ord(\"0\"))\n",
    "print(ord(\"9\"))\n",
    "print(ord(\"A\"))\n",
    "print(ord(\"Z\"))\n",
    "print(ord(\"a\"))\n",
    "print(ord(\"z\"))\n",
    "print(chr(129))\n",
    "print(chr(128))\n"
   ]
  },
  {
   "cell_type": "code",
   "execution_count": 401,
   "metadata": {},
   "outputs": [
    {
     "name": "stdout",
     "output_type": "stream",
     "text": [
      "('VOWEL', 'a')\n",
      "CONSONANT\n"
     ]
    }
   ],
   "source": [
    "\"\"\"23 WAP to check whether the input character is a vowel or not. If it is vowel print \n",
    "‘VOWEL’ along with that character, if it is not just print ‘CONSONANT’. \"\"\"\n",
    "\n",
    "\n",
    "ch=\"a\"\n",
    "if ch in \"AEIOUaeiou\":\n",
    "    res=\"VOWEL\",ch\n",
    "else:\n",
    "    res=\"CONSONANT\"\n",
    "print(res)\n",
    "ch=\"z\"\n",
    "if ch in \"AEIOUaeiou\":\n",
    "    res=\"VOWEL\",ch\n",
    "else:\n",
    "    res=\"CONSONANT\"\n",
    "print(res)\n"
   ]
  },
  {
   "cell_type": "code",
   "execution_count": 402,
   "metadata": {},
   "outputs": [
    {
     "name": "stdout",
     "output_type": "stream",
     "text": [
      "v\n",
      "s\n"
     ]
    }
   ],
   "source": [
    "\"\"\"24 WAP to check whether a given character is a vowel or consonant. if vowel, to \n",
    "print the next character of a given character or else print previous characters.\"\"\"\n",
    "ch=\"u\"\n",
    "if ch in \"AEIOUaeiou\":\n",
    "    res=chr(ord(ch)+1)\n",
    "else:\n",
    "    res=chr(ord(ch)-1)\n",
    "print(res)\n",
    "ch=\"t\"\n",
    "if ch in \"AEIOUaeiou\":\n",
    "    res=chr(ord(ch)+1)\n",
    "else:\n",
    "    res=chr(ord(ch)-1)\n",
    "print(res)"
   ]
  },
  {
   "cell_type": "code",
   "execution_count": 403,
   "metadata": {},
   "outputs": [
    {
     "name": "stdout",
     "output_type": "stream",
     "text": [
      "sgnirts\n",
      "r\n"
     ]
    }
   ],
   "source": [
    "\"\"\"25 WAP to check whether a given string of first character is alphabet or not\n",
    "if the alphabet prints, reverse the string or else print the middle character. \"\"\"\n",
    "s=\"strings\"\n",
    "if \"a\"<=s[0]<=\"z\" or \"A\"<=s[0]<=\"Z\":\n",
    "    res=s[::-1]\n",
    "else:\n",
    "    res=s[len(s)//2]\n",
    "print(res)\n",
    "\n",
    "s=\"$string\"\n",
    "if \"a\"<=s[0]<=\"z\" or \"A\"<=s[0]<=\"Z\":\n",
    "    res=s[::-1]\n",
    "else:\n",
    "    res=s[len(s)//2]\n",
    "print(res)\n"
   ]
  },
  {
   "cell_type": "code",
   "execution_count": 404,
   "metadata": {},
   "outputs": [
    {
     "name": "stdout",
     "output_type": "stream",
     "text": [
      "T\n",
      "y\n"
     ]
    }
   ],
   "source": [
    "\"\"\"26 WAP to check whether the given input character is uppercase or lowercase. If \n",
    "the input character is upper case convert into lower case and vice versa\"\"\"\n",
    "\n",
    "ch=\"t\"\n",
    "if \"A\"<=ch<=\"Z\":\n",
    "    res=chr(ord(ch)+32)\n",
    "elif \"a\"<=ch<=\"z\":\n",
    "    res=chr(ord(ch)-32)\n",
    "else:\n",
    "    None\n",
    "print(res)\n",
    "\n",
    "ch=\"Y\"\n",
    "if \"A\"<=ch<=\"Z\":\n",
    "    res=chr(ord(ch)+32)\n",
    "elif \"a\"<=ch<=\"z\":\n",
    "    res=chr(ord(ch)-32)\n",
    "else:\n",
    "    None\n",
    "print(res)"
   ]
  },
  {
   "cell_type": "code",
   "execution_count": 405,
   "metadata": {},
   "outputs": [
    {
     "name": "stdout",
     "output_type": "stream",
     "text": [
      "lo\n",
      "hi\n"
     ]
    }
   ],
   "source": [
    "\"\"\"27 WAP to check whether a given string is less than 3 characters, to print the entire \n",
    "string otherwise to print after third positions to the remaining string.\"\"\"\n",
    "\n",
    "s=\"hello\"\n",
    "if len(s)<3:\n",
    "    res=s\n",
    "else:\n",
    "    res=s[3:]\n",
    "print(res)\n",
    "\n",
    "s=\"hi\"\n",
    "if len(s)<3:\n",
    "    res=s\n",
    "else:\n",
    "    res=s[3:]\n",
    "print(res)"
   ]
  },
  {
   "cell_type": "code",
   "execution_count": 406,
   "metadata": {},
   "outputs": [
    {
     "name": "stdout",
     "output_type": "stream",
     "text": [
      "qspiders bye\n",
      "ps\n"
     ]
    }
   ],
   "source": [
    "\"\"\"28 WAP to check whether a given length of the string is even or not. if even, to \n",
    "append the new string called \"bye\" or else print the first and last characters.\"\"\"\n",
    "\n",
    "s=\"qspiders\"\n",
    "if len(s)%2==0:\n",
    "    res=s+\" bye\"\n",
    "else:\n",
    "    res=s[0]+s[-1]\n",
    "print(res)\n",
    "\n",
    "s=\"pyspiders\"\n",
    "if len(s)%2==0:\n",
    "    res=s+\" bye\"\n",
    "else:\n",
    "    res=s[0]+s[-1]\n",
    "print(res)\n"
   ]
  },
  {
   "cell_type": "code",
   "execution_count": 407,
   "metadata": {},
   "outputs": [
    {
     "name": "stdout",
     "output_type": "stream",
     "text": [
      "hai pyspiders\n",
      "spider\n"
     ]
    }
   ],
   "source": [
    "\"\"\"29 WAP to check whether a given length of the string is odd or not. if odd, to append \n",
    "the new string(\"Haii\") from the starting of the given string, or else to avoid the \n",
    "starting character and ending character of the given\n",
    "string and to display the remaining characters.\"\"\"\n",
    "\n",
    "s=\"pyspiders\"\n",
    "if len(s)%2!=0:\n",
    "    res=\"hai \"+s\n",
    "else:\n",
    "    res=s[1:len(s)-1:1]\n",
    "print(res)\n",
    "\n",
    "s=\"qspiders\"\n",
    "if len(s)%2!=0:\n",
    "    res=\"hai \"+s\n",
    "else:\n",
    "    res=s[1:len(s)-1:1]\n",
    "print(res)"
   ]
  },
  {
   "cell_type": "code",
   "execution_count": 408,
   "metadata": {},
   "outputs": [
    {
     "name": "stdout",
     "output_type": "stream",
     "text": [
      "redips\n",
      "ders\n"
     ]
    }
   ],
   "source": [
    "\"\"\"30 WAP to check whether the last of the given string is a special character or not, if \n",
    "the special character prints reverse the string except the last character or else to \n",
    "check if the length of the string is odd or not, if odd to extract the middle \n",
    "character to the end of the string\"\"\"\n",
    "\n",
    "s=\"spider@\"\n",
    "if 0<=ord(s[-1])<=47 or 58<=ord(s[-1])<=64 or 91<=ord(s[-1])<=96 or 123<=ord(s[-1])<=127:\n",
    "    res=s[-2::-1]\n",
    "else:\n",
    "    if len(s)%2!=0:\n",
    "        res=s[len(s)//2::]\n",
    "print(res)\n",
    "\n",
    "s=\"spiders\"\n",
    "if 0<=ord(s[-1])<=47 or 58<=ord(s[-1])<=64 or 91<=ord(s[-1])<=96 or 123<=ord(s[-1])<=127:\n",
    "    res=s[-2::-1]\n",
    "else:\n",
    "    if len(s)%2!=0:\n",
    "        res=s[len(s)//2::]\n",
    "print(res)\n"
   ]
  },
  {
   "cell_type": "code",
   "execution_count": 409,
   "metadata": {},
   "outputs": [
    {
     "name": "stdout",
     "output_type": "stream",
     "text": [
      "leap year\n"
     ]
    }
   ],
   "source": [
    "\"\"\"31 WAP to check whether a given year is a leap year or not. if leap year, print leap \n",
    "year or else not a leap year.\"\"\"\n",
    "y=1900\n",
    "if y%4==0:\n",
    "    print(\"leap year\")\n",
    "else:\n",
    "    if y%100==0 and y%400==0:\n",
    "        print(\"leap year\")\n",
    "    else:\n",
    "        print(\"not leap year\")"
   ]
  },
  {
   "cell_type": "code",
   "execution_count": null,
   "metadata": {},
   "outputs": [],
   "source": []
  },
  {
   "cell_type": "code",
   "execution_count": null,
   "metadata": {},
   "outputs": [],
   "source": []
  },
  {
   "cell_type": "code",
   "execution_count": null,
   "metadata": {},
   "outputs": [],
   "source": []
  },
  {
   "cell_type": "code",
   "execution_count": null,
   "metadata": {},
   "outputs": [],
   "source": []
  },
  {
   "cell_type": "code",
   "execution_count": null,
   "metadata": {},
   "outputs": [],
   "source": []
  },
  {
   "cell_type": "code",
   "execution_count": null,
   "metadata": {},
   "outputs": [],
   "source": []
  },
  {
   "cell_type": "code",
   "execution_count": null,
   "metadata": {},
   "outputs": [],
   "source": []
  },
  {
   "cell_type": "code",
   "execution_count": null,
   "metadata": {},
   "outputs": [],
   "source": []
  }
 ],
 "metadata": {
  "kernelspec": {
   "display_name": "Python 3",
   "language": "python",
   "name": "python3"
  },
  "language_info": {
   "codemirror_mode": {
    "name": "ipython",
    "version": 3
   },
   "file_extension": ".py",
   "mimetype": "text/x-python",
   "name": "python",
   "nbconvert_exporter": "python",
   "pygments_lexer": "ipython3",
   "version": "3.8.2"
  },
  "orig_nbformat": 4
 },
 "nbformat": 4,
 "nbformat_minor": 2
}
