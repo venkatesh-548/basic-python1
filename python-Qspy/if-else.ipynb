{
 "cells": [
  {
   "cell_type": "code",
   "execution_count": 2,
   "metadata": {},
   "outputs": [
    {
     "name": "stdout",
     "output_type": "stream",
     "text": [
      "negative -101\n"
     ]
    }
   ],
   "source": [
    "\"\"\"wap to check wheather given val is positive or negative\"\"\"\n",
    "\n",
    "n=int(input(\"enter number:\"))\n",
    "if n>=0:\n",
    "    print(\"positive\",n)\n",
    "else:\n",
    "    print(\"negative\",n)"
   ]
  },
  {
   "cell_type": "code",
   "execution_count": 4,
   "metadata": {},
   "outputs": [
    {
     "name": "stdout",
     "output_type": "stream",
     "text": [
      "even 144\n"
     ]
    }
   ],
   "source": [
    "\"\"\" to check even or odd\"\"\"\n",
    "\n",
    "\"\"\"wap to check wheather given val is positive or negative\"\"\"\n",
    "\n",
    "n=int(input(\"enter number:\"))\n",
    "if n%2==0:\n",
    "    print(\"even\",n**2)\n",
    "else:\n",
    "    print(\"odd\",n**3)"
   ]
  },
  {
   "cell_type": "code",
   "execution_count": 11,
   "metadata": {},
   "outputs": [
    {
     "name": "stdout",
     "output_type": "stream",
     "text": [
      "{20, 100, 200, 10, 30}\n",
      "{10, 20, (100, 200, 30)}\n"
     ]
    }
   ],
   "source": [
    "\"\"\" wap to check wheather given val is multival dt or not, if it is multival dt store it in set\"\"\"\n",
    "\n",
    "s={10,20}\n",
    "a=(100,200,30)\n",
    "if type(a) in [tuple,str]:\n",
    "    s|=set(a)\n",
    "    print(s)\n",
    "\n",
    "s={10,20}\n",
    "a=(100,200,30)\n",
    "if type(a) in [tuple,str]:\n",
    "    s|={a}\n",
    "    print(s)\n",
    "\n",
    "#if we take the mutable data type set will not accept the mutable datatype"
   ]
  },
  {
   "cell_type": "code",
   "execution_count": 13,
   "metadata": {},
   "outputs": [
    {
     "name": "stdout",
     "output_type": "stream",
     "text": [
      "it is palindrome\n",
      "malay\n",
      "not palindrome malayalan\n"
     ]
    }
   ],
   "source": [
    "\"\"\"wap to check wheather given string is palindrome or not\"\"\"\n",
    "\n",
    "s=\"malayalam\"\n",
    "if s[::-1]==s[::1]:\n",
    "    print(\"it is palindrome\")\n",
    "    res=s[0:(len(s)//2+1):1]\n",
    "    print(res)\n",
    "else:\n",
    "    print(\"not palindrome\",s)\n",
    "\n",
    "s=\"malayalan\"\n",
    "if s[::-1]==s[::1]:\n",
    "    print(\"it is palindrome\")\n",
    "    res=s[0:(len(s)//2+1):1]\n",
    "    print(res)\n",
    "else:\n",
    "    print(\"not palindrome\",s)\n",
    "    "
   ]
  },
  {
   "cell_type": "code",
   "execution_count": 29,
   "metadata": {},
   "outputs": [
    {
     "name": "stdout",
     "output_type": "stream",
     "text": [
      "AaBbcAB\n"
     ]
    },
    {
     "ename": "TypeError",
     "evalue": "unsupported operand type(s) for //: 'str' and 'int'",
     "output_type": "error",
     "traceback": [
      "\u001b[1;31m---------------------------------------------------------------------------\u001b[0m",
      "\u001b[1;31mTypeError\u001b[0m                                 Traceback (most recent call last)",
      "Cell \u001b[1;32mIn[29], line 11\u001b[0m\n\u001b[0;32m      8\u001b[0m \u001b[39mprint\u001b[39m(s)\n\u001b[0;32m     10\u001b[0m s\u001b[39m=\u001b[39m\u001b[39m\"\u001b[39m\u001b[39mAaBbc\u001b[39m\u001b[39m\"\u001b[39m\n\u001b[1;32m---> 11\u001b[0m \u001b[39mif\u001b[39;00m (\u001b[39mord\u001b[39m(s[\u001b[39m0\u001b[39m])\u001b[39m+\u001b[39m\u001b[39m1\u001b[39m)\u001b[39m==\u001b[39m(\u001b[39mord\u001b[39m(s[\u001b[39mlen\u001b[39m(s\u001b[39m/\u001b[39;49m\u001b[39m/\u001b[39;49m\u001b[39m2\u001b[39;49m)])):\n\u001b[0;32m     12\u001b[0m     s\u001b[39m+\u001b[39m\u001b[39m=\u001b[39ms[\u001b[39m0\u001b[39m]\u001b[39m+\u001b[39ms[\u001b[39mlen\u001b[39m(s)\u001b[39m/\u001b[39m\u001b[39m/\u001b[39m\u001b[39m2\u001b[39m]\n\u001b[0;32m     14\u001b[0m     \u001b[39mprint\u001b[39m(s)\n",
      "\u001b[1;31mTypeError\u001b[0m: unsupported operand type(s) for //: 'str' and 'int'"
     ]
    }
   ],
   "source": [
    "\"\"\" wap to check the starting char and the middle char are in the sequence or not if sequence extract the two and append in the string \"\"\"\n",
    "\n",
    "s=\"AaBbc\"\n",
    "a=(ord(s[0])+1)\n",
    "b=(ord(s[len(s)//2]))\n",
    "if a==b:\n",
    "    s+=s[0]+s[len(s)//2]\n",
    "print(s)\n",
    "\n",
    "s=\"AaBbc\"\n",
    "if (ord(s[0])+1)==(ord(s[len(s//2)])):\n",
    "    s+=s[0]+s[len(s)//2]\n",
    "   \n",
    "    print(s)\n",
    "else:\n",
    "    print(s)\n",
    "\n"
   ]
  },
  {
   "cell_type": "code",
   "execution_count": null,
   "metadata": {},
   "outputs": [],
   "source": []
  },
  {
   "cell_type": "code",
   "execution_count": null,
   "metadata": {},
   "outputs": [],
   "source": []
  },
  {
   "cell_type": "code",
   "execution_count": null,
   "metadata": {},
   "outputs": [],
   "source": []
  },
  {
   "cell_type": "code",
   "execution_count": null,
   "metadata": {},
   "outputs": [],
   "source": []
  }
 ],
 "metadata": {
  "kernelspec": {
   "display_name": "Python 3",
   "language": "python",
   "name": "python3"
  },
  "language_info": {
   "codemirror_mode": {
    "name": "ipython",
    "version": 3
   },
   "file_extension": ".py",
   "mimetype": "text/x-python",
   "name": "python",
   "nbconvert_exporter": "python",
   "pygments_lexer": "ipython3",
   "version": "3.8.2"
  },
  "orig_nbformat": 4
 },
 "nbformat": 4,
 "nbformat_minor": 2
}
