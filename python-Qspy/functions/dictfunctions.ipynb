{
 "cells": [
  {
   "cell_type": "code",
   "execution_count": 3,
   "metadata": {},
   "outputs": [
    {
     "name": "stdout",
     "output_type": "stream",
     "text": [
      "{1: 1, 2: 4, 3: 9, 4: 16}\n",
      "{}\n"
     ]
    }
   ],
   "source": [
    "#1 clear()\n",
    "\n",
    "d={i:i**2 for i in range(1,5)}\n",
    "print(d)\n",
    "d.clear()\n",
    "print(d)"
   ]
  },
  {
   "cell_type": "code",
   "execution_count": 6,
   "metadata": {},
   "outputs": [
    {
     "name": "stdout",
     "output_type": "stream",
     "text": [
      "2068433996224 {1: 1, 2: 4, 3: 9, 4: 16}\n",
      "2068433996224 {}\n"
     ]
    }
   ],
   "source": [
    "d={1: 1, 2: 4, 3: 9, 4: 16}\n",
    "print(id(d),d)\n",
    "def clear(coll1):\n",
    "    if type(d)!=dict:\n",
    "        return -1\n",
    "    res=list(d)\n",
    "    for i in res:\n",
    "        del d[i]\n",
    "clear(d)\n",
    "print(id(d),d)\n"
   ]
  },
  {
   "cell_type": "code",
   "execution_count": 7,
   "metadata": {},
   "outputs": [
    {
     "name": "stdout",
     "output_type": "stream",
     "text": [
      "2068434004096 {1: 1, 2: 4, 3: 9, 4: 16}\n",
      "2068433996224 {1: 1, 2: 4, 3: 9, 4: 16}\n"
     ]
    }
   ],
   "source": [
    "d={1: 1, 2: 4, 3: 9, 4: 16}\n",
    "print(id(d),d)\n",
    "d1=d.copy()\n",
    "print(id(d1),d1)"
   ]
  },
  {
   "cell_type": "code",
   "execution_count": 11,
   "metadata": {},
   "outputs": [
    {
     "name": "stdout",
     "output_type": "stream",
     "text": [
      "2068433874176 {1: 1, 2: 4, 3: 9, 4: 16}\n",
      "2068433996224 {1: 1, 2: 4, 3: 9, 4: 16}\n"
     ]
    }
   ],
   "source": [
    "#2copy()\n",
    "d={1: 1, 2: 4, 3: 9, 4: 16}\n",
    "print(id(d),d)\n",
    "def copy(coll1):\n",
    "    if type(d)!=dict:\n",
    "        return -1\n",
    "    d1={}\n",
    "    for i in coll1:\n",
    "        d1[i]=coll1[i]\n",
    "copy(d)\n",
    "print(id(d1),d1)\n"
   ]
  },
  {
   "cell_type": "code",
   "execution_count": 18,
   "metadata": {},
   "outputs": [
    {
     "name": "stdout",
     "output_type": "stream",
     "text": [
      "16\n",
      "9\n"
     ]
    }
   ],
   "source": [
    "#get()\n",
    "d={1: 1, 2: 4, 3: 9, 4: 16}\n",
    "d.get(2)\n",
    "print(d.get(4))\n",
    "print(d[3])\n",
    "# print(d[5])"
   ]
  },
  {
   "cell_type": "code",
   "execution_count": 19,
   "metadata": {},
   "outputs": [
    {
     "name": "stdout",
     "output_type": "stream",
     "text": [
      "16\n"
     ]
    }
   ],
   "source": [
    "d={1: 1, 2: 4, 3: 9, 4: 16}\n",
    "\n",
    "def get(coll1,key):\n",
    "    if type(coll1)!=dict:\n",
    "        return -1\n",
    "    print(coll1.get(key))\n",
    "get(d,4)"
   ]
  }
 ],
 "metadata": {
  "kernelspec": {
   "display_name": "Python 3",
   "language": "python",
   "name": "python3"
  },
  "language_info": {
   "codemirror_mode": {
    "name": "ipython",
    "version": 3
   },
   "file_extension": ".py",
   "mimetype": "text/x-python",
   "name": "python",
   "nbconvert_exporter": "python",
   "pygments_lexer": "ipython3",
   "version": "3.11.4"
  }
 },
 "nbformat": 4,
 "nbformat_minor": 2
}
