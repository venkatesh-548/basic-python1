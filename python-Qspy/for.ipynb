{
 "cells": [
  {
   "cell_type": "code",
   "execution_count": 10,
   "metadata": {},
   "outputs": [
    {
     "name": "stdout",
     "output_type": "stream",
     "text": [
      "HWPYTHON "
     ]
    }
   ],
   "source": [
    "#1 wap to extract uppercase char from the given string\n",
    "\n",
    "s=\"Hello World PYTHON\"\n",
    "res=\"\"\n",
    "for i in s:\n",
    "    if \"A\"<=i<=\"Z\":\n",
    "        res+=i\n",
    "print(res,end=\" \")\n"
   ]
  },
  {
   "cell_type": "code",
   "execution_count": 12,
   "metadata": {},
   "outputs": [
    {
     "name": "stdout",
     "output_type": "stream",
     "text": [
      "enky@ gmail.co,in@\n"
     ]
    }
   ],
   "source": [
    "#2 wap to extract and store the special char and lowercase  from the given string\n",
    "\n",
    "s=\"Venky@ gmail.co,in@123\"\n",
    "res=\"\"\n",
    "for i in s:\n",
    "    if not(\"A\"<=i<=\"Z\" or \"0\"<=i<=\"9\"):\n",
    "        res+=i\n",
    "print(res)\n"
   ]
  },
  {
   "cell_type": "code",
   "execution_count": 13,
   "metadata": {},
   "outputs": [
    {
     "name": "stdout",
     "output_type": "stream",
     "text": [
      "VENKY\n",
      "gmailcomcoin\n",
      "123\n",
      "@...@\n"
     ]
    }
   ],
   "source": [
    "#3 wap to segregate the char from the given string\n",
    "\n",
    "s=\"VENKY@gmail.com.co.in@123\"\n",
    "up,lc,nc,sp=\"\",\"\",\"\",\"\"\n",
    "for i in s:\n",
    "    if \"A\"<=i<=\"Z\":\n",
    "        up+=i\n",
    "    elif \"a\"<=i<=\"z\":\n",
    "        lc+=i\n",
    "    elif \"0\"<=i<=\"9\":\n",
    "        nc+=i\n",
    "    else:\n",
    "        sp+=i\n",
    "print(up)\n",
    "print(lc)\n",
    "print(nc)\n",
    "print(sp)"
   ]
  },
  {
   "cell_type": "code",
   "execution_count": 29,
   "metadata": {},
   "outputs": [
    {
     "name": "stdout",
     "output_type": "stream",
     "text": [
      "<class 'str'>\n",
      "not valid\n"
     ]
    }
   ],
   "source": [
    "#4 wap to validate the password\n",
    "pas=\"Venky@123#TADDI\"\n",
    "print(type(pas))\n",
    "if  type(pas)==str and 8<=len(pas)<=20 and \"A\"<=pas[0]<=\"Z\" and \"A\"<=pas[-1]<=\"Z\":\n",
    "    up,lc,nc,sp,pos=\"\",\"\",\"\",\"\",\"\"\n",
    "    for i in pas:\n",
    "        if \"A\"<=i<=\"Z\":\n",
    "            up+=i\n",
    "        elif \"a\"<=i<=\"z\":\n",
    "            lc+=i\n",
    "        elif \"0\"<=i<=\"9\":\n",
    "            nc+=i\n",
    "        elif i not in \". ()[]{}\":\n",
    "            sp+=i\n",
    "        else:\n",
    "            pos+=i\n",
    "    print(up,lc,sp,nc,pos)\n",
    "    if 1<=len(lc)<=5 and len(sp)>=2 and len(pos)==0 and len(nc)>=1:\n",
    "        print(\"valid password\")\n",
    "    else:\n",
    "        print(\"not valid\")\n",
    "else:\n",
    "    print(\"not valid\")"
   ]
  },
  {
   "cell_type": "code",
   "execution_count": 38,
   "metadata": {},
   "outputs": [
    {
     "name": "stdout",
     "output_type": "stream",
     "text": [
      "<class 'str'>\n",
      "VTAI enkygh #  \n",
      "password should have min 1 and max 5 lowercase only\n",
      "password should contain minimum 2 special char only\n",
      "minimum 1 numaric char should contain\n"
     ]
    }
   ],
   "source": [
    "pas=\"Venkygh#TAI\"\n",
    "print(type(pas))\n",
    "if  not(type(pas)==str):\n",
    "    print(\"password should be in string format only\")\n",
    "elif not(8<=len(pas)<=20):\n",
    "    print(\"password should have minimum 8 char and maximum 20 char\")\n",
    "elif not(\"A\"<=pas[0]<=\"Z\" and \"A\"<=pas[-1]<=\"Z\"):\n",
    "    print(\" the starting and last char should be in uppercase\")\n",
    "else:\n",
    "    up,lc,nc,sp,pos=\"\",\"\",\"\",\"\",\"\"\n",
    "    for i in pas:\n",
    "        if \"A\"<=i<=\"Z\":\n",
    "            up+=i\n",
    "        elif \"a\"<=i<=\"z\":\n",
    "            lc+=i\n",
    "        elif \"0\"<=i<=\"9\":\n",
    "            nc+=i\n",
    "        elif i not in \". ()[]{}\":\n",
    "            sp+=i\n",
    "        else:\n",
    "            pos+=i\n",
    "    print(up,lc,sp,nc,pos)\n",
    "    if not(1<=len(lc)<=5):\n",
    "        print(\"password should have min 1 and max 5 lowercase only\")\n",
    "    if not(len(sp)>=2):\n",
    "        print(\"password should contain minimum 2 special char only\")\n",
    "    if not(len(pos)==0):\n",
    "        print(\"password should not contain . ()[]{}\")\n",
    "    if not(len(nc)>=1):\n",
    "        print(\"minimum 1 numaric char should contain\")"
   ]
  },
  {
   "cell_type": "code",
   "execution_count": 24,
   "metadata": {},
   "outputs": [
    {
     "name": "stdout",
     "output_type": "stream",
     "text": [
      "* \n",
      "* * \n",
      "* * * \n",
      "* * * * \n",
      "* * * * * \n",
      "          * \n",
      "      * * \n",
      "    * * * \n",
      "  * * * * \n",
      "* * * * * \n"
     ]
    }
   ],
   "source": [
    "n=5\n",
    "i=1\n",
    "while i<=n:\n",
    "    j=1\n",
    "    while j<=i:\n",
    "        print(\"*\",end=\" \")\n",
    "        j+=1\n",
    "    print(\"\")\n",
    "    i+=1\n",
    "print(\" \",end=\" \")\n",
    "n=5\n",
    "i=1\n",
    "while i<=n:\n",
    "    print(\"  \"*(n-i),end=\"\")\n",
    "    j=1\n",
    "    while j<=i:\n",
    "        print(\"*\",end=\" \")\n",
    "        j+=1\n",
    "    print()\n",
    "    i+=1\n"
   ]
  },
  {
   "cell_type": "code",
   "execution_count": 31,
   "metadata": {},
   "outputs": [
    {
     "name": "stdout",
     "output_type": "stream",
     "text": [
      "                                                        *       \n",
      "                                                    *       *       \n",
      "                                                *       *       *       \n",
      "                                            *       *       *       *       \n",
      "                                        *       *       *       *       *       \n"
     ]
    }
   ],
   "source": [
    "n=5\n",
    "i=1\n",
    "while i<=n: \n",
    "    print(\"    \"*(n-i),end=\"                                        \")\n",
    "    j=1\n",
    "    while j<=i:\n",
    "        print(\"*\",end=\"       \")\n",
    "        j+=1\n",
    "    print()\n",
    "    i+=1\n"
   ]
  },
  {
   "cell_type": "code",
   "execution_count": 42,
   "metadata": {},
   "outputs": [
    {
     "name": "stdout",
     "output_type": "stream",
     "text": [
      "        * \n",
      "      * * \n",
      "    * * * \n",
      "  * * * * \n",
      "* * * * * \n"
     ]
    }
   ],
   "source": [
    "n=5\n",
    "i=1\n",
    "while i<=n:\n",
    "    print(\"  \"*(n-i),end=\"\")\n",
    "    j=1\n",
    "    while j<=i:\n",
    "        print(\"*\",end=\" \")\n",
    "        j+=1\n",
    "    print()\n",
    "    i+=1"
   ]
  },
  {
   "cell_type": "code",
   "execution_count": 53,
   "metadata": {},
   "outputs": [
    {
     "name": "stdout",
     "output_type": "stream",
     "text": [
      " 1   1   1   1   1   \n",
      "   2   2   2   2   \n",
      "     3   3   3   \n",
      "       4   4   \n",
      "         5   \n"
     ]
    }
   ],
   "source": [
    "n=5\n",
    "i=1\n",
    "while i<=n:\n",
    "    print(\"  \"*(i-1),end=\" \")\n",
    "    j=1\n",
    "    while j<=n-i+1:\n",
    "        print(i,end=\"   \")\n",
    "        j+=1\n",
    "    print()\n",
    "    i+=1\n"
   ]
  },
  {
   "cell_type": "code",
   "execution_count": 71,
   "metadata": {},
   "outputs": [
    {
     "name": "stdout",
     "output_type": "stream",
     "text": [
      "helo\n",
      "[['h', 1], ['e', 1], ['l', 2], ['o', 1]]\n",
      "{'h': 1, 'e': 1, 'l': 2, 'o': 1}\n"
     ]
    }
   ],
   "source": [
    "# wap to extract the char from the given given collection\n",
    "\n",
    "s=\"hello\"\n",
    "uni=\"\"\n",
    "for i in s:\n",
    "    if i not in uni:\n",
    "        uni+=i\n",
    "print(uni)\n",
    "l=[]\n",
    "for j in uni:\n",
    "    count=0\n",
    "    for k in s:\n",
    "        if k==j:\n",
    "            count+=1\n",
    "    l+=[[j,count]]\n",
    "print(l)\n",
    "u=dict(l)\n",
    "print(u)"
   ]
  },
  {
   "cell_type": "code",
   "execution_count": 82,
   "metadata": {},
   "outputs": [
    {
     "name": "stdout",
     "output_type": "stream",
     "text": [
      "{'h': 1, 'e': 1, 'l': 3, 'o': 2, ' ': 2, 'w': 1, 'r': 1, 'd': 1}\n",
      "['h', 'e', 'l', 'o', ' ', 'w', 'r', 'd']\n",
      "l 3\n",
      "h 1\n"
     ]
    }
   ],
   "source": [
    "# wap to extract the char from the given given collection\n",
    "\n",
    "s=\"hello world \"\n",
    "d={}\n",
    "for i in s:\n",
    "    if i not in d:\n",
    "        d[i]=1\n",
    "    else:\n",
    "        d[i]+=1\n",
    "print(d)\n",
    "l=list(d)\n",
    "print(l)\n",
    "u=[]\n",
    "max=0\n",
    "max_ch=\"\"\n",
    "min_ch=\"\"\n",
    "min=len(s)\n",
    "for j in l:\n",
    "    if d[j]>max:\n",
    "        max=d[j]\n",
    "        max_ch=j\n",
    "    if d[j]<min:\n",
    "        min=d[j]\n",
    "        min_ch=j\n",
    "print(max_ch,max)\n",
    "print(min_ch,min)\n",
    "# print(u)\n",
    "\n",
    "\n"
   ]
  },
  {
   "cell_type": "code",
   "execution_count": 94,
   "metadata": {},
   "outputs": [
    {
     "name": "stdout",
     "output_type": "stream",
     "text": [
      "{1: ['h', 'e', 'w', 'r', 'd'], 3: ['l'], 2: ['o', ' ']}\n"
     ]
    }
   ],
   "source": [
    "s=\"hello world \"\n",
    "d={}\n",
    "for i in s:\n",
    "    if i not in d:\n",
    "        d[i]=1\n",
    "    else:\n",
    "        d[i]+=1\n",
    "# print(d)\n",
    "res={}\n",
    "for j in d:\n",
    "    if d[j] not in res:\n",
    "        res[d[j]]=[j]\n",
    "    else:\n",
    "        res[d[j]]+=[j]\n",
    "print(res)"
   ]
  },
  {
   "cell_type": "code",
   "execution_count": 93,
   "metadata": {},
   "outputs": [
    {
     "name": "stdout",
     "output_type": "stream",
     "text": [
      "{1: ['h', 'e', 'w', 'r', 'd'], 3: ['l'], 2: ['o', ' ']}\n",
      "1\n",
      "5 ['h', 'e', 'w', 'r', 'd']\n"
     ]
    }
   ],
   "source": [
    "s=\"hello world \"\n",
    "d={}\n",
    "for i in s:\n",
    "    if i not in d:\n",
    "        d[i]=1\n",
    "    else:\n",
    "        d[i]+=1\n",
    "# print(d)\n",
    "res={}\n",
    "for j in d:\n",
    "    if d[j] not in res:\n",
    "        res[d[j]]=[j]\n",
    "    else:\n",
    "        res[d[j]]+=[j]\n",
    "print(res)\n",
    "min=len(res)\n",
    "for k in res:\n",
    "    if min>k:\n",
    "        min=k\n",
    "print(min)\n",
    "l=len(res[min])\n",
    "print(l,res[min])\n",
    "    "
   ]
  },
  {
   "cell_type": "code",
   "execution_count": 57,
   "metadata": {},
   "outputs": [
    {
     "name": "stdout",
     "output_type": "stream",
     "text": [
      "[1, 2, 3, 4, 5, 6, 32, 45]\n"
     ]
    }
   ],
   "source": [
    "#wap to eliminate the duplicates\n",
    "\n",
    "l=[1,2,3,4,5,2,3,5,6,32,45,6,6,4]\n",
    "d=[]\n",
    "for i in l:\n",
    "    if i not in d:\n",
    "        d+=[i]\n",
    "print(d)\n"
   ]
  },
  {
   "cell_type": "code",
   "execution_count": 3,
   "metadata": {},
   "outputs": [
    {
     "name": "stdout",
     "output_type": "stream",
     "text": [
      "olleh\n"
     ]
    }
   ],
   "source": [
    "s=\"hello\"\n",
    "res=\"\"\n",
    "for i in s:\n",
    "    res=i+res\n",
    "print(res)"
   ]
  },
  {
   "cell_type": "code",
   "execution_count": 4,
   "metadata": {},
   "outputs": [
    {
     "name": "stdout",
     "output_type": "stream",
     "text": [
      "palindrome\n"
     ]
    }
   ],
   "source": [
    "#wap to check the given string is palindrome or not\n",
    "s=\"malayalam\"\n",
    "res=\"\"\n",
    "for i in s:\n",
    "    res=i+res\n",
    "if res==s:\n",
    "    print(\"palindrome\")\n",
    "else:\n",
    "    print(\"not a palindrome\")"
   ]
  },
  {
   "cell_type": "code",
   "execution_count": 31,
   "metadata": {},
   "outputs": [
    {
     "name": "stdout",
     "output_type": "stream",
     "text": [
      "m\n",
      "mo\n",
      "mob\n",
      "mobi\n",
      "mobil\n",
      "mobile\n"
     ]
    }
   ],
   "source": [
    "st=\"mobile\"\n",
    "res=\"\"\n",
    "for i in st:\n",
    "    res+=i\n",
    "    print(res)\n"
   ]
  },
  {
   "cell_type": "code",
   "execution_count": 32,
   "metadata": {},
   "outputs": [
    {
     "name": "stdout",
     "output_type": "stream",
     "text": [
      "m\n",
      "mo\n",
      "mob\n",
      "mobi\n",
      "mobil\n",
      "mobile\n"
     ]
    }
   ],
   "source": [
    "st=\"mobile\"\n",
    "for i in range(1,len(st)+1):\n",
    "    print(st[0:i])"
   ]
  },
  {
   "cell_type": "code",
   "execution_count": 33,
   "metadata": {},
   "outputs": [
    {
     "name": "stdout",
     "output_type": "stream",
     "text": [
      "m\n",
      "mo\n",
      "mob\n",
      "mobi\n",
      "mobil\n",
      "mobile\n"
     ]
    }
   ],
   "source": [
    "st=\"mobile\"\n",
    "res=\"\"\n",
    "for i in range(0,len(st)):\n",
    "    res+=st[i]\n",
    "    print(res)"
   ]
  },
  {
   "cell_type": "code",
   "execution_count": 12,
   "metadata": {},
   "outputs": [
    {
     "name": "stdout",
     "output_type": "stream",
     "text": [
      "malayalam\n",
      "malayala\n",
      "malayal\n",
      "malaya\n",
      "malay\n",
      "mala\n",
      "mal\n",
      "ma\n",
      "m\n"
     ]
    }
   ],
   "source": [
    "st=\"malayalam\"\n",
    "pos=len(st)\n",
    "for i in st:\n",
    "    print(st[0:pos])\n",
    "    pos-=1"
   ]
  },
  {
   "cell_type": "code",
   "execution_count": 30,
   "metadata": {},
   "outputs": [
    {
     "data": {
      "text/plain": [
       "[10, 11, 12, 13, 14, 15, 16, 17, 18, 19]"
      ]
     },
     "execution_count": 30,
     "metadata": {},
     "output_type": "execute_result"
    }
   ],
   "source": [
    "list(range(10,20))"
   ]
  },
  {
   "cell_type": "code",
   "execution_count": 40,
   "metadata": {},
   "outputs": [
    {
     "name": "stdout",
     "output_type": "stream",
     "text": [
      "m\n",
      "mo\n",
      "mob\n",
      "mobi\n",
      "mobil\n",
      "mobile\n",
      "o\n",
      "ob\n",
      "obi\n",
      "obil\n",
      "obile\n",
      "b\n",
      "bi\n",
      "bil\n",
      "bile\n",
      "i\n",
      "il\n",
      "ile\n",
      "l\n",
      "le\n",
      "e\n"
     ]
    }
   ],
   "source": [
    "st=\"mobile\"\n",
    "for j in range(0,len(st)):\n",
    "    for i in range(j+1,len(st)+1):\n",
    "        print(st[j:i])\n",
    "    # print()"
   ]
  },
  {
   "cell_type": "code",
   "execution_count": null,
   "metadata": {},
   "outputs": [],
   "source": []
  },
  {
   "cell_type": "code",
   "execution_count": null,
   "metadata": {},
   "outputs": [],
   "source": []
  },
  {
   "cell_type": "code",
   "execution_count": null,
   "metadata": {},
   "outputs": [],
   "source": []
  },
  {
   "cell_type": "code",
   "execution_count": null,
   "metadata": {},
   "outputs": [],
   "source": []
  },
  {
   "cell_type": "code",
   "execution_count": null,
   "metadata": {},
   "outputs": [],
   "source": []
  }
 ],
 "metadata": {
  "kernelspec": {
   "display_name": "Python 3",
   "language": "python",
   "name": "python3"
  },
  "language_info": {
   "codemirror_mode": {
    "name": "ipython",
    "version": 3
   },
   "file_extension": ".py",
   "mimetype": "text/x-python",
   "name": "python",
   "nbconvert_exporter": "python",
   "pygments_lexer": "ipython3",
   "version": "3.11.4"
  },
  "orig_nbformat": 4
 },
 "nbformat": 4,
 "nbformat_minor": 2
}
