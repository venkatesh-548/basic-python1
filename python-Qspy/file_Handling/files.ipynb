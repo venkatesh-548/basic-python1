{
 "cells": [
  {
   "cell_type": "markdown",
   "metadata": {},
   "source": [
    "Opening a File:\n",
    "Before performing any operation (like read or write) on the file,first we have to open that file.\n",
    "For this we should use Python's inbuilt function open()\n",
    "But at the time of open, we have to specify mode,which represents the purpose of opening file.\n",
    "\n",
    "f=open('file_name',mode)\n",
    "\n",
    "ex-> f=open('abc.txt',r)"
   ]
  },
  {
   "cell_type": "code",
   "execution_count": 1,
   "metadata": {},
   "outputs": [
    {
     "name": "stdout",
     "output_type": "stream",
     "text": [
      "file name: abc.txt\n",
      "file mode w\n",
      "is file readable: False\n",
      "is file writable: True\n",
      "is file closed: False\n",
      "is file closed: True\n"
     ]
    }
   ],
   "source": [
    "f=open('abc.txt','w')\n",
    "print('file name:',f.name)\n",
    "print('file mode',f.mode)\n",
    "print('is file readable:',f.readable())\n",
    "print('is file writable:',f.writable())\n",
    "print('is file closed:',f.closed)\n",
    "f.close()\n",
    "print('is file closed:',f.closed)\n"
   ]
  },
  {
   "cell_type": "markdown",
   "metadata": {},
   "source": [
    "Writing data to text files:\n",
    "We can write character data to the text files by using the following 2 methods.\n",
    "write(str)\n",
    "writelines(list of lines)"
   ]
  },
  {
   "cell_type": "code",
   "execution_count": 3,
   "metadata": {},
   "outputs": [
    {
     "name": "stdout",
     "output_type": "stream",
     "text": [
      "data written to the file successfully\n"
     ]
    }
   ],
   "source": [
    "f=open('abc.txt','w')\n",
    "f.write(\"venkatesh\\n\")\n",
    "f.write(\"taddi\\n\")\n",
    "f.write(\"7386624002\")\n",
    "print(\"data written to the file successfully\")\n",
    "f.close()\n",
    "\n",
    "\"\"\" in the above program the data can be override every time if we run the program\n",
    "to overcome this problem we can use the append method to add the data to the existing file\"\"\""
   ]
  },
  {
   "cell_type": "code",
   "execution_count": 8,
   "metadata": {},
   "outputs": [
    {
     "name": "stdout",
     "output_type": "stream",
     "text": [
      "the data written successfully\n"
     ]
    },
    {
     "data": {
      "text/plain": [
       "' while writing the data by using the write methods we compulsory use the \\n\\n ,otherwise the data should written in single line.'"
      ]
     },
     "execution_count": 8,
     "metadata": {},
     "output_type": "execute_result"
    }
   ],
   "source": [
    "f=open('abcd.txt','w')\n",
    "l=['sunny\\n','bunny\\n','vinny\\n','chinny\\n']\n",
    "f.writelines(l)\n",
    "print(\"the data written successfully\")\n",
    "f.close()\n",
    "\n",
    "\"\"\" while writing the data by using the write methods we compulsory use the \n",
    "\\n ,otherwise the data should written in single line.\"\"\""
   ]
  },
  {
   "cell_type": "markdown",
   "metadata": {},
   "source": [
    "reading the data from the file:\n",
    "\n",
    "we can read the character data from the text file by using the following methods\n",
    "\n",
    "read():- to read the total data from the file\n",
    "read(n):- to read the n characters from the file\n",
    "readline():- to read only one line\n",
    "readlines():- to read all the lines into the list"
   ]
  },
  {
   "cell_type": "code",
   "execution_count": 9,
   "metadata": {},
   "outputs": [
    {
     "name": "stdout",
     "output_type": "stream",
     "text": [
      "venkatesh\n",
      "taddi\n",
      "7386624002\n"
     ]
    }
   ],
   "source": [
    "f=open('abc.txt','r')\n",
    "data=f.read()\n",
    "print(data)\n",
    "f.close()"
   ]
  },
  {
   "cell_type": "code",
   "execution_count": 20,
   "metadata": {},
   "outputs": [
    {
     "name": "stdout",
     "output_type": "stream",
     "text": [
      "['sunny\\n', 'bunny\\n', 'vinny\\n', 'chinny\\n']\n"
     ]
    }
   ],
   "source": [
    "f=open('abcd.txt','r')\n",
    "# data=f.read()\n",
    "da=f.readlines()\n",
    "print(da)\n",
    "# print(data)\n",
    "f.close()"
   ]
  },
  {
   "cell_type": "markdown",
   "metadata": {},
   "source": [
    "the with statement:\n",
    "--------------------\n",
    "\n"
   ]
  }
 ],
 "metadata": {
  "kernelspec": {
   "display_name": "Python 3",
   "language": "python",
   "name": "python3"
  },
  "language_info": {
   "codemirror_mode": {
    "name": "ipython",
    "version": 3
   },
   "file_extension": ".py",
   "mimetype": "text/x-python",
   "name": "python",
   "nbconvert_exporter": "python",
   "pygments_lexer": "ipython3",
   "version": "3.11.4"
  }
 },
 "nbformat": 4,
 "nbformat_minor": 2
}
