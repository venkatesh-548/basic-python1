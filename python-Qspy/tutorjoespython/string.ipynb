{
 "cells": [
  {
   "cell_type": "code",
   "execution_count": 1,
   "metadata": {},
   "outputs": [
    {
     "name": "stdout",
     "output_type": "stream",
     "text": [
      "length of the string is:10\n"
     ]
    }
   ],
   "source": [
    "# 1. Write a Python program to calculate the length of a string.\n",
    "\n",
    "s=\"Tutor Joes\"\n",
    "print(f\"length of the string is:{len(s)}\")"
   ]
  },
  {
   "cell_type": "code",
   "execution_count": 2,
   "metadata": {},
   "outputs": [
    {
     "name": "stdout",
     "output_type": "stream",
     "text": [
      "{'t': 2, 'u': 1, 'o': 2, 'r': 1, 'j': 1, 'e': 1, 's': 1}\n"
     ]
    }
   ],
   "source": [
    "#2. Write a Python program to count the number of characters (character frequency) in a string.\n",
    "\n",
    "s=\"tutorjoes\"\n",
    "st={}\n",
    "for i in s:\n",
    "    if i not in st:\n",
    "        st[i]=1\n",
    "    else:\n",
    "        st[i]+=1\n",
    "print(st)\n"
   ]
  },
  {
   "cell_type": "code",
   "execution_count": 9,
   "metadata": {},
   "outputs": [
    {
     "name": "stdout",
     "output_type": "stream",
     "text": [
      "tu@orj@es\n"
     ]
    }
   ],
   "source": [
    "# 3. Write a Python program to get a string from a given string where all occurrences of its first char have been changed to '@', except the first char itself.\n",
    "\n",
    "s=\"tutorjoes\"\n",
    "st=\"\"\n",
    "for i in s:\n",
    "    if i not in st:\n",
    "        st+=i\n",
    "    else:\n",
    "        st+=\"@\"\n",
    "print(st)"
   ]
  },
  {
   "cell_type": "code",
   "execution_count": 5,
   "metadata": {},
   "outputs": [
    {
     "data": {
      "text/plain": [
       "'you are how hello hai '"
      ]
     },
     "execution_count": 5,
     "metadata": {},
     "output_type": "execute_result"
    }
   ],
   "source": [
    "# Reverse words in a given String in Python\n",
    "\n",
    "s=\"hai hello how are you\"\n",
    "def rev(s,res=\"\",l=[],temp=\"\"):\n",
    "    for i in s:\n",
    "        if i!=\" \":\n",
    "            res+=i\n",
    "        else:\n",
    "            l+=[res]\n",
    "            res=\"\"\n",
    "    l+=[res]\n",
    "    for j in l:\n",
    "        temp=j+\" \"+temp\n",
    "    return temp\n",
    "rev(s)"
   ]
  },
  {
   "cell_type": "code",
   "execution_count": 7,
   "metadata": {},
   "outputs": [
    {
     "data": {
      "text/plain": [
       "'hellohai'"
      ]
     },
     "execution_count": 7,
     "metadata": {},
     "output_type": "execute_result"
    }
   ],
   "source": [
    "# Ways to remove i’th character from string in Python\n",
    "\n",
    "s=\"hello123hai\"\n",
    "def rem(s,res=\"\"):\n",
    "    for i in s:\n",
    "        if \"0\"<=i<=\"9\":\n",
    "            res+=\"\"\n",
    "        else:\n",
    "            res+=i\n",
    "    return res\n",
    "rem(s)"
   ]
  },
  {
   "cell_type": "code",
   "execution_count": 11,
   "metadata": {},
   "outputs": [
    {
     "name": "stdout",
     "output_type": "stream",
     "text": [
      "haii hellow yoou "
     ]
    }
   ],
   "source": [
    "# Python program to print even length words in a string\n",
    "\n",
    "s=\"haii hellow how are yoou\"\n",
    "def even_len(s,res=\"\",l=[]):\n",
    "    for k in s:\n",
    "        if k!=\" \":\n",
    "            res+=k\n",
    "        else:\n",
    "            l+=[res]\n",
    "            res=\"\"\n",
    "    else:\n",
    "        l+=[res]      \n",
    "    for i in l:\n",
    "        if len(i)%2==0:\n",
    "            print(i,end=\" \")\n",
    "even_len(s)"
   ]
  },
  {
   "cell_type": "code",
   "execution_count": null,
   "metadata": {},
   "outputs": [],
   "source": [
    "# Python – Uppercase Half String\n",
    "\n",
    "s="
   ]
  },
  {
   "cell_type": "code",
   "execution_count": null,
   "metadata": {},
   "outputs": [],
   "source": []
  },
  {
   "cell_type": "code",
   "execution_count": null,
   "metadata": {},
   "outputs": [],
   "source": []
  },
  {
   "cell_type": "code",
   "execution_count": null,
   "metadata": {},
   "outputs": [],
   "source": []
  },
  {
   "cell_type": "code",
   "execution_count": null,
   "metadata": {},
   "outputs": [],
   "source": []
  },
  {
   "cell_type": "code",
   "execution_count": null,
   "metadata": {},
   "outputs": [],
   "source": []
  },
  {
   "cell_type": "code",
   "execution_count": null,
   "metadata": {},
   "outputs": [],
   "source": []
  },
  {
   "cell_type": "code",
   "execution_count": null,
   "metadata": {},
   "outputs": [],
   "source": []
  },
  {
   "cell_type": "code",
   "execution_count": null,
   "metadata": {},
   "outputs": [],
   "source": []
  }
 ],
 "metadata": {
  "kernelspec": {
   "display_name": "Python 3",
   "language": "python",
   "name": "python3"
  },
  "language_info": {
   "codemirror_mode": {
    "name": "ipython",
    "version": 3
   },
   "file_extension": ".py",
   "mimetype": "text/x-python",
   "name": "python",
   "nbconvert_exporter": "python",
   "pygments_lexer": "ipython3",
   "version": "3.11.4"
  },
  "orig_nbformat": 4
 },
 "nbformat": 4,
 "nbformat_minor": 2
}
