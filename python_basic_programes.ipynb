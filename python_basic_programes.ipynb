{
 "cells": [
  {
   "cell_type": "code",
   "execution_count": 1,
   "metadata": {},
   "outputs": [
    {
     "name": "stdout",
     "output_type": "stream",
     "text": [
      "hello world\n"
     ]
    }
   ],
   "source": [
    "# 1 to print the hello word using the shell\n",
    "\n",
    "print(\"hello world\")"
   ]
  },
  {
   "cell_type": "code",
   "execution_count": 2,
   "metadata": {},
   "outputs": [
    {
     "name": "stdout",
     "output_type": "stream",
     "text": [
      "a= 50\n"
     ]
    }
   ],
   "source": [
    "# 2 to print variable and value as 50\n",
    "\n",
    "a=50\n",
    "print(\"a=\",a)"
   ]
  },
  {
   "cell_type": "code",
   "execution_count": 5,
   "metadata": {},
   "outputs": [
    {
     "name": "stdout",
     "output_type": "stream",
     "text": [
      "a,b,c= 10 20 30\n"
     ]
    }
   ],
   "source": [
    "# 3vto inetialize multiple values into the multiple variables\n",
    "\n",
    "a,b,c=10,20,30\n",
    "print(\"a,b,c=\",a,b,c)"
   ]
  },
  {
   "cell_type": "code",
   "execution_count": 6,
   "metadata": {},
   "outputs": [
    {
     "name": "stdout",
     "output_type": "stream",
     "text": [
      "<class 'str'>\n"
     ]
    }
   ],
   "source": [
    "# 4to print the type of the given data\n",
    "\n",
    "a=\"str\"\n",
    "print(type(a))"
   ]
  },
  {
   "cell_type": "code",
   "execution_count": 3,
   "metadata": {},
   "outputs": [
    {
     "name": "stdout",
     "output_type": "stream",
     "text": [
      "140721051588544\n",
      "140721051588544\n",
      "True\n"
     ]
    }
   ],
   "source": [
    "# 5 toto print the address of the variable\n",
    "\n",
    "a=10\n",
    "print(id(a))\n",
    "\n",
    "b=10\n",
    "print(id(b))\n",
    "\n",
    "print((a) is (b))"
   ]
  },
  {
   "cell_type": "code",
   "execution_count": 4,
   "metadata": {},
   "outputs": [
    {
     "name": "stdout",
     "output_type": "stream",
     "text": [
      "venky\n"
     ]
    }
   ],
   "source": [
    "# 6 to print your details and extract your name\n",
    "\n",
    "d={\"no\":548,\"name\":\"venky\",\"phone\":7386624004,\"email\":\"venky@gmail.com\"}\n",
    "\n",
    "print(d[\"name\"])"
   ]
  },
  {
   "cell_type": "code",
   "execution_count": 6,
   "metadata": {},
   "outputs": [
    {
     "name": "stdout",
     "output_type": "stream",
     "text": [
      "venky\n",
      "7386624004\n"
     ]
    }
   ],
   "source": [
    "# 7 to print your details and extract your name\n",
    "\n",
    "name=\"venky\"\n",
    "no=548\n",
    "phone=7386624004\n",
    "\n",
    "print(name)\n",
    "print(phone)\n"
   ]
  },
  {
   "cell_type": "code",
   "execution_count": 8,
   "metadata": {},
   "outputs": [
    {
     "name": "stdout",
     "output_type": "stream",
     "text": [
      "a= 20 b= 10\n"
     ]
    }
   ],
   "source": [
    "# 8 was to swap the variable with the temp\n",
    "\n",
    "a=10\n",
    "b=20\n",
    "temp=a\n",
    "a=b\n",
    "b=temp\n",
    "print(\"a=\",a,\"b=\",b)"
   ]
  },
  {
   "cell_type": "code",
   "execution_count": 9,
   "metadata": {},
   "outputs": [
    {
     "name": "stdout",
     "output_type": "stream",
     "text": [
      "a= 200 b= 100\n"
     ]
    }
   ],
   "source": [
    "# 9 was to swap the variable with out the temp variable\n",
    "a=100\n",
    "b=200\n",
    "a,b=b,a\n",
    "print(\"a=\",a,\"b=\",b)\n"
   ]
  },
  {
   "cell_type": "code",
   "execution_count": 11,
   "metadata": {},
   "outputs": [
    {
     "name": "stdout",
     "output_type": "stream",
     "text": [
      "[10, 20, 30, 40]\n",
      "[10, 50, 30, 40]\n",
      "{'a': 10, 'b': 20, 'c': 50}\n"
     ]
    }
   ],
   "source": [
    "# 10 was to inetialize the a value to the variable and re-inetialize a new value to the exesting variable\n",
    "\n",
    "l=[10,20,30,40] # inetialize \n",
    "print(l)\n",
    "l[1]=50 #re inetialize\n",
    "print(l)\n",
    "\n",
    "d={\"a\":10,\"b\":20,\"c\":30}\n",
    "\n",
    "d[\"c\"]=50\n",
    "print(d)"
   ]
  },
  {
   "cell_type": "code",
   "execution_count": 16,
   "metadata": {},
   "outputs": [
    {
     "name": "stdout",
     "output_type": "stream",
     "text": [
      "b= 10\n",
      "['1', '0']\n"
     ]
    }
   ],
   "source": [
    "# 11 was to convert the single to the multivalue datatype\n",
    "#ip=10 o/p=[\"1\"\"0\"]\n",
    "\n",
    "a=10\n",
    "b=str(a)\n",
    "print(\"b=\",b)\n",
    "print(list(b))\n",
    "\n",
    "\n"
   ]
  },
  {
   "cell_type": "code",
   "execution_count": 18,
   "metadata": {},
   "outputs": [
    {
     "name": "stdout",
     "output_type": "stream",
     "text": [
      "hello world\n",
      "[10, 20, 30, 40, 50]\n",
      "('a', 'b', 'c', 'c', 'd')\n"
     ]
    }
   ],
   "source": [
    "#12 to concat the two multivalue data types (str,list,tuple)\n",
    "\n",
    "a=\"hello\"\n",
    "a+=\" world\"\n",
    "print(a)\n",
    "\n",
    "l=[10,20,30]\n",
    "l+=[40,50]\n",
    "print(l)\n",
    "\n",
    "t=(\"a\",\"b\",\"c\")\n",
    "t+=(\"c\",\"d\")\n",
    "print(t)"
   ]
  },
  {
   "cell_type": "code",
   "execution_count": 19,
   "metadata": {},
   "outputs": [
    {
     "name": "stdout",
     "output_type": "stream",
     "text": [
      "5\n"
     ]
    }
   ],
   "source": [
    "# 13 to check the length of collection\n",
    "s={10,20,30,40,50}\n",
    "\n",
    "print(len(s))"
   ]
  },
  {
   "cell_type": "code",
   "execution_count": 20,
   "metadata": {},
   "outputs": [
    {
     "name": "stdout",
     "output_type": "stream",
     "text": [
      "30\n"
     ]
    }
   ],
   "source": [
    "#14 to check find out the middle value of the given collection\n",
    "l=[10,20,30,40]\n",
    "print(l[len(l)//2])"
   ]
  },
  {
   "cell_type": "code",
   "execution_count": 21,
   "metadata": {},
   "outputs": [
    {
     "name": "stdout",
     "output_type": "stream",
     "text": [
      "haiihow r u\n"
     ]
    }
   ],
   "source": [
    "#15 to concat the new string into starting of given string\n",
    "a=\"how r u\"\n",
    "b=\"haii\"\n",
    "print(b+a)"
   ]
  },
  {
   "cell_type": "code",
   "execution_count": null,
   "metadata": {},
   "outputs": [],
   "source": []
  },
  {
   "cell_type": "code",
   "execution_count": null,
   "metadata": {},
   "outputs": [],
   "source": []
  },
  {
   "cell_type": "code",
   "execution_count": null,
   "metadata": {},
   "outputs": [],
   "source": []
  }
 ],
 "metadata": {
  "kernelspec": {
   "display_name": "Python 3",
   "language": "python",
   "name": "python3"
  },
  "language_info": {
   "codemirror_mode": {
    "name": "ipython",
    "version": 3
   },
   "file_extension": ".py",
   "mimetype": "text/x-python",
   "name": "python",
   "nbconvert_exporter": "python",
   "pygments_lexer": "ipython3",
   "version": "3.8.2"
  },
  "orig_nbformat": 4
 },
 "nbformat": 4,
 "nbformat_minor": 2
}
